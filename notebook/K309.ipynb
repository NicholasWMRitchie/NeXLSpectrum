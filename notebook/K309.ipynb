{
 "cells": [
  {
   "cell_type": "markdown",
   "source": [
    "## Quantifying a Spectrum\n",
    "\n",
    "#### Note:  This notebook uses some archaic syntax that is not necessary if the `reference` and `references` functions are used to build the fitting standards.\n",
    "\n",
    "This script show how to pull together the functionality in the NeXL X-ray microanalysis library to quantify a electron-excited X-ray spectrum using standard spectra.\n",
    "\n",
    "First, we need to load the necessary libraries - `NeXLSpectrum` and `NeXLMatrixCorrection` from NeXL, `Gadfly` for plotting and `DataFrames` for tabulation. "
   ],
   "metadata": {}
  },
  {
   "cell_type": "code",
   "execution_count": null,
   "source": [
    "using NeXLSpectrum\r\n",
    "using NeXLMatrixCorrection\r\n",
    "using Gadfly\r\n",
    "using DataFrames"
   ],
   "outputs": [],
   "metadata": {}
  },
  {
   "cell_type": "markdown",
   "source": [
    "Next we specify where the spectra are located and load the spectrum from a file.  `loadspectrum(...)` can sniff the format of a spectrum file and load 'ISO/EMSA', 'ASPEX TIFF' and 'Bruker SPX' files automatically.\n",
    "\n",
    "Once the spectrum is loaded into `unk`, we use the data in `unk` to build a suitable detector with a FWHM at Mn K$\\alpha$ of 132.0 eV and a low-level discriminator cut-off of 120 channels.  Finally, we set the `:Detector` property of the spectrum to `det`.\n",
    "\n",
    "Finally, we use `Gadfly`, which `NeXLSpectrum` has specialized to understand `Spectrum` structures, to plot the spectrum with KLM markers from 0.0 eV to 8,000 eV."
   ],
   "metadata": {}
  },
  {
   "cell_type": "code",
   "execution_count": null,
   "source": [
    "path = \"K309\"\r\n",
    "unk = loadspectrum(joinpath(path,\"K309.msa\"))\r\n",
    "det = matching(unk, 132.0, 120)\r\n",
    "unk[:Detector] = det\r\n",
    "set_default_plot_size(10inch,2.8inch)\r\n",
    "plot(unk, klms=[n\"O\", n\"Al\", n\"Si\", n\"Ca\", n\"Fe\", n\"Ba\"], xmax=8.0e3)"
   ],
   "outputs": [],
   "metadata": {}
  },
  {
   "cell_type": "markdown",
   "source": [
    "Next, we define and load the reference spectra.  Here we use `n\"..\"` notation to parse the element symbol and `mat\"...\"` to parse the composition."
   ],
   "metadata": {}
  },
  {
   "cell_type": "code",
   "execution_count": null,
   "source": [
    "refs = ( \r\n",
    "    ( n\"O\", \"Al2O3 std.msa\", mat\"Al2O3\" ),\r\n",
    "    ( n\"Al\", \"Al2O3 std.msa\", mat\"Al2O3\" ),\r\n",
    "    ( n\"Si\", \"Si std.msa\", mat\"Si\" ),\r\n",
    "    ( n\"Ca\", \"CaF2 std.msa\", mat\"CaF2\" ),\r\n",
    "    ( n\"Fe\", \"Fe std.msa\", mat\"Fe\" ),\r\n",
    "    ( n\"Ba\", \"BaF2 std.msa\", mat\"BaF2\" )\r\n",
    ")\r\n",
    "refspecs = Dict()\r\n",
    "for (elm, file, comp) in refs\r\n",
    "    spec = loadspectrum(joinpath(path,file))\r\n",
    "    spec[:Detector] = det\r\n",
    "    spec[:Composition] = comp\r\n",
    "    refspecs[elm] = spec\r\n",
    "end\r\n",
    "plot(values(refspecs)..., autoklms=true, xmax=8.0e3, norm=ScaleDose())"
   ],
   "outputs": [],
   "metadata": {}
  },
  {
   "cell_type": "markdown",
   "source": [
    "To perform a top-hat filter-fit, we must first filter the reference spectra.  Each spectrum can contribute one or more `Reference[..]` datums depending upon how many contiguous regions of channels are represented by the element for which the spectrum is a reference.\n",
    "\n",
    "`buildfilter(...)` builds the matrix which represents the top-hat filter.\n",
    "\n",
    "`filterreference(...)` applies the filter to the reference spectrum. In this case it creates 8 `Reference[...]` structures for 6 elements."
   ],
   "metadata": {}
  },
  {
   "cell_type": "code",
   "execution_count": null,
   "source": [
    "filt = buildfilter(det)\r\n",
    "frs = mapreduce(elm->filterreference(filt, refspecs[elm], elm, refspecs[elm][:Composition]), append!, keys(refspecs))"
   ],
   "outputs": [],
   "metadata": {}
  },
  {
   "cell_type": "markdown",
   "source": [
    "Finally, we apply the filter to the unknown and fit the filtered references.  The `false` says that negative k-ratios should not be set to zero and the fit repeated with that element removed.\n",
    "\n",
    "The results are tabulated as a `DataFrame`"
   ],
   "metadata": {}
  },
  {
   "cell_type": "code",
   "execution_count": null,
   "source": [
    "ENV[\"LINES\"] = 60; ENV[\"COLUMNS\"]=120\r\n",
    "res=fit_spectrum(unk, filt, frs, false)\r\n",
    "asa(DataFrame,res)"
   ],
   "outputs": [],
   "metadata": {}
  },
  {
   "cell_type": "markdown",
   "source": [
    "To visualize these results, `Gadfly` has been specialized to plot `FilterFitResult` objects like this.  The plot shows the range of channels involved in each fitted ROI along with the associated k-ratio.  The red line is the filter fit residual.  It shows which x-rays were not accounted for as characteristic X-rays in one of the references.  You can use the residual to determine if any elements have been overlooked.\n",
    "\n",
    "You can see that some of the ROIs are narrow (like the O K) while others are broad (like the Ba L). You can also see which ROIs interfere with each other (like the O K and Fe L or the Al K and Si K)."
   ],
   "metadata": {}
  },
  {
   "cell_type": "code",
   "execution_count": null,
   "source": [
    "plot(res)"
   ],
   "outputs": [],
   "metadata": {}
  },
  {
   "cell_type": "markdown",
   "source": [
    "The final step is to take the k-ratios and use iteration to estimate the composition."
   ],
   "metadata": {}
  },
  {
   "cell_type": "code",
   "execution_count": null,
   "source": [
    "ENV[\"LINES\"] = 60; ENV[\"COLUMNS\"]=200\r\n",
    "iterres = quantify(res, mc=XPP)\r\n",
    "asa(DataFrame, iterres)"
   ],
   "outputs": [],
   "metadata": {}
  },
  {
   "cell_type": "code",
   "execution_count": null,
   "source": [
    "asa(DataFrame, [ iterres.comp ])"
   ],
   "outputs": [],
   "metadata": {
    "tags": []
   }
  }
 ],
 "metadata": {
  "kernelspec": {
   "display_name": "Julia (4 threads) 1.6",
   "language": "julia",
   "name": "julia-(4-threads)-1.6"
  },
  "language_info": {
   "file_extension": ".jl",
   "name": "julia",
   "mimetype": "application/julia",
   "version": "1.6.2"
  },
  "nteract": {
   "version": "0.23.3"
  }
 },
 "nbformat": 4,
 "nbformat_minor": 4
}