{
 "cells": [
  {
   "cell_type": "markdown",
   "source": [
    "# Duane-Hunt\n",
    "Consider using the Duane-Hunt limit as the beam energy when quantifying a set of K412 spectra.  The Duane-Hunt limit is the energy at which the continuum signal drops to zero."
   ],
   "metadata": {
    "nteract": {
     "transient": {
      "deleting": false
     }
    }
   }
  },
  {
   "cell_type": "code",
   "execution_count": null,
   "source": [
    "using NeXLSpectrum\r\n",
    "using NeXLMatrixCorrection\r\n",
    "using Statistics\r\n",
    "using DataFrames\r\n",
    "using Gadfly\r\n",
    "path = joinpath(@__DIR__,\"..\",\"test\")\r\n",
    "\r\n",
    "al2o3 = sum(findsimilar(loadspectrum.(joinpath(path,\"Multi-keV\", \"20 keV\", \"IIIE Al2O3[$i][4].msa\") for i in 0:4)))\r\n",
    "sio2 = sum(findsimilar(loadspectrum.(joinpath(path,\"Multi-keV\", \"20 keV\", \"IIIE SiO2[$i][4].msa\") for i in 0:4)))\r\n",
    "fe = sum(findsimilar(loadspectrum.(joinpath(path,\"Multi-keV\", \"20 keV\", \"IIIE Fe[$i][4].msa\") for i in 0:4)))\r\n",
    "caf2 = sum(findsimilar(loadspectrum.(joinpath(path,\"Multi-keV\", \"20 keV\", \"IIIE CaF2[$i][4].msa\") for i in 0:4)))\r\n",
    "mgo = sum(findsimilar(loadspectrum.(joinpath(path,\"Multi-keV\", \"20 keV\", \"IIIE MgO[$i][4].msa\") for i in 0:4)))\r\n",
    "unk20 = loadspectrum.(joinpath(path,\"Multi-keV\", \"20 keV\", \"IIIE K412[$i][4].msa\") for i in 0:4)\r\n",
    "\r\n",
    "refs20 = references( [\r\n",
    "    reference( n\"Al\", al2o3 ),\r\n",
    "    reference( n\"Si\", sio2 ),\r\n",
    "    reference( n\"O\", sio2 ),\r\n",
    "    reference( n\"Fe\", fe ),\r\n",
    "    reference( n\"Ca\", caf2 ),\r\n",
    "    reference( n\"Mg\", mgo ),\r\n",
    "], 132.0)\r\n",
    "\r\n",
    "q20 = map(s->quantify(s, refs20), unk20)\r\n",
    "# show(NeXLMatrixCorrection.describe(q20))\r\n",
    "m20 = mean(material.(q20))\r\n",
    "ENV[\"columns\"]=300\r\n",
    "asa(DataFrame, q20, nominal = srm470_k412)"
   ],
   "outputs": [],
   "metadata": {
    "collapsed": false,
    "jupyter": {
     "outputs_hidden": false,
     "source_hidden": false
    },
    "nteract": {
     "transient": {
      "deleting": false
     }
    }
   }
  },
  {
   "cell_type": "code",
   "execution_count": null,
   "source": [
    "foreach(s->property!(s, :BeamEnergy, duane_hunt(s)), (al2o3, sio2, fe, mgo, caf2, unk20...))"
   ],
   "outputs": [],
   "metadata": {
    "collapsed": false,
    "jupyter": {
     "outputs_hidden": false,
     "source_hidden": false
    },
    "nteract": {
     "transient": {
      "deleting": false
     }
    }
   }
  },
  {
   "cell_type": "code",
   "execution_count": null,
   "source": [
    "set_default_plot_size(8inch,3inch)\r\n",
    "plot(al2o3, sio2, fe, mgo, caf2, duanehunt=true, xmin=19.0e3, xmax=21.0e3)"
   ],
   "outputs": [],
   "metadata": {
    "collapsed": false,
    "jupyter": {
     "outputs_hidden": false,
     "source_hidden": false
    },
    "nteract": {
     "transient": {
      "deleting": false
     }
    }
   }
  },
  {
   "cell_type": "code",
   "execution_count": null,
   "source": [
    "q20 = map(s->quantify(s, refs20), unk20)\r\n",
    "# show(NeXLMatrixCorrection.describe(q20))\r\n",
    "m20 = mean(material.(q20))\r\n",
    "asa(DataFrame, q20, nominal = srm470_k412)"
   ],
   "outputs": [],
   "metadata": {
    "collapsed": false,
    "jupyter": {
     "outputs_hidden": false,
     "source_hidden": false
    },
    "nteract": {
     "transient": {
      "deleting": false
     }
    }
   }
  }
 ],
 "metadata": {
  "kernel_info": {
   "name": "julia-(4-threads)-1.6"
  },
  "kernelspec": {
   "display_name": "Julia (4 threads) 1.6",
   "language": "julia",
   "name": "julia-(4-threads)-1.6"
  },
  "language_info": {
   "file_extension": ".jl",
   "mimetype": "application/julia",
   "name": "julia",
   "version": "1.6.1"
  },
  "nteract": {
   "version": "0.28.0"
  }
 },
 "nbformat": 4,
 "nbformat_minor": 4
}