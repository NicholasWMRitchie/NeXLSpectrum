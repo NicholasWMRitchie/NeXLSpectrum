{
 "cells": [
  {
   "cell_type": "markdown",
   "metadata": {
    "nteract": {
     "transient": {
      "deleting": false
     }
    }
   },
   "source": [
    "# LLSQ Fit\n",
    "Use background corrected reference spectra to fit an unknown. "
   ]
  },
  {
   "cell_type": "code",
   "execution_count": null,
   "metadata": {
    "collapsed": false,
    "jupyter": {
     "outputs_hidden": false,
     "source_hidden": false
    },
    "nteract": {
     "transient": {
      "deleting": false
     }
    }
   },
   "outputs": [],
   "source": [
    "using NeXLSpectrum\n",
    "using DataFrames, Gadfly, CSV\n",
    "using LinearAlgebra"
   ]
  },
  {
   "cell_type": "markdown",
   "metadata": {
    "nteract": {
     "transient": {
      "deleting": false
     }
    }
   },
   "source": [
    "Load the unknown spectrum and the reference spectra.  Plot them."
   ]
  },
  {
   "cell_type": "code",
   "execution_count": null,
   "metadata": {
    "collapsed": false,
    "jupyter": {
     "outputs_hidden": false,
     "source_hidden": false
    },
    "nteract": {
     "transient": {
      "deleting": false
     }
    }
   },
   "outputs": [],
   "source": [
    "path = joinpath(@__DIR__,\"K309\")\n",
    "unk = loadspectrum(joinpath(path, \"K309.msa\"))\n",
    "unk[:Composition]=parse(Material, \"0.3872*O+0.0794*Al+0.1870*Si+0.1072*Ca+0.1049*Fe+0.1343*Ba\", name=\"K309\")\n",
    "unk[:Coating]=Film(parse(Material,\"C\",density=1.9),10.0e-7)\n",
    "stds = map((\"Al2O3\", \"BaF2\", \"CaF2\", \"Fe\", \"Si\", \"Ti\" )) do fn \n",
    "  s = loadspectrum(joinpath(path,\"$fn std.msa\"))\n",
    "  s[:Composition]=parse(Material,fn)\n",
    "  s[:Coating]=Film(parse(Material,\"C\",density=1.9),10.0e-7)\n",
    "  s\n",
    "end\n",
    "elems = collect(elms(unk, true))\n",
    "set_default_plot_size(8inch,4inch)\n",
    "plot(unk,stds...,klms=elems,xmax=8.0e3)"
   ]
  },
  {
   "cell_type": "code",
   "execution_count": null,
   "metadata": {
    "collapsed": false,
    "jupyter": {
     "outputs_hidden": false,
     "source_hidden": false
    },
    "nteract": {
     "transient": {
      "deleting": false
     }
    }
   },
   "outputs": [],
   "source": [
    "det = matching(unk,132.0, 110)\n",
    "resp = detectorresponse(det,SDDEfficiency(ModeledWindow(MoxtekAP33())))\n",
    "\n",
    "unkb = fittedcontinuum(unk, det, resp)\n",
    "stdsb = map(s->fittedcontinuum(s, det, resp), stds);"
   ]
  },
  {
   "cell_type": "code",
   "execution_count": null,
   "metadata": {},
   "outputs": [],
   "source": [
    "plot(Iterators.flatten(zip(stdsb, stds))..., xmax=8.0e3, yscale=0.008)"
   ]
  },
  {
   "cell_type": "code",
   "execution_count": null,
   "metadata": {
    "collapsed": false,
    "jupyter": {
     "outputs_hidden": false,
     "source_hidden": false
    },
    "nteract": {
     "transient": {
      "deleting": false
     }
    }
   },
   "outputs": [],
   "source": [
    "plot(unkb, unk, autoklms=true,xmax=8.0e3, yscale=0.04) "
   ]
  },
  {
   "cell_type": "code",
   "execution_count": null,
   "metadata": {
    "collapsed": false,
    "jupyter": {
     "outputs_hidden": false,
     "source_hidden": false
    },
    "nteract": {
     "transient": {
      "deleting": false
     }
    }
   },
   "outputs": [],
   "source": [
    "unkc = subtractcontinuum(unk, det, resp)\n",
    "stdsc = map(s->subtractcontinuum(s, det, resp), stds)\n",
    "plot(unkc, stdsc..., autoklms=true, xmax=8.0e3, yscale=0.01)"
   ]
  },
  {
   "cell_type": "code",
   "execution_count": null,
   "metadata": {
    "collapsed": false,
    "jupyter": {
     "outputs_hidden": false,
     "source_hidden": false
    },
    "nteract": {
     "transient": {
      "deleting": false
     }
    }
   },
   "outputs": [],
   "source": [
    "plot(stdsc[4], autoklms=true, xmax=8.0e3, yscale=0.01)"
   ]
  },
  {
   "cell_type": "markdown",
   "metadata": {},
   "source": [
    "Seems to work - at least the basic concept."
   ]
  },
  {
   "cell_type": "code",
   "execution_count": null,
   "metadata": {
    "collapsed": false,
    "jupyter": {
     "outputs_hidden": false,
     "source_hidden": false
    },
    "nteract": {
     "transient": {
      "deleting": false
     }
    }
   },
   "outputs": [],
   "source": [
    "function fit_spectrum(\n",
    "    spec::Spectrum, \n",
    "    refs::Dict{Element, <:Spectrum}, \n",
    "    det::EDSDetector,\n",
    "    resp::AbstractArray{<:Real,2};\n",
    "    brem::Type{<:NeXLBremsstrahlung} = Castellano2004a,\n",
    "    mc::Type{<:MatrixCorrection} = Riveros1993,\n",
    " )# ::Vector{KRatio}\n",
    "  cuds = []\n",
    "  for (elm, ref) in refs\n",
    "    cmod = ContinuumModel(\n",
    "         ref[:Composition],\n",
    "         ref[:BeamEnergy],\n",
    "         ref[:TakeOffAngle],\n",
    "         matrixcorrection = mc,\n",
    "         bremsstrahlung = brem)\n",
    "    model = resp * map(e -> e > 50.0 ? emitted(cmod, e) : 0.0, energyscale(spec))\n",
    "    cud = map(NeXLSpectrum.labeledextents(characteristic(elm, alltransitions, 0.001), det, 0.001)) do le\n",
    "       cxrs, ur = le \n",
    "       ( cxrs, ur, ref[ur]-model[ur], ref )\n",
    "    end\n",
    "    append!(cuds, cud)  \n",
    "  end\n",
    "  ascontiguous = let\n",
    "    scuds = sort(cuds, lt=(c1,c2)->first(c1[2])<first(c2[2]))\n",
    "    res = [ scuds[1][2] ]\n",
    "    for (_, roi, _, _) in scuds[2:end]\n",
    "      if length(intersect(res[end], roi)) > 0\n",
    "        res[end] = min(first(roi), first(res[end])):max(last(roi), last(res[end]))\n",
    "      else\n",
    "        push!(res, roi)\n",
    "      end\n",
    "    end\n",
    "    res\n",
    "  end\n",
    "  cmod = ContinuumModel(\n",
    "         unk[:Composition],\n",
    "         unk[:BeamEnergy],\n",
    "         unk[:TakeOffAngle],\n",
    "         matrixcorrection = mc,\n",
    "         bremsstrahlung = brem)\n",
    "  model = resp * map(e -> e > 50.0 ? emitted(cmod, e) : 0.0, energyscale(spec))\n",
    "  y = counts(unk) - model\n",
    "  res = UncertainValues[]\n",
    "  for roi in ascontiguous\n",
    "    fcuds = filter(cud->length(intersect(cud[2], roi))>0, cuds)\n",
    "    a = zeros(Float64, (length(roi), length(fcuds)))\n",
    "    labels, scales = Label[], Float64[]\n",
    "    for (i, cud) in enumerate(fcuds)\n",
    "      (cxrs, croi, cdata, cref) = cud\n",
    "      a[first(croi)-first(roi)+1:last(croi)-first(roi)+1,i] = cdata\n",
    "      push!(labels, CharXRayLabel(spec, croi, cxrs))\n",
    "      push!(scales, dose(cref) / dose(unk))\n",
    "    end\n",
    "    push!(res, diagm(scales)*NeXLSpectrum.olspinv(y[roi], a, 1.0, labels))\n",
    "  end\n",
    "  return cat(res...)\n",
    "end"
   ]
  },
  {
   "cell_type": "code",
   "execution_count": null,
   "metadata": {
    "collapsed": false,
    "jupyter": {
     "outputs_hidden": false,
     "source_hidden": false
    },
    "nteract": {
     "transient": {
      "deleting": false
     }
    },
    "tags": []
   },
   "outputs": [],
   "source": [
    "refs = Dict(n\"O\"=>stds[1],n\"Ba\"=>stds[2],n\"Ca\"=>stds[3],n\"Fe\"=>stds[4],n\"Si\"=>stds[5],n\"Ti\"=>stds[6])\n",
    "fit_spectrum(unk, refs, det, resp)"
   ]
  },
  {
   "cell_type": "markdown",
   "metadata": {},
   "source": [
    "Let's compare this to the filter-fit result."
   ]
  },
  {
   "cell_type": "code",
   "execution_count": null,
   "metadata": {},
   "outputs": [],
   "source": [
    "ffrs = references( [\n",
    "        reference(n\"O\", stds[1]),\n",
    "        reference(n\"Ba\", stds[2]),\n",
    "        reference(n\"Ca\", stds[3]),\n",
    "        reference(n\"Fe\", stds[4]),\n",
    "        reference(n\"Si\", stds[5]),\n",
    "        reference(n\"Ti\", stds[6])\n",
    "    ], det)\n",
    "ffres=NeXLSpectrum.fit_spectrum(unk, ffrs)\n",
    "asa(DataFrame, ffres)"
   ]
  },
  {
   "cell_type": "markdown",
   "metadata": {},
   "source": [
    "Clearly, there is some similarity between the numbers but the agreement is not what I'd like.\n",
    "\n",
    "Who do you trust?  Well, I trust the filter-fit results.  I'm very confident that the filter-fit algorithm produces accurate k-ratios.  Less so for the background corrected fit.\n",
    "\n",
    "NWMR"
   ]
  }
 ],
 "metadata": {
  "kernel_info": {
   "name": "julia-(4-threads)-1.6"
  },
  "kernelspec": {
   "display_name": "Julia (4 threads) 1.6",
   "language": "julia",
   "name": "julia-(4-threads)-1.6"
  },
  "language_info": {
   "file_extension": ".jl",
   "mimetype": "application/julia",
   "name": "julia",
   "version": "1.6.2"
  },
  "nteract": {
   "version": "0.28.0"
  }
 },
 "nbformat": 4,
 "nbformat_minor": 4
}
