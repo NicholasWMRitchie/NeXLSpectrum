{
 "cells": [
  {
   "cell_type": "markdown",
   "source": [
    "# LLSQ Fit\n",
    "Use background corrected reference spectra to fit an unknown. "
   ],
   "metadata": {
    "nteract": {
     "transient": {
      "deleting": false
     }
    }
   }
  },
  {
   "cell_type": "code",
   "execution_count": null,
   "source": [
    "using NeXLSpectrum\r\n",
    "using DataFrames, Gadfly, CSV\r\n",
    "using LinearAlgebra"
   ],
   "outputs": [],
   "metadata": {
    "collapsed": false,
    "jupyter": {
     "outputs_hidden": false,
     "source_hidden": false
    },
    "nteract": {
     "transient": {
      "deleting": false
     }
    }
   }
  },
  {
   "cell_type": "markdown",
   "source": [
    "Load the unknown spectrum and the reference spectra.  Plot them."
   ],
   "metadata": {
    "nteract": {
     "transient": {
      "deleting": false
     }
    }
   }
  },
  {
   "cell_type": "code",
   "execution_count": null,
   "source": [
    "path = joinpath(@__DIR__,\"K309\")\r\n",
    "unk = loadspectrum(joinpath(path, \"K309.msa\"))\r\n",
    "unk[:Composition]=parse(Material, \"0.3872*O+0.0794*Al+0.1870*Si+0.1072*Ca+0.1049*Fe+0.1343*Ba\", name=\"K309\")\r\n",
    "unk[:Coating]=Film(parse(Material,\"C\",density=1.9),10.0e-7)\r\n",
    "stds = map((\"Al2O3\", \"BaF2\", \"CaF2\", \"Fe\", \"Si\", \"Ti\" )) do fn \r\n",
    "  s = loadspectrum(joinpath(path,\"$fn std.msa\"))\r\n",
    "  s[:Composition]=parse(Material,fn)\r\n",
    "  s[:Coating]=Film(parse(Material,\"C\",density=1.9),10.0e-7)\r\n",
    "  s\r\n",
    "end\r\n",
    "elems = collect(elms(unk, true))\r\n",
    "set_default_plot_size(8inch,4inch)\r\n",
    "plot(unk,stds...,klms=elems,xmax=8.0e3)"
   ],
   "outputs": [],
   "metadata": {
    "collapsed": false,
    "jupyter": {
     "outputs_hidden": false,
     "source_hidden": false
    },
    "nteract": {
     "transient": {
      "deleting": false
     }
    }
   }
  },
  {
   "cell_type": "code",
   "execution_count": null,
   "source": [
    "det = matching(unk,132.0, 110)\r\n",
    "resp = detectorresponse(det,SDDEfficiency(ModeledWindow(MoxtekAP33)))\r\n",
    "\r\n",
    "unkb = fittedcontinuum(unk, det, resp)\r\n",
    "stdsb = map(s->fittedcontinuum(s, det, resp), stds);"
   ],
   "outputs": [],
   "metadata": {
    "collapsed": false,
    "jupyter": {
     "outputs_hidden": false,
     "source_hidden": false
    },
    "nteract": {
     "transient": {
      "deleting": false
     }
    }
   }
  },
  {
   "cell_type": "code",
   "execution_count": null,
   "source": [
    "plot(Iterators.flatten(zip(stdsb, stds))..., xmax=8.0e3, yscale=0.008)"
   ],
   "outputs": [],
   "metadata": {}
  },
  {
   "cell_type": "code",
   "execution_count": null,
   "source": [
    "plot(unkb, unk, autoklms=true,xmax=8.0e3, yscale=0.04) "
   ],
   "outputs": [],
   "metadata": {
    "collapsed": false,
    "jupyter": {
     "outputs_hidden": false,
     "source_hidden": false
    },
    "nteract": {
     "transient": {
      "deleting": false
     }
    }
   }
  },
  {
   "cell_type": "code",
   "execution_count": null,
   "source": [
    "unkc = subtractcontinuum(unk, det, resp)\r\n",
    "stdsc = map(s->subtractcontinuum(s, det, resp), stds)\r\n",
    "plot(unkc, stdsc..., autoklms=true, xmax=8.0e3, yscale=0.01)"
   ],
   "outputs": [],
   "metadata": {
    "collapsed": false,
    "jupyter": {
     "outputs_hidden": false,
     "source_hidden": false
    },
    "nteract": {
     "transient": {
      "deleting": false
     }
    }
   }
  },
  {
   "cell_type": "code",
   "execution_count": null,
   "source": [
    "plot(stdsc[4], autoklms=true, xmax=8.0e3, yscale=0.01)"
   ],
   "outputs": [],
   "metadata": {
    "collapsed": false,
    "jupyter": {
     "outputs_hidden": false,
     "source_hidden": false
    },
    "nteract": {
     "transient": {
      "deleting": false
     }
    }
   }
  },
  {
   "cell_type": "markdown",
   "source": [
    "Seems to work - at least the basic concept."
   ],
   "metadata": {}
  },
  {
   "cell_type": "code",
   "execution_count": null,
   "source": [
    "function fit_spectrum(\r\n",
    "    spec::Spectrum, \r\n",
    "    refs::Dict{Element, <:Spectrum}, \r\n",
    "    det::EDSDetector,\r\n",
    "    resp::AbstractArray{<:Real,2};\r\n",
    "    brem::Type{<:NeXLBremsstrahlung} = Castellano2004a,\r\n",
    "    mc::Type{<:MatrixCorrection} = Riveros1993,\r\n",
    " )# ::Vector{KRatio}\r\n",
    "  cuds = []\r\n",
    "  for (elm, ref) in refs\r\n",
    "    cmod = ContinuumModel(\r\n",
    "         ref[:Composition],\r\n",
    "         ref[:BeamEnergy],\r\n",
    "         ref[:TakeOffAngle],\r\n",
    "         matrixcorrection = mc,\r\n",
    "         bremsstrahlung = brem)\r\n",
    "    model = resp * map(e -> e > 50.0 ? emitted(cmod, e) : 0.0, energyscale(spec))\r\n",
    "    cud = map(NeXLSpectrum.labeledextents(characteristic(elm, alltransitions, 0.001), det, 0.001)) do le\r\n",
    "       cxrs, ur = le \r\n",
    "       ( cxrs, ur, ref[ur]-model[ur], ref )\r\n",
    "    end\r\n",
    "    append!(cuds, cud)  \r\n",
    "  end\r\n",
    "  ascontiguous = let\r\n",
    "    scuds = sort(cuds, lt=(c1,c2)->first(c1[2])<first(c2[2]))\r\n",
    "    res = [ scuds[1][2] ]\r\n",
    "    for (_, roi, _, _) in scuds[2:end]\r\n",
    "      if length(intersect(res[end], roi)) > 0\r\n",
    "        res[end] = min(first(roi), first(res[end])):max(last(roi), last(res[end]))\r\n",
    "      else\r\n",
    "        push!(res, roi)\r\n",
    "      end\r\n",
    "    end\r\n",
    "    res\r\n",
    "  end\r\n",
    "  cmod = ContinuumModel(\r\n",
    "         unk[:Composition],\r\n",
    "         unk[:BeamEnergy],\r\n",
    "         unk[:TakeOffAngle],\r\n",
    "         matrixcorrection = mc,\r\n",
    "         bremsstrahlung = brem)\r\n",
    "  model = resp * map(e -> e > 50.0 ? emitted(cmod, e) : 0.0, energyscale(spec))\r\n",
    "  y = counts(unk) - model\r\n",
    "  res = UncertainValues[]\r\n",
    "  for roi in ascontiguous\r\n",
    "    fcuds = filter(cud->length(intersect(cud[2], roi))>0, cuds)\r\n",
    "    a = zeros(Float64, (length(roi), length(fcuds)))\r\n",
    "    labels, scales = Label[], Float64[]\r\n",
    "    for (i, cud) in enumerate(fcuds)\r\n",
    "      (cxrs, croi, cdata, cref) = cud\r\n",
    "      a[first(croi)-first(roi)+1:last(croi)-first(roi)+1,i] = cdata\r\n",
    "      push!(labels, CharXRayLabel(spec, croi, cxrs))\r\n",
    "      push!(scales, dose(cref) / dose(unk))\r\n",
    "    end\r\n",
    "    push!(res, diagm(scales)*NeXLSpectrum.olspinv(y[roi], a, 1.0, labels))\r\n",
    "  end\r\n",
    "  return cat(res...)\r\n",
    "end"
   ],
   "outputs": [],
   "metadata": {
    "collapsed": false,
    "jupyter": {
     "outputs_hidden": false,
     "source_hidden": false
    },
    "nteract": {
     "transient": {
      "deleting": false
     }
    }
   }
  },
  {
   "cell_type": "code",
   "execution_count": null,
   "source": [
    "refs = Dict(n\"O\"=>stds[1],n\"Ba\"=>stds[2],n\"Ca\"=>stds[3],n\"Fe\"=>stds[4],n\"Si\"=>stds[5],n\"Ti\"=>stds[6])\r\n",
    "fit_spectrum(unk, refs, det, resp)"
   ],
   "outputs": [],
   "metadata": {
    "collapsed": false,
    "jupyter": {
     "outputs_hidden": false,
     "source_hidden": false
    },
    "nteract": {
     "transient": {
      "deleting": false
     }
    },
    "tags": []
   }
  },
  {
   "cell_type": "markdown",
   "source": [
    "Let's compare this to the filter-fit result."
   ],
   "metadata": {}
  },
  {
   "cell_type": "code",
   "execution_count": null,
   "source": [
    "ffrs = references( [\r\n",
    "        reference(n\"O\", stds[1]),\r\n",
    "        reference(n\"Ba\", stds[2]),\r\n",
    "        reference(n\"Ca\", stds[3]),\r\n",
    "        reference(n\"Fe\", stds[4]),\r\n",
    "        reference(n\"Si\", stds[5]),\r\n",
    "        reference(n\"Ti\", stds[6])\r\n",
    "    ], det)\r\n",
    "ffres=NeXLSpectrum.fit_spectrum(unk, ffrs)\r\n",
    "asa(DataFrame, ffres)"
   ],
   "outputs": [],
   "metadata": {}
  },
  {
   "cell_type": "markdown",
   "source": [
    "Clearly, there is some similarity between the numbers but the agreement is not what I'd like.\r\n",
    "\r\n",
    "Who do you trust?  Well, I trust the filter-fit results.  I'm very confident that the filter-fit algorithm produces accurate k-ratios.  Less so for the background corrected fit.\r\n",
    "\r\n",
    "NWMR"
   ],
   "metadata": {}
  }
 ],
 "metadata": {
  "kernel_info": {
   "name": "julia-(4-threads)-1.6"
  },
  "kernelspec": {
   "display_name": "Julia (4 threads) 1.6",
   "language": "julia",
   "name": "julia-(4-threads)-1.6"
  },
  "language_info": {
   "file_extension": ".jl",
   "name": "julia",
   "mimetype": "application/julia",
   "version": "1.6.2"
  },
  "nteract": {
   "version": "0.28.0"
  }
 },
 "nbformat": 4,
 "nbformat_minor": 4
}