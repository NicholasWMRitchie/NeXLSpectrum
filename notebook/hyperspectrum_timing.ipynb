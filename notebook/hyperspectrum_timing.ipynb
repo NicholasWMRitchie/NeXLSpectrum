{
 "cells": [
  {
   "cell_type": "markdown",
   "metadata": {},
   "source": [
    "# Timing HyperSpectrum Quantification\n",
    "This notebooks compares the 3 modes (`:Fast`, `:Intermediate` and `:Full`) for both `Float64` and `Float32` reference data depths.\n",
    "\n",
    "You can run the notebook in either single thread or multi-thread environments.  The algorithms will take advantage of multiple cores."
   ]
  },
  {
   "cell_type": "code",
   "execution_count": null,
   "metadata": {},
   "outputs": [],
   "source": [
    "using NeXLSpectrum\n",
    "using DataDeps\n",
    "using Unitful\n",
    "\n",
    "Threads.nthreads()"
   ]
  },
  {
   "cell_type": "markdown",
   "metadata": {},
   "source": [
    "I'll use `DataDeps` to pull down some data from the NIST website."
   ]
  },
  {
   "cell_type": "code",
   "execution_count": null,
   "metadata": {},
   "outputs": [],
   "source": [
    "register(DataDep(\"MnNodule\",\n",
    "    \"\"\"\n",
    "    Dataset: Deep sea manganese nodule electron excited X-ray microanalysis hyperspectral data set\n",
    "    Author: Nicholas W. M. Ritchie (NIST)\n",
    "    License: Public Domain\n",
    "    Website: https://data.nist.gov/od/id/mds2-2467\n",
    "    Notice: This file is over 600 Mb\n",
    "    \"\"\",\n",
    "    \"https://data.nist.gov/od/ds/mds2-2467/MnNodule.tar.gz\",\n",
    "    \"5b5b6623b8f4daca3ff3073708442ac5702ff690aa12668659875ec5642b458d\",\n",
    "    post_fetch_method = unpack\n",
    "))\n",
    "register(DataDep(\"MnNodule_Standards\",\n",
    "    \"\"\"\n",
    "    Dataset: Standard spectra for the deep sea manganese nodule electron excited X-ray microanalysis hyperspectral data set\n",
    "    Author: Nicholas W. M. Ritchie (NIST)\n",
    "    License: Public Domain\n",
    "    Website: https://data.nist.gov/od/id/mds2-2467\n",
    "    \"\"\",\n",
    "    \"https://data.nist.gov/od/ds/mds2-2467/MnNodule_Standards.tar.gz\",\n",
    "    \"69283ba72146932ba451e679cf02fbd6b350f96f6d012d50f589ed9dd2e35f1a\",\n",
    "    post_fetch_method = unpack\n",
    "))\n",
    "ENV[\"DATADEPS_ALWAYS_ACCEPT\"] = true;"
   ]
  },
  {
   "cell_type": "code",
   "execution_count": null,
   "metadata": {},
   "outputs": [],
   "source": [
    "lt = 0.72*4.0*18.0*3600.0/(1024*1024) # 18.0 hours on 4 detectors\n",
    "\n",
    "hs = NeXLSpectrum.compress(HyperSpectrum(\n",
    "    LinearEnergyScale(0.0,10.0),\n",
    "    Dict{Symbol,Any}(\n",
    "      :TakeOffAngle => deg2rad(35.0),\n",
    "      :ProbeCurrent => 1.0, \n",
    "      :LiveTime => lt, \n",
    "      :BeamEnergy => 20.0e3, \n",
    "      :Name => \"Mn Nodule\"\n",
    "    ),\n",
    "    readrplraw(joinpath(datadep\"MnNodule\",\"map[15]\")), \n",
    "    fov = [ 4.096u\"mm\", 4.096u\"mm\"], offset= [ 0.0u\"mm\", 0.0u\"mm\" ]\n",
    "))"
   ]
  },
  {
   "cell_type": "code",
   "execution_count": null,
   "metadata": {},
   "outputs": [],
   "source": [
    "refpath = datadep\"MnNodule_Standards\"\n",
    "refs64 = references( [\n",
    "    reference(n\"C\", joinpath(refpath, \"C std.msa\") ),\n",
    "    reference(n\"Ag\", joinpath(refpath, \"Ag std.msa\") ),\n",
    "    reference(n\"Al\", joinpath(refpath, \"Al std.msa\") ),\n",
    "    reference(n\"C\", joinpath(refpath, \"C std.msa\") ),\n",
    "    reference(n\"Ca\", joinpath(refpath, \"CaF2 std.msa\") ),\n",
    "    reference(n\"Ce\", joinpath(refpath, \"CeO2 std.msa\") ),\n",
    "    reference(n\"Cl\", joinpath(refpath, \"NaCl std.msa\") ),\n",
    "    reference(n\"Cr\", joinpath(refpath, \"Cr std.msa\") ),\n",
    "    reference(n\"Cu\", joinpath(refpath, \"Cu std.msa\") ),\n",
    "    reference(n\"Fe\", joinpath(refpath, \"Fe std.msa\") ),\n",
    "    reference(n\"S\", joinpath(refpath, \"FeS2 std.msa\") ),\n",
    "    reference(n\"P\", joinpath(refpath, \"GaP std.msa\") ),\n",
    "    reference(n\"K\", joinpath(refpath, \"KBr std.msa\") ),\n",
    "    reference(n\"Mg\", joinpath(refpath, \"Mg std.msa\") ),\n",
    "    reference(n\"O\", joinpath(refpath, \"MgO std.msa\") ),\n",
    "    reference(n\"Mn\", joinpath(refpath, \"Mn std.msa\") ),\n",
    "    reference(n\"Na\", joinpath(refpath, \"NaCl std.msa\") ),\n",
    "    reference(n\"Ni\", joinpath(refpath, \"Ni std.msa\") ),\n",
    "    reference(n\"Si\", joinpath(refpath, \"Si std.msa\") ),\n",
    "    reference(n\"Ti\", joinpath(refpath, \"Ti std.msa\") ),\n",
    "    reference(n\"Zn\", joinpath(refpath, \"Zn std.msa\") ) ], \n",
    "    132.0\n",
    ")\n",
    "refs32 = references( [\n",
    "    reference(n\"C\", joinpath(refpath, \"C std.msa\") ),\n",
    "    reference(n\"Ag\", joinpath(refpath, \"Ag std.msa\") ),\n",
    "    reference(n\"Al\", joinpath(refpath, \"Al std.msa\") ),\n",
    "    reference(n\"C\", joinpath(refpath, \"C std.msa\") ),\n",
    "    reference(n\"Ca\", joinpath(refpath, \"CaF2 std.msa\") ),\n",
    "    reference(n\"Ce\", joinpath(refpath, \"CeO2 std.msa\") ),\n",
    "    reference(n\"Cl\", joinpath(refpath, \"NaCl std.msa\") ),\n",
    "    reference(n\"Cr\", joinpath(refpath, \"Cr std.msa\") ),\n",
    "    reference(n\"Cu\", joinpath(refpath, \"Cu std.msa\") ),\n",
    "    reference(n\"Fe\", joinpath(refpath, \"Fe std.msa\") ),\n",
    "    reference(n\"S\", joinpath(refpath, \"FeS2 std.msa\") ),\n",
    "    reference(n\"P\", joinpath(refpath, \"GaP std.msa\") ),\n",
    "    reference(n\"K\", joinpath(refpath, \"KBr std.msa\") ),\n",
    "    reference(n\"Mg\", joinpath(refpath, \"Mg std.msa\") ),\n",
    "    reference(n\"O\", joinpath(refpath, \"MgO std.msa\") ),\n",
    "    reference(n\"Mn\", joinpath(refpath, \"Mn std.msa\") ),\n",
    "    reference(n\"Na\", joinpath(refpath, \"NaCl std.msa\") ),\n",
    "    reference(n\"Ni\", joinpath(refpath, \"Ni std.msa\") ),\n",
    "    reference(n\"Si\", joinpath(refpath, \"Si std.msa\") ),\n",
    "    reference(n\"Ti\", joinpath(refpath, \"Ti std.msa\") ),\n",
    "    reference(n\"Zn\", joinpath(refpath, \"Zn std.msa\") ) ], \n",
    "    132.0, ftype=Float32\n",
    ");"
   ]
  },
  {
   "cell_type": "markdown",
   "metadata": {},
   "source": [
    "Note: I use `@time` instead of `@btime` because the calculations a lot of time and in the big picture compilation is a minor contributor."
   ]
  },
  {
   "cell_type": "code",
   "execution_count": null,
   "metadata": {},
   "outputs": [],
   "source": [
    "hsc, hsf = hs[1:4,1:4], hs[1:2:1024,1:2:1024]"
   ]
  },
  {
   "cell_type": "markdown",
   "metadata": {},
   "source": [
    "# Fast mode - 64-bit vs 32-bit"
   ]
  },
  {
   "cell_type": "code",
   "execution_count": null,
   "metadata": {},
   "outputs": [],
   "source": [
    "fit_spectrum(hsc, refs64, mode=:Fast)\n",
    "@time fit_spectrum(hsf, refs64, mode=:Fast);"
   ]
  },
  {
   "cell_type": "code",
   "execution_count": null,
   "metadata": {},
   "outputs": [],
   "source": [
    "fit_spectrum(hsc, refs32, mode=:Fast)\n",
    "@time fit_spectrum(hsf, refs32, mode=:Fast);"
   ]
  },
  {
   "cell_type": "markdown",
   "metadata": {},
   "source": [
    "# Intermediate mode - 64-bit vs 32-bit"
   ]
  },
  {
   "cell_type": "code",
   "execution_count": null,
   "metadata": {},
   "outputs": [],
   "source": [
    "fit_spectrum(hsc, refs64, mode=:Intermediate)\n",
    "@time fit_spectrum(hsf, refs64, mode=:Intermediate);"
   ]
  },
  {
   "cell_type": "code",
   "execution_count": null,
   "metadata": {},
   "outputs": [],
   "source": [
    "fit_spectrum(hsc, refs32, mode=:Intermediate)\n",
    "@time fit_spectrum(hsf, refs32, mode=:Intermediate);"
   ]
  },
  {
   "cell_type": "markdown",
   "metadata": {},
   "source": [
    "# Full mode - 64-bit vs 32-bit"
   ]
  },
  {
   "cell_type": "code",
   "execution_count": null,
   "metadata": {},
   "outputs": [],
   "source": [
    "fit_spectrum(hsc, refs64, mode=:Full)\n",
    "@time fit_spectrum(hsf, refs64, mode=:Full);"
   ]
  },
  {
   "cell_type": "code",
   "execution_count": null,
   "metadata": {},
   "outputs": [],
   "source": [
    "fit_spectrum(hsc, refs32, mode=:Full)\n",
    "@time fit_spectrum(hsf, refs32, mode=:Full);"
   ]
  }
 ],
 "metadata": {
  "kernelspec": {
   "display_name": "Julia (4 threads) 1.7.1",
   "language": "julia",
   "name": "julia-(4-threads)-1.7"
  },
  "language_info": {
   "file_extension": ".jl",
   "mimetype": "application/julia",
   "name": "julia",
   "version": "1.7.1"
  },
  "orig_nbformat": 4
 },
 "nbformat": 4,
 "nbformat_minor": 2
}
