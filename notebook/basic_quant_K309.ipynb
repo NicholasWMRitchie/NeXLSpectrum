{
 "cells": [
  {
   "cell_type": "markdown",
   "source": [
    "## Quantifying a Spectrum\r\n",
    "\r\n",
    "#### Note:  This notebook uses the modern (albeit slightly less flexible) `reference` and `references` functions to build the fitting standards.\r\n",
    "\r\n",
    "This script show how to pull together the functionality in the NeXL X-ray microanalysis library to quantify a electron-excited X-ray spectrum using standard spectra.\r\n",
    "\r\n",
    "First, we need to load the necessary libraries - `NeXLSpectrum` and `NeXLMatrixCorrection` from NeXL, `Gadfly` for plotting and `DataFrames` for tabulation. "
   ],
   "metadata": {}
  },
  {
   "cell_type": "code",
   "execution_count": null,
   "source": [
    "using NeXLSpectrum\r\n",
    "using NeXLMatrixCorrection\r\n",
    "using Gadfly\r\n",
    "using DataFrames\r\n",
    "\r\n",
    "# Configure the environment to display larger tables\r\n",
    "ENV[\"LINES\"] = 60; ENV[\"COLUMNS\"]=200"
   ],
   "outputs": [],
   "metadata": {}
  },
  {
   "cell_type": "markdown",
   "source": [
    "Next we specify where the spectra are located and load the spectrum from a file.  `loadspectrum(...)` can sniff the format of a spectrum file and load 'ISO/EMSA', 'ASPEX TIFF' and 'Bruker SPX' files automatically.\n",
    "\n",
    "Once the spectrum is loaded into `unk`, we use the data in `unk` to build a suitable detector with a FWHM at Mn K$\\alpha$ of 132.0 eV and a low-level discriminator cut-off of 120 channels.  Finally, we set the `:Detector` property of the spectrum to `det`.\n",
    "\n",
    "Finally, we use `Gadfly`, which `NeXLSpectrum` has specialized to understand `Spectrum` structures, to plot the spectrum with KLM markers from 0.0 eV to 8,000 eV."
   ],
   "metadata": {}
  },
  {
   "cell_type": "code",
   "execution_count": null,
   "source": [
    "path = joinpath(@__DIR__,\"K309\")\r\n",
    "# Read the spectrum from disk (an ISO/EMSA file or other)\r\n",
    "unk = loadspectrum(joinpath(path,\"K309.msa\"))\r\n",
    "# Build a basic detector that matches the unknown spectrum \r\n",
    "det = matching(unk, 132.0, 120)\r\n",
    "unk[:Detector] = det\r\n",
    "\r\n",
    "# Configure an plot the unknown spectrum\r\n",
    "set_default_plot_size(10inch,2.8inch)\r\n",
    "plot(unk, klms=[n\"O\", n\"Al\", n\"Si\", n\"Ca\", n\"Fe\", n\"Ba\"], xmax=8.0e3)"
   ],
   "outputs": [],
   "metadata": {}
  },
  {
   "cell_type": "markdown",
   "source": [
    "Next, we define and load the reference spectra.  Here we use `n\"..\"` notation to parse the element symbol and `mat\"...\"` to parse the composition."
   ],
   "metadata": {}
  },
  {
   "cell_type": "code",
   "execution_count": null,
   "source": [
    "# Specify, load, filter the reference spectra\r\n",
    "refs = references( [ \r\n",
    "    # reference( element, filename, material )\r\n",
    "    reference(n\"O\", joinpath(path,\"Al2O3 std.msa\"), mat\"Al2O3\" ),\r\n",
    "    reference(n\"Al\", joinpath(path,\"Al2O3 std.msa\"), mat\"Al2O3\" ),\r\n",
    "    reference(n\"Si\", joinpath(path,\"Si std.msa\"), mat\"Si\" ),\r\n",
    "    reference(n\"Ca\", joinpath(path,\"CaF2 std.msa\"), mat\"CaF2\" ),\r\n",
    "    reference(n\"Fe\", joinpath(path,\"Fe std.msa\"), mat\"Fe\" ),\r\n",
    "    reference(n\"Ba\", joinpath(path,\"BaF2 std.msa\"), mat\"BaF2\" )\r\n",
    "], det)\r\n",
    "# Plot the reference spectra\r\n",
    "plot(refs, xmax = 8.0e3)"
   ],
   "outputs": [],
   "metadata": {}
  },
  {
   "cell_type": "markdown",
   "source": [
    "Finally, we apply the filter to the unknown and fit the filtered references."
   ],
   "metadata": {}
  },
  {
   "cell_type": "code",
   "execution_count": null,
   "source": [
    "# Fit the unknown spectrum with the filtered references\r\n",
    "res=fit_spectrum(unk, refs)\r\n",
    "# Tabulate the results\r\n",
    "asa(DataFrame,res)"
   ],
   "outputs": [],
   "metadata": {}
  },
  {
   "cell_type": "markdown",
   "source": [
    "To visualize these results, `Gadfly` has been specialized to plot `FilterFitResult` objects like this.  The plot shows the range of channels involved in each fitted ROI along with the associated k-ratio.  The red line is the filter fit residual.  It shows which x-rays were not accounted for as characteristic X-rays in one of the references.  You can use the residual to determine if any elements have been overlooked.\n",
    "\n",
    "You can see that some of the ROIs are narrow (like the O K) while others are broad (like the Ba L). You can also see which ROIs interfere with each other (like the O K and Fe L or the Al K and Si K)."
   ],
   "metadata": {}
  },
  {
   "cell_type": "code",
   "execution_count": null,
   "source": [
    "plot(res)"
   ],
   "outputs": [],
   "metadata": {}
  },
  {
   "cell_type": "markdown",
   "source": [
    "The final step is to matrix correct the k-ratios to estimate the composition."
   ],
   "metadata": {}
  },
  {
   "cell_type": "code",
   "execution_count": null,
   "source": [
    "# Takes the k-ratios in `res` and using the XPP algorithm, iterate to estimate the composition\r\n",
    "iterres = quantify(res, iteration = Iteration(mc=XPP, fc=ReedFluorescence, cc=NoCoating))\r\n",
    "# Display the results with matrix correction factors\r\n",
    "asa(DataFrame, iterres)"
   ],
   "outputs": [],
   "metadata": {}
  },
  {
   "cell_type": "code",
   "execution_count": null,
   "source": [
    "# Define the `nominal` composition for comparison\r\n",
    "nominal = material(\"nominal\", Dict(n\"O\"=>0.3872, n\"Al\"=>0.0794, n\"Si\"=>0.187, n\"Ca\"=>0.1072, n\"Fe\"=>0.1049, n\"Ba\"=>0.1343))\r\n",
    "# Tabulate\r\n",
    "asa(DataFrame, [ iterres.comp, nominal ])"
   ],
   "outputs": [],
   "metadata": {
    "tags": []
   }
  },
  {
   "cell_type": "markdown",
   "source": [
    "Create a table that compares the measured and nominal composition."
   ],
   "metadata": {}
  },
  {
   "cell_type": "code",
   "execution_count": null,
   "source": [
    "compare( iterres.comp, nominal)"
   ],
   "outputs": [],
   "metadata": {}
  },
  {
   "cell_type": "markdown",
   "source": [
    "NWMR 16-Sep-2021"
   ],
   "metadata": {}
  }
 ],
 "metadata": {
  "kernelspec": {
   "display_name": "Julia (4 threads) 1.6",
   "language": "julia",
   "name": "julia-(4-threads)-1.6"
  },
  "language_info": {
   "file_extension": ".jl",
   "name": "julia",
   "mimetype": "application/julia",
   "version": "1.6.2"
  },
  "nteract": {
   "version": "0.23.3"
  }
 },
 "nbformat": 4,
 "nbformat_minor": 4
}