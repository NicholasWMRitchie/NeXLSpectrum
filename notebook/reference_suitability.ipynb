{
  "cells": [
    {
      "cell_type": "markdown",
      "source": [
        "# Reference Suitability\n",
        "This notebook is a tool for determining which standard materials are suitable for use as a fitting reference for an element.  The problem it is designed to address is interferences between the element and other elements in the material. It considers a default list of pure elemental and stoichiometric compound standard materials.  The characteristic X-ray associated with the specified element are divided into regions determined by the detector performance each of which will be fit independently.  The algorithm then checks each material containing the element of interest to determine which of these regions does not suffer an interference with any of the other elements in the material."
      ],
      "metadata": {
        "nteract": {
          "transient": {
            "deleting": false
          }
        }
      }
    },
    {
      "cell_type": "code",
      "source": [
        "# Load the necessary libraries\n",
        "using NeXLSpectrum\n",
        "using DataFrames\n",
        "# Configure tabulation\n",
        "ENV[\"lines\"], ENV[\"columns\"] = 200, 400;\n"
      ],
      "outputs": [],
      "execution_count": 1,
      "metadata": {
        "collapsed": true,
        "jupyter": {
          "source_hidden": false,
          "outputs_hidden": false
        },
        "nteract": {
          "transient": {
            "deleting": false
          }
        },
        "execution": {
          "iopub.status.busy": "2021-04-14T13:28:25.318Z",
          "iopub.execute_input": "2021-04-14T13:28:25.950Z",
          "iopub.status.idle": "2021-04-14T13:28:40.063Z"
        }
      }
    },
    {
      "cell_type": "markdown",
      "source": [
        "The performance of your detector is critical for determining how the peaks will be split up into independent regions each of which is fit independently."
      ],
      "metadata": {
        "nteract": {
          "transient": {
            "deleting": false
          }
        }
      }
    },
    {
      "cell_type": "code",
      "source": [
        "# Build a detector model to match your EDS detector\n",
        "# BasicEDS(channelCount, zeroOffset, channelWidth, FWHM_MnKa, low_level_discriminator, visibility)\n",
        "det = BasicEDS(4096, -480.40409, 5.00525, 132.0, 110, \n",
        "  Dict( # What is the first element with visible KShell, LShell, ... peaks\n",
        "    KShell=>n\"Be\",\n",
        "    LShell=>n\"Ca\",\n",
        "    MShell=>n\"Cs\",\n",
        "    NShell=>n\"Pu\")\n",
        ")"
      ],
      "outputs": [
        {
          "output_type": "execute_result",
          "execution_count": 2,
          "data": {
            "text/plain": "BasicEDS[4096 chs, E[ch] = -480.40409 + 5.00525⋅ch, 132.0 eV @ Mn K-L3, 110 ch LLD, [Be,Ca,Cs,Pu]]"
          },
          "metadata": {}
        }
      ],
      "execution_count": 2,
      "metadata": {
        "collapsed": true,
        "jupyter": {
          "source_hidden": false,
          "outputs_hidden": false
        },
        "nteract": {
          "transient": {
            "deleting": false
          }
        },
        "execution": {
          "iopub.status.busy": "2021-04-14T13:28:40.072Z",
          "iopub.execute_input": "2021-04-14T13:28:41.057Z",
          "iopub.status.idle": "2021-04-14T13:28:42.510Z"
        }
      }
    },
    {
      "cell_type": "markdown",
      "source": [
        "Specify an element and load a default set of standard materials.  You can add additional materials if desired."
      ],
      "metadata": {
        "nteract": {
          "transient": {
            "deleting": false
          }
        }
      }
    },
    {
      "cell_type": "code",
      "source": [
        "elm = parse(Element, \"Fe\")\n",
        "stds=getstandards(elm, 0.01)\n",
        "# push!(stds, parse(Material, \"0.2*Au+0.8*Ag\")) # Example of how to add a standard\n",
        "asa(DataFrame, collect(stds))"
      ],
      "outputs": [
        {
          "output_type": "execute_result",
          "execution_count": 3,
          "data": {
            "text/plain": "\u001b[1m11×11 DataFrame\u001b[0m\n\u001b[1m Row \u001b[0m│\u001b[1m Material     \u001b[0m\u001b[1m N         \u001b[0m\u001b[1m O         \u001b[0m\u001b[1m F         \u001b[0m\u001b[1m Al        \u001b[0m\u001b[1m Si        \u001b[0m\u001b[1m P         \u001b[0m\u001b[1m S         \u001b[0m\u001b[1m Fe        \u001b[0m\u001b[1m Cu        \u001b[0m\u001b[1m Total     \u001b[0m\n\u001b[1m     \u001b[0m│\u001b[90m String       \u001b[0m\u001b[90m Abstract… \u001b[0m\u001b[90m Abstract… \u001b[0m\u001b[90m Abstract… \u001b[0m\u001b[90m Abstract… \u001b[0m\u001b[90m Abstract… \u001b[0m\u001b[90m Abstract… \u001b[0m\u001b[90m Abstract… \u001b[0m\u001b[90m Abstract… \u001b[0m\u001b[90m Abstract… \u001b[0m\u001b[90m Abstract… \u001b[0m\n─────┼────────────────────────────────────────────────────────────────────────────────────────────────────────────────────────────\n   1 │ Fe3N          0.0771554   0.0        0.0        0.0        0.0        0.0        0.0        0.922845    0.0            1.0\n   2 │ FeS2          0.0         0.0        0.0        0.0        0.0        0.0        0.534488   0.465512    0.0            1.0\n   3 │ Fe            0.0         0.0        0.0        0.0        0.0        0.0        0.0        1.0         0.0            1.0\n   4 │ CuFeS2        0.0         0.0        0.0        0.0        0.0        0.0        0.349406   0.304314    0.34628        1.0\n   5 │ FeP           0.0         0.0        0.0        0.0        0.0        0.356763   0.0        0.643237    0.0            1.0\n   6 │ Fe22+SiO4     0.0         0.694997   0.0        0.0        0.305003   0.0        0.0        1.0         0.0            2.0\n   7 │ Fe3Al2Si3O12  0.0         0.385718   0.0        0.108416   0.169275   0.0        0.0        0.336591    0.0            1.0\n   8 │ FeO           0.0         0.22269    0.0        0.0        0.0        0.0        0.0        0.77731     0.0            1.0\n   9 │ Fe3O4         0.0         0.276403   0.0        0.0        0.0        0.0        0.0        0.723597    0.0            1.0\n  10 │ Fe2O3         0.0         0.300568   0.0        0.0        0.0        0.0        0.0        0.699432    0.0            1.0\n  11 │ FeF3          0.0         0.0        0.505096   0.0        0.0        0.0        0.0        0.494904    0.0            1.0",
            "text/html": "<table class=\"data-frame\"><thead><tr><th></th><th>Material</th><th>N</th><th>O</th><th>F</th><th>Al</th><th>Si</th><th>P</th><th>S</th><th>Fe</th><th>Cu</th><th>Total</th></tr><tr><th></th><th>String</th><th>Abstrac…</th><th>Abstrac…</th><th>Abstrac…</th><th>Abstrac…</th><th>Abstrac…</th><th>Abstrac…</th><th>Abstrac…</th><th>Abstrac…</th><th>Abstrac…</th><th>Abstrac…</th></tr></thead><tbody><p>11 rows × 11 columns</p><tr><th>1</th><td>Fe3N</td><td>0.0771554</td><td>0.0</td><td>0.0</td><td>0.0</td><td>0.0</td><td>0.0</td><td>0.0</td><td>0.922845</td><td>0.0</td><td>1.0</td></tr><tr><th>2</th><td>FeS2</td><td>0.0</td><td>0.0</td><td>0.0</td><td>0.0</td><td>0.0</td><td>0.0</td><td>0.534488</td><td>0.465512</td><td>0.0</td><td>1.0</td></tr><tr><th>3</th><td>Fe</td><td>0.0</td><td>0.0</td><td>0.0</td><td>0.0</td><td>0.0</td><td>0.0</td><td>0.0</td><td>1.0</td><td>0.0</td><td>1.0</td></tr><tr><th>4</th><td>CuFeS2</td><td>0.0</td><td>0.0</td><td>0.0</td><td>0.0</td><td>0.0</td><td>0.0</td><td>0.349406</td><td>0.304314</td><td>0.34628</td><td>1.0</td></tr><tr><th>5</th><td>FeP</td><td>0.0</td><td>0.0</td><td>0.0</td><td>0.0</td><td>0.0</td><td>0.356763</td><td>0.0</td><td>0.643237</td><td>0.0</td><td>1.0</td></tr><tr><th>6</th><td>Fe22+SiO4</td><td>0.0</td><td>0.694997</td><td>0.0</td><td>0.0</td><td>0.305003</td><td>0.0</td><td>0.0</td><td>1.0</td><td>0.0</td><td>2.0</td></tr><tr><th>7</th><td>Fe3Al2Si3O12</td><td>0.0</td><td>0.385718</td><td>0.0</td><td>0.108416</td><td>0.169275</td><td>0.0</td><td>0.0</td><td>0.336591</td><td>0.0</td><td>1.0</td></tr><tr><th>8</th><td>FeO</td><td>0.0</td><td>0.22269</td><td>0.0</td><td>0.0</td><td>0.0</td><td>0.0</td><td>0.0</td><td>0.77731</td><td>0.0</td><td>1.0</td></tr><tr><th>9</th><td>Fe3O4</td><td>0.0</td><td>0.276403</td><td>0.0</td><td>0.0</td><td>0.0</td><td>0.0</td><td>0.0</td><td>0.723597</td><td>0.0</td><td>1.0</td></tr><tr><th>10</th><td>Fe2O3</td><td>0.0</td><td>0.300568</td><td>0.0</td><td>0.0</td><td>0.0</td><td>0.0</td><td>0.0</td><td>0.699432</td><td>0.0</td><td>1.0</td></tr><tr><th>11</th><td>FeF3</td><td>0.0</td><td>0.0</td><td>0.505096</td><td>0.0</td><td>0.0</td><td>0.0</td><td>0.0</td><td>0.494904</td><td>0.0</td><td>1.0</td></tr></tbody></table>",
            "text/latex": "\\begin{tabular}{r|ccccccccccc}\n\t& Material & N & O & F & Al & Si & P & S & Fe & Cu & Total\\\\\n\t\\hline\n\t& String & Abstrac… & Abstrac… & Abstrac… & Abstrac… & Abstrac… & Abstrac… & Abstrac… & Abstrac… & Abstrac… & Abstrac…\\\\\n\t\\hline\n\t1 & Fe3N & 0.0771554 & 0.0 & 0.0 & 0.0 & 0.0 & 0.0 & 0.0 & 0.922845 & 0.0 & 1.0 \\\\\n\t2 & FeS2 & 0.0 & 0.0 & 0.0 & 0.0 & 0.0 & 0.0 & 0.534488 & 0.465512 & 0.0 & 1.0 \\\\\n\t3 & Fe & 0.0 & 0.0 & 0.0 & 0.0 & 0.0 & 0.0 & 0.0 & 1.0 & 0.0 & 1.0 \\\\\n\t4 & CuFeS2 & 0.0 & 0.0 & 0.0 & 0.0 & 0.0 & 0.0 & 0.349406 & 0.304314 & 0.34628 & 1.0 \\\\\n\t5 & FeP & 0.0 & 0.0 & 0.0 & 0.0 & 0.0 & 0.356763 & 0.0 & 0.643237 & 0.0 & 1.0 \\\\\n\t6 & Fe22+SiO4 & 0.0 & 0.694997 & 0.0 & 0.0 & 0.305003 & 0.0 & 0.0 & 1.0 & 0.0 & 2.0 \\\\\n\t7 & Fe3Al2Si3O12 & 0.0 & 0.385718 & 0.0 & 0.108416 & 0.169275 & 0.0 & 0.0 & 0.336591 & 0.0 & 1.0 \\\\\n\t8 & FeO & 0.0 & 0.22269 & 0.0 & 0.0 & 0.0 & 0.0 & 0.0 & 0.77731 & 0.0 & 1.0 \\\\\n\t9 & Fe3O4 & 0.0 & 0.276403 & 0.0 & 0.0 & 0.0 & 0.0 & 0.0 & 0.723597 & 0.0 & 1.0 \\\\\n\t10 & Fe2O3 & 0.0 & 0.300568 & 0.0 & 0.0 & 0.0 & 0.0 & 0.0 & 0.699432 & 0.0 & 1.0 \\\\\n\t11 & FeF3 & 0.0 & 0.0 & 0.505096 & 0.0 & 0.0 & 0.0 & 0.0 & 0.494904 & 0.0 & 1.0 \\\\\n\\end{tabular}\n"
          },
          "metadata": {}
        }
      ],
      "execution_count": 3,
      "metadata": {
        "collapsed": false,
        "jupyter": {
          "source_hidden": false,
          "outputs_hidden": false
        },
        "nteract": {
          "transient": {
            "deleting": false
          }
        },
        "execution": {
          "iopub.status.busy": "2021-04-14T13:28:42.518Z",
          "iopub.execute_input": "2021-04-14T13:28:42.523Z",
          "iopub.status.idle": "2021-04-14T13:28:57.998Z"
        }
      }
    },
    {
      "cell_type": "markdown",
      "source": [
        "The next cell performs all the useful work.  It takes an element, detector and the minimum mass-fraction and produces a table where the rows are the candidate materials and the columns are the fit regions.  A check mark indicates that the material is suitable for the region and an X indicates lack of suitability.  The ideal reference has all checks.  However, it is possible to use spectra from two or more materials to satisfy all the regions that need to be fit."
      ],
      "metadata": {
        "nteract": {
          "transient": {
            "deleting": false
          }
        }
      }
    },
    {
      "cell_type": "code",
      "source": [
        "suitability(elm, stds, det)"
      ],
      "outputs": [
        {
          "output_type": "execute_result",
          "execution_count": 4,
          "data": {
            "text/plain": "\u001b[1m11×4 DataFrame\u001b[0m\n\u001b[1m Row \u001b[0m│\u001b[1m Material                          \u001b[0m\u001b[1m Fe L3-M5 + 11 others \u001b[0m\u001b[1m Fe K-L3 + 1 other \u001b[0m\u001b[1m Fe K-M3 + 3 others \u001b[0m\n\u001b[1m     \u001b[0m│\u001b[90m Material                          \u001b[0m\u001b[90m String               \u001b[0m\u001b[90m String            \u001b[0m\u001b[90m String             \u001b[0m\n─────┼────────────────────────────────────────────────────────────────────────────────────────────────\n   1 │ Fe3N[N=0.0772,Fe=0.9228]           ✗                     ✓                  ✓\n   2 │ FeS2[S=0.5345,Fe=0.4655]           ✓                     ✓                  ✓\n   3 │ Fe[Fe=1.0000]                      ✓                     ✓                  ✓\n   4 │ CuFeS2[Cu=0.3463,S=0.3494,Fe=0.3…  ✗                     ✓                  ✓\n   5 │ FeP[P=0.3568,Fe=0.6432]            ✓                     ✓                  ✓\n   6 │ Fe22+SiO4[Fe=1.0000,Si=0.3050,O=…  ✗                     ✓                  ✓\n   7 │ Fe3Al2Si3O12[Al=0.1084,Fe=0.3366…  ✗                     ✓                  ✓\n   8 │ FeO[Fe=0.7773,O=0.2227]            ✗                     ✓                  ✓\n   9 │ Fe3O4[Fe=0.7236,O=0.2764]          ✗                     ✓                  ✓\n  10 │ Fe2O3[Fe=0.6994,O=0.3006]          ✗                     ✓                  ✓\n  11 │ FeF3[Fe=0.4949,F=0.5051]           ✗                     ✓                  ✓",
            "text/html": "<table class=\"data-frame\"><thead><tr><th></th><th>Material</th><th>Fe L3-M5 + 11 others</th><th>Fe K-L3 + 1 other</th><th>Fe K-M3 + 3 others</th></tr><tr><th></th><th>Material</th><th>String</th><th>String</th><th>String</th></tr></thead><tbody><p>11 rows × 4 columns</p><tr><th>1</th><td>Fe3N[N=0.0772,Fe=0.9228]</td><td>✗</td><td>✓</td><td>✓</td></tr><tr><th>2</th><td>FeS2[S=0.5345,Fe=0.4655]</td><td>✓</td><td>✓</td><td>✓</td></tr><tr><th>3</th><td>Fe[Fe=1.0000]</td><td>✓</td><td>✓</td><td>✓</td></tr><tr><th>4</th><td>CuFeS2[Cu=0.3463,S=0.3494,Fe=0.3043]</td><td>✗</td><td>✓</td><td>✓</td></tr><tr><th>5</th><td>FeP[P=0.3568,Fe=0.6432]</td><td>✓</td><td>✓</td><td>✓</td></tr><tr><th>6</th><td>Fe22+SiO4[Fe=1.0000,Si=0.3050,O=0.6950]</td><td>✗</td><td>✓</td><td>✓</td></tr><tr><th>7</th><td>Fe3Al2Si3O12[Al=0.1084,Fe=0.3366,Si=0.1693,O=0.3857]</td><td>✗</td><td>✓</td><td>✓</td></tr><tr><th>8</th><td>FeO[Fe=0.7773,O=0.2227]</td><td>✗</td><td>✓</td><td>✓</td></tr><tr><th>9</th><td>Fe3O4[Fe=0.7236,O=0.2764]</td><td>✗</td><td>✓</td><td>✓</td></tr><tr><th>10</th><td>Fe2O3[Fe=0.6994,O=0.3006]</td><td>✗</td><td>✓</td><td>✓</td></tr><tr><th>11</th><td>FeF3[Fe=0.4949,F=0.5051]</td><td>✗</td><td>✓</td><td>✓</td></tr></tbody></table>",
            "text/latex": "\\begin{tabular}{r|cccc}\n\t& Material & Fe L3-M5 + 11 others & Fe K-L3 + 1 other & Fe K-M3 + 3 others\\\\\n\t\\hline\n\t& Material & String & String & String\\\\\n\t\\hline\n\t1 & Fe3N[N=0.0772,Fe=0.9228] & ✗ & ✓ & ✓ \\\\\n\t2 & FeS2[S=0.5345,Fe=0.4655] & ✓ & ✓ & ✓ \\\\\n\t3 & Fe[Fe=1.0000] & ✓ & ✓ & ✓ \\\\\n\t4 & CuFeS2[Cu=0.3463,S=0.3494,Fe=0.3043] & ✗ & ✓ & ✓ \\\\\n\t5 & FeP[P=0.3568,Fe=0.6432] & ✓ & ✓ & ✓ \\\\\n\t6 & Fe22+SiO4[Fe=1.0000,Si=0.3050,O=0.6950] & ✗ & ✓ & ✓ \\\\\n\t7 & Fe3Al2Si3O12[Al=0.1084,Fe=0.3366,Si=0.1693,O=0.3857] & ✗ & ✓ & ✓ \\\\\n\t8 & FeO[Fe=0.7773,O=0.2227] & ✗ & ✓ & ✓ \\\\\n\t9 & Fe3O4[Fe=0.7236,O=0.2764] & ✗ & ✓ & ✓ \\\\\n\t10 & Fe2O3[Fe=0.6994,O=0.3006] & ✗ & ✓ & ✓ \\\\\n\t11 & FeF3[Fe=0.4949,F=0.5051] & ✗ & ✓ & ✓ \\\\\n\\end{tabular}\n"
          },
          "metadata": {}
        }
      ],
      "execution_count": 4,
      "metadata": {
        "collapsed": false,
        "jupyter": {
          "source_hidden": false,
          "outputs_hidden": false
        },
        "nteract": {
          "transient": {
            "deleting": false
          }
        },
        "execution": {
          "iopub.status.busy": "2021-04-14T13:28:58.006Z",
          "iopub.execute_input": "2021-04-14T13:28:58.011Z",
          "iopub.status.idle": "2021-04-14T13:29:05.132Z"
        }
      }
    },
    {
      "cell_type": "code",
      "source": [],
      "outputs": [],
      "execution_count": null,
      "metadata": {
        "collapsed": true,
        "jupyter": {
          "source_hidden": false,
          "outputs_hidden": false
        },
        "nteract": {
          "transient": {
            "deleting": false
          }
        }
      }
    }
  ],
  "metadata": {
    "kernel_info": {
      "name": "julia-(4-threads)-1.6"
    },
    "language_info": {
      "file_extension": ".jl",
      "name": "julia",
      "mimetype": "application/julia",
      "version": "1.6.0"
    },
    "kernelspec": {
      "argv": [
        "C:\\Users\\nritchie\\AppData\\Local\\Programs\\Julia-1.6.0\\bin\\julia.exe",
        "-i",
        "--color=yes",
        "C:\\Users\\nritchie\\.julia\\packages\\IJulia\\e8kqU\\src\\kernel.jl",
        "{connection_file}"
      ],
      "display_name": "Julia (4 threads) 1.6.0",
      "env": {
        "JULIA_NUM_THREADS": "4"
      },
      "interrupt_mode": "message",
      "language": "julia",
      "name": "julia-(4-threads)-1.6"
    },
    "nteract": {
      "version": "0.28.0"
    }
  },
  "nbformat": 4,
  "nbformat_minor": 0
}