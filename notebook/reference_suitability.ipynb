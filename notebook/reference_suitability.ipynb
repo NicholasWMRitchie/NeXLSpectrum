{
 "cells": [
  {
   "cell_type": "markdown",
   "metadata": {
    "nteract": {
     "transient": {
      "deleting": false
     }
    }
   },
   "source": [
    "# Reference Suitability\n",
    "This notebook is a tool for determining which standard materials are suitable for use as a fitting reference for an element.  The problem it is designed to address is interferences between the element and other elements in the material. It considers a default list of pure elemental and stoichiometric compound standard materials.  The characteristic X-ray associated with the specified element are divided into regions determined by the detector performance each of which will be fit independently.  The algorithm then checks each material containing the element of interest to determine which of these regions does not suffer an interference with any of the other elements in the material."
   ]
  },
  {
   "cell_type": "code",
   "execution_count": 1,
   "metadata": {
    "collapsed": false,
    "jupyter": {
     "outputs_hidden": false,
     "source_hidden": false
    },
    "nteract": {
     "transient": {
      "deleting": false
     }
    }
   },
   "outputs": [],
   "source": [
    "# Load the necessary libraries\n",
    "using NeXLSpectrum\n",
    "using DataFrames\n",
    "# Configure tabulation\n",
    "ENV[\"lines\"], ENV[\"columns\"] = 200, 400;\n"
   ]
  },
  {
   "cell_type": "markdown",
   "metadata": {
    "nteract": {
     "transient": {
      "deleting": false
     }
    }
   },
   "source": [
    "The performance of your detector is critical for determining how the peaks will be split up into independent regions each of which is fit independently."
   ]
  },
  {
   "cell_type": "code",
   "execution_count": 2,
   "metadata": {
    "collapsed": false,
    "jupyter": {
     "outputs_hidden": false,
     "source_hidden": false
    },
    "nteract": {
     "transient": {
      "deleting": false
     }
    }
   },
   "outputs": [
    {
     "data": {
      "text/plain": [
       "BasicEDS[4096 chs, E[ch] = -480.40409 + 5.00525⋅ch, 132.0 eV @ Mn K-L3, 110 ch LLD, [Be,Ca,Cs,Pu]]"
      ]
     },
     "execution_count": 2,
     "metadata": {},
     "output_type": "execute_result"
    }
   ],
   "source": [
    "# Build a detector model to match your EDS detector\n",
    "# BasicEDS(channelCount, zeroOffset, channelWidth, FWHM_MnKa, low_level_discriminator, visibility)\n",
    "det = BasicEDS(4096, -480.40409, 5.00525, 132.0, 110, \n",
    "  Dict( # What is the first element with visible KShell, LShell, ... peaks\n",
    "    KShell=>n\"Be\",\n",
    "    LShell=>n\"Ca\",\n",
    "    MShell=>n\"Cs\",\n",
    "    NShell=>n\"Pu\")\n",
    ")"
   ]
  },
  {
   "cell_type": "markdown",
   "metadata": {
    "nteract": {
     "transient": {
      "deleting": false
     }
    }
   },
   "source": [
    "Specify an element and load a default set of standard materials.  You can add additional materials if desired."
   ]
  },
  {
   "cell_type": "code",
   "execution_count": 3,
   "metadata": {
    "collapsed": false,
    "jupyter": {
     "outputs_hidden": false,
     "source_hidden": false
    },
    "nteract": {
     "transient": {
      "deleting": false
     }
    }
   },
   "outputs": [
    {
     "data": {
      "text/html": [
       "<table class=\"data-frame\"><thead><tr><th></th><th>Material</th><th>S</th><th>Se</th><th>Te</th><th>Hg</th><th>Total</th></tr><tr><th></th><th>String</th><th>Abstrac…</th><th>Abstrac…</th><th>Abstrac…</th><th>Abstrac…</th><th>Abstrac…</th></tr></thead><tbody><p>3 rows × 6 columns</p><tr><th>1</th><td>HgSe</td><td>0.0</td><td>0.282482</td><td>0.0</td><td>0.717518</td><td>1.0</td></tr><tr><th>2</th><td>HgTe</td><td>0.0</td><td>0.0</td><td>0.388802</td><td>0.611198</td><td>1.0</td></tr><tr><th>3</th><td>HgS</td><td>0.137802</td><td>0.0</td><td>0.0</td><td>0.862198</td><td>1.0</td></tr></tbody></table>"
      ],
      "text/latex": [
       "\\begin{tabular}{r|cccccc}\n",
       "\t& Material & S & Se & Te & Hg & Total\\\\\n",
       "\t\\hline\n",
       "\t& String & Abstrac… & Abstrac… & Abstrac… & Abstrac… & Abstrac…\\\\\n",
       "\t\\hline\n",
       "\t1 & HgSe & 0.0 & 0.282482 & 0.0 & 0.717518 & 1.0 \\\\\n",
       "\t2 & HgTe & 0.0 & 0.0 & 0.388802 & 0.611198 & 1.0 \\\\\n",
       "\t3 & HgS & 0.137802 & 0.0 & 0.0 & 0.862198 & 1.0 \\\\\n",
       "\\end{tabular}\n"
      ],
      "text/plain": [
       "\u001b[1m3×6 DataFrame\u001b[0m\n",
       "\u001b[1m Row \u001b[0m│\u001b[1m Material \u001b[0m\u001b[1m S         \u001b[0m\u001b[1m Se        \u001b[0m\u001b[1m Te        \u001b[0m\u001b[1m Hg        \u001b[0m\u001b[1m Total     \u001b[0m\n",
       "\u001b[1m     \u001b[0m│\u001b[90m String   \u001b[0m\u001b[90m Abstract… \u001b[0m\u001b[90m Abstract… \u001b[0m\u001b[90m Abstract… \u001b[0m\u001b[90m Abstract… \u001b[0m\u001b[90m Abstract… \u001b[0m\n",
       "─────┼─────────────────────────────────────────────────────────────────\n",
       "   1 │ HgSe       0.0        0.282482   0.0        0.717518        1.0\n",
       "   2 │ HgTe       0.0        0.0        0.388802   0.611198        1.0\n",
       "   3 │ HgS        0.137802   0.0        0.0        0.862198        1.0"
      ]
     },
     "execution_count": 3,
     "metadata": {},
     "output_type": "execute_result"
    }
   ],
   "source": [
    "elm = parse(Element, \"Hg\")\n",
    "stds=getstandards(elm, 0.01)\n",
    "# push!(stds, parse(Material, \"0.2*Au+0.8*Ag\")) # Example of how to add a standard\n",
    "asa(DataFrame, collect(stds))"
   ]
  },
  {
   "cell_type": "markdown",
   "metadata": {
    "nteract": {
     "transient": {
      "deleting": false
     }
    }
   },
   "source": [
    "The next cell performs all the useful work.  It takes an element, detector and the minimum mass-fraction and produces a table where the rows are the candidate materials and the columns are the fit regions.  A check mark indicates that the material is suitable for the region and an X indicates lack of suitability.  The ideal reference has all checks.  However, it is possible to use spectra from two or more materials to satisfy all the regions that need to be fit."
   ]
  },
  {
   "cell_type": "code",
   "execution_count": 4,
   "metadata": {
    "collapsed": false,
    "jupyter": {
     "outputs_hidden": false,
     "source_hidden": false
    },
    "nteract": {
     "transient": {
      "deleting": false
     }
    }
   },
   "outputs": [
    {
     "data": {
      "text/html": [
       "<table class=\"data-frame\"><thead><tr><th></th><th>Material</th><th>Count</th><th>Hg M5-N7 + 24 others</th><th>Hg L3-M1 + 1 other</th><th>Hg L3-M5 + 2 others</th><th>Hg L2-M1</th><th>Hg L2-M4 + 18 others</th><th>Hg L2-N4 + 15 others</th></tr><tr><th></th><th>String</th><th>Int64</th><th>String</th><th>String</th><th>String</th><th>String</th><th>String</th><th>String</th></tr></thead><tbody><p>3 rows × 8 columns</p><tr><th>1</th><td>HgTe</td><td>5</td><td>✗</td><td>✓</td><td>✓</td><td>✓</td><td>✓</td><td>✓</td></tr><tr><th>2</th><td>HgS</td><td>5</td><td>✗</td><td>✓</td><td>✓</td><td>✓</td><td>✓</td><td>✓</td></tr><tr><th>3</th><td>HgSe</td><td>3</td><td>✗</td><td>✓</td><td>✓</td><td>✗</td><td>✗</td><td>✓</td></tr></tbody></table>"
      ],
      "text/latex": [
       "\\begin{tabular}{r|cccccccc}\n",
       "\t& Material & Count & Hg M5-N7 + 24 others & Hg L3-M1 + 1 other & Hg L3-M5 + 2 others & Hg L2-M1 & Hg L2-M4 + 18 others & Hg L2-N4 + 15 others\\\\\n",
       "\t\\hline\n",
       "\t& String & Int64 & String & String & String & String & String & String\\\\\n",
       "\t\\hline\n",
       "\t1 & HgTe & 5 & ✗ & ✓ & ✓ & ✓ & ✓ & ✓ \\\\\n",
       "\t2 & HgS & 5 & ✗ & ✓ & ✓ & ✓ & ✓ & ✓ \\\\\n",
       "\t3 & HgSe & 3 & ✗ & ✓ & ✓ & ✗ & ✗ & ✓ \\\\\n",
       "\\end{tabular}\n"
      ],
      "text/plain": [
       "\u001b[1m3×8 DataFrame\u001b[0m\n",
       "\u001b[1m Row \u001b[0m│\u001b[1m Material \u001b[0m\u001b[1m Count \u001b[0m\u001b[1m Hg M5-N7 + 24 others \u001b[0m\u001b[1m Hg L3-M1 + 1 other \u001b[0m\u001b[1m Hg L3-M5 + 2 others \u001b[0m\u001b[1m Hg L2-M1 \u001b[0m\u001b[1m Hg L2-M4 + 18 others \u001b[0m\u001b[1m Hg L2-N4 + 15 others \u001b[0m\n",
       "\u001b[1m     \u001b[0m│\u001b[90m String   \u001b[0m\u001b[90m Int64 \u001b[0m\u001b[90m String               \u001b[0m\u001b[90m String             \u001b[0m\u001b[90m String              \u001b[0m\u001b[90m String   \u001b[0m\u001b[90m String               \u001b[0m\u001b[90m String               \u001b[0m\n",
       "─────┼──────────────────────────────────────────────────────────────────────────────────────────────────────────────────────────────────────\n",
       "   1 │ HgTe          5  ✗                     ✓                   ✓                    ✓         ✓                     ✓\n",
       "   2 │ HgS           5  ✗                     ✓                   ✓                    ✓         ✓                     ✓\n",
       "   3 │ HgSe          3  ✗                     ✓                   ✓                    ✗         ✗                     ✓"
      ]
     },
     "execution_count": 4,
     "metadata": {},
     "output_type": "execute_result"
    }
   ],
   "source": [
    "suitability(elm, stds, det)"
   ]
  }
 ],
 "metadata": {
  "@webio": {
   "lastCommId": null,
   "lastKernelId": null
  },
  "kernel_info": {
   "name": "julia-(4-threads)-1.6"
  },
  "kernelspec": {
   "display_name": "Julia (4 threads) 1.6",
   "language": "julia",
   "name": "julia-(4-threads)-1.6"
  },
  "language_info": {
   "file_extension": ".jl",
   "mimetype": "application/julia",
   "name": "julia",
   "version": "1.6.1"
  },
  "nteract": {
   "version": "0.28.0"
  }
 },
 "nbformat": 4,
 "nbformat_minor": 4
}
