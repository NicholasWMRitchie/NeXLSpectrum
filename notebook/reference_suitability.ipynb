{
 "cells": [
  {
   "cell_type": "markdown",
   "source": [
    "# Reference Suitability\n",
    "This notebook is a tool for determining which standard materials are suitable for use as a fitting reference for an element.  The problem it is designed to address is interferences between the element and other elements in the material. It considers a default list of pure elemental and stoichiometric compound standard materials.  The characteristic X-ray associated with the specified element are divided into regions determined by the detector performance each of which will be fit independently.  The algorithm then checks each material containing the element of interest to determine which of these regions does not suffer an interference with any of the other elements in the material."
   ],
   "metadata": {
    "nteract": {
     "transient": {
      "deleting": false
     }
    }
   }
  },
  {
   "cell_type": "code",
   "execution_count": null,
   "source": [
    "# Load the necessary libraries\r\n",
    "using Revise\r\n",
    "using NeXLSpectrum\r\n",
    "using DataFrames\r\n",
    "# Configure tabulation\r\n",
    "ENV[\"lines\"], ENV[\"columns\"] = 200, 400;\r\n"
   ],
   "outputs": [],
   "metadata": {
    "collapsed": false,
    "jupyter": {
     "outputs_hidden": false,
     "source_hidden": false
    },
    "nteract": {
     "transient": {
      "deleting": false
     }
    }
   }
  },
  {
   "cell_type": "markdown",
   "source": [
    "The performance of your detector is critical for determining how the peaks will be split up into independent regions each of which is fit independently."
   ],
   "metadata": {
    "nteract": {
     "transient": {
      "deleting": false
     }
    }
   }
  },
  {
   "cell_type": "code",
   "execution_count": null,
   "source": [
    "# Build a detector model to match your EDS detector\r\n",
    "# BasicEDS(channelCount, zeroOffset, channelWidth, FWHM_MnKa, low_level_discriminator, visibility)\r\n",
    "det = BasicEDS(4096, -480.40409, 5.00525, 132.0, 110, \r\n",
    "  Dict( # What is the first element with visible KShell, LShell, ... peaks\r\n",
    "    KShell=>n\"Be\",\r\n",
    "    LShell=>n\"Ca\",\r\n",
    "    MShell=>n\"Cs\",\r\n",
    "    NShell=>n\"Pu\")\r\n",
    ")"
   ],
   "outputs": [],
   "metadata": {
    "collapsed": false,
    "jupyter": {
     "outputs_hidden": false,
     "source_hidden": false
    },
    "nteract": {
     "transient": {
      "deleting": false
     }
    }
   }
  },
  {
   "cell_type": "markdown",
   "source": [
    "Specify an element and load a default set of standard materials.  You can add additional materials if desired."
   ],
   "metadata": {
    "nteract": {
     "transient": {
      "deleting": false
     }
    }
   }
  },
  {
   "cell_type": "code",
   "execution_count": null,
   "source": [
    "elm = parse(Element, \"Hg\")\r\n",
    "stds=getstandards(elm, 0.01)\r\n",
    "# push!(stds, parse(Material, \"0.2*Au+0.8*Ag\")) # Example of how to add a standard\r\n",
    "asa(DataFrame, collect(stds))"
   ],
   "outputs": [],
   "metadata": {
    "collapsed": false,
    "jupyter": {
     "outputs_hidden": false,
     "source_hidden": false
    },
    "nteract": {
     "transient": {
      "deleting": false
     }
    }
   }
  },
  {
   "cell_type": "markdown",
   "source": [
    "The next cell performs all the useful work.  It takes an element, detector and the minimum mass-fraction and produces a table where the rows are the candidate materials and the columns are the fit regions.  A check mark indicates that the material is suitable for the region and an X indicates lack of suitability.  The ideal reference has all checks.  However, it is possible to use spectra from two or more materials to satisfy all the regions that need to be fit."
   ],
   "metadata": {
    "nteract": {
     "transient": {
      "deleting": false
     }
    }
   }
  },
  {
   "cell_type": "code",
   "execution_count": null,
   "source": [
    "suitability(elm, stds, det)"
   ],
   "outputs": [],
   "metadata": {
    "collapsed": false,
    "jupyter": {
     "outputs_hidden": false,
     "source_hidden": false
    },
    "nteract": {
     "transient": {
      "deleting": false
     }
    }
   }
  }
 ],
 "metadata": {
  "@webio": {
   "lastCommId": null,
   "lastKernelId": null
  },
  "kernel_info": {
   "name": "julia-(4-threads)-1.6"
  },
  "kernelspec": {
   "display_name": "Julia (4 threads) 1.6",
   "language": "julia",
   "name": "julia-(4-threads)-1.6"
  },
  "language_info": {
   "file_extension": ".jl",
   "mimetype": "application/julia",
   "name": "julia",
   "version": "1.6.1"
  },
  "nteract": {
   "version": "0.28.0"
  }
 },
 "nbformat": 4,
 "nbformat_minor": 4
}