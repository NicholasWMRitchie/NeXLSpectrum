{
 "cells": [
  {
   "cell_type": "markdown",
   "metadata": {},
   "source": [
    "## Perform a non-linear fit on a Zn spectrum\n",
    "This notebook will fit a Gaussian peak shape model to the three distinct peaks in a Zn spectrum.\n",
    "  * Fit and remove the background\n",
    "  * Isolate the data in each fit region\n",
    "  * Build a model for each fit region\n",
    "  * Fit all three regions simultaneously using a non-linear fit algorithm"
   ]
  },
  {
   "cell_type": "code",
   "execution_count": null,
   "metadata": {},
   "outputs": [],
   "source": [
    "using Gadfly\n",
    "using Revise\n",
    "using NeXLSpectrum"
   ]
  },
  {
   "cell_type": "markdown",
   "metadata": {},
   "source": [
    "### Load and Visualize the Spectrum Data"
   ]
  },
  {
   "cell_type": "code",
   "execution_count": null,
   "metadata": {},
   "outputs": [],
   "source": [
    "spec=loadspectrum(joinpath(@__DIR__,\"K309\",\"Zn std.msa\"))\n",
    "set_default_plot_size(8inch,3inch)\n",
    "plot(spec, klms=[n\"Zn\", n\"C\", n\"O\"], xmax=12.0e3)"
   ]
  },
  {
   "cell_type": "markdown",
   "metadata": {},
   "source": [
    "### Fit a continuum model\n",
    "  * Build a `detector` to describe the basic detector properties and a `detectorresponce` matrix to describe the detector efficiency.\n",
    "  * Fit a continuum model (returned as a `Spectrum`) to the spectral data.\n",
    "  * Plot the results"
   ]
  },
  {
   "cell_type": "code",
   "execution_count": null,
   "metadata": {},
   "outputs": [],
   "source": [
    "# Build a suitable detector model\n",
    "det = matching(spec, 132.0, 100)\n",
    "# Build a detector response model matrix\n",
    "resp = detectorresponse(det,SDDEfficiency(AP33Model()))\n",
    "# Fit a contiunuum model to the spectrum data\n",
    "brem = fittedcontinuum(spec,det,resp)\n",
    "# Display the result\n",
    "plot(spec, brem, autoklms=true, yscale=0.02)"
   ]
  },
  {
   "cell_type": "markdown",
   "metadata": {},
   "source": [
    "### Compute the background corrected spectrum\n",
    "  * The background corrected data should contain only the characteristic intensity"
   ]
  },
  {
   "cell_type": "code",
   "execution_count": null,
   "metadata": {},
   "outputs": [],
   "source": [
    "bkgcorr = spec-brem\n",
    "plot(bkgcorr, autoklms=true, yscale=0.04)"
   ]
  },
  {
   "cell_type": "markdown",
   "metadata": {},
   "source": [
    "### Determine fit regions\n",
    "  * The fit regions are regions of contiguous overlapping peaks\n",
    "  * In Zn, there are 3 (L-family, Kα and Kβ) \n",
    "  * The third argument determines the width (which we want to include peak and adjacent background)\n",
    "  * I'll use the `labeledextents(...)` function which returns a `Vector{Tuple{Vector{CharXRay}, UnitRange{Int64}}}` containing the lists of characteristic X-rays and the ranges of channels in which they are found. "
   ]
  },
  {
   "cell_type": "code",
   "execution_count": null,
   "metadata": {},
   "outputs": [],
   "source": [
    "lex=NeXLSpectrum.labeledextents(n\"Zn\", det, 1.0e-9)"
   ]
  },
  {
   "cell_type": "markdown",
   "metadata": {},
   "source": [
    "Plot each of the ranges of channels that we will fit."
   ]
  },
  {
   "cell_type": "code",
   "execution_count": null,
   "metadata": {},
   "outputs": [],
   "source": [
    "hstack( ( plot(x=lex[i][2], y=bkgcorr[lex[i][2]], Geom.line) for i in eachindex(lex))...)"
   ]
  },
  {
   "cell_type": "code",
   "execution_count": null,
   "metadata": {},
   "outputs": [],
   "source": [
    "using LsqFit\n",
    "using BenchmarkTools"
   ]
  },
  {
   "cell_type": "markdown",
   "metadata": {},
   "source": [
    "The function `total_ff2(lex, unk)` computes the input arguments for `LsqFit.curve_fit(...)` based on the X-rays and ranges-of-channels in `lex` and the background-corrected unknown spectrum in `unk`.  The input arguments for `LsqFit.curve_fit(...)` are a function, the x-data and the y-data to be fit."
   ]
  },
  {
   "cell_type": "code",
   "execution_count": null,
   "metadata": {},
   "outputs": [],
   "source": [
    "function total_ff2(lex, bkgcorr)\n",
    "    # Build functions for each region\n",
    "    l = sum(le->length(le[2]), lex)\n",
    "    x, y, i = zeros(l), zeros(l), 1\n",
    "    for (cxrs, roc) in lex\n",
    "        for ch in roc\n",
    "            x[i] = ch\n",
    "            y[i] = bkgcorr[ch]\n",
    "            i+=1\n",
    "        end\n",
    "    end \n",
    "    data = Dict(cxr=>(energy(cxr), weight(cxr)) for cxr in union(map(le->Set(le[1]), lex)...))\n",
    "    # This is the fit function\n",
    "    f(chs, args) = map(chs) do ch \n",
    "        eCh, fwhm = args[1] + ch*args[2], args[3]\n",
    "        res = 0.0\n",
    "        for (i, (cxrs, roc)) in enumerate(lex)\n",
    "            if ch in roc\n",
    "                res += args[i+3] * sum(cxrs) do cxr\n",
    "                    e0, wgt = data[cxr]\n",
    "                    g = sqrt(2.45 * (e0 - enx\"Mn K-L3\") + fwhm^2) / (2.0*sqrt(2.0*log(2.0)))\n",
    "                    wgt*exp(-0.5*(((e0-eCh)/g)^2))/(g*sqrt(2π))\n",
    "                end\n",
    "            end\n",
    "        end\n",
    "        res\n",
    "    end\n",
    "    # Return the inputs to the LsqFit.curve_fit function\n",
    "    return (f, x, y)\n",
    "end"
   ]
  },
  {
   "cell_type": "markdown",
   "metadata": {},
   "source": [
    "Let's construct some initial arguments from which to start the fit."
   ]
  },
  {
   "cell_type": "code",
   "execution_count": null,
   "metadata": {},
   "outputs": [],
   "source": [
    "args = [ energy(1,spec), channelwidth(1,spec), 132.0, 2e6, 7e5, 8.0e5]\n",
    "(f2, x, y) = total_ff2(lex, bkgcorr)\n",
    "plot(x=x, y=f2(x, args), Geom.line)"
   ]
  },
  {
   "cell_type": "code",
   "execution_count": null,
   "metadata": {},
   "outputs": [],
   "source": [
    "res=curve_fit(f2, x, y, args)\n",
    "plot(\n",
    "    layer(x=x, y=y, Geom.line, Theme(default_color=\"red\")),\n",
    "    layer(x=x, y=f2(x, res.param), Geom.point, Theme(default_color=\"blue\")),\n",
    "    layer(x=x, y=100.0*res.resid, Geom.line, Theme(default_color=\"green\")),\n",
    ")"
   ]
  },
  {
   "cell_type": "code",
   "execution_count": null,
   "metadata": {},
   "outputs": [],
   "source": [
    "@show res.param;"
   ]
  },
  {
   "cell_type": "markdown",
   "metadata": {},
   "source": [
    "Compare to [ -481.8, 5.0049, 126.7, ...] in DTSA-II"
   ]
  },
  {
   "cell_type": "markdown",
   "metadata": {},
   "source": [
    "Now let's try to refit using a function that can vary the intensity of each `CharXRay` independently. We start with the result of the previous fit."
   ]
  },
  {
   "cell_type": "code",
   "execution_count": null,
   "metadata": {},
   "outputs": [],
   "source": [
    "function total_ff3(lex, bkgcorr)\n",
    "    # Build functions for each region\n",
    "    l = sum(le->length(le[2]), lex)\n",
    "    x, y, i = zeros(l), zeros(l), 1\n",
    "    for (cxrs, roc) in lex\n",
    "        for ch in roc\n",
    "            x[i] = ch\n",
    "            y[i] = bkgcorr[ch]\n",
    "            i+=1\n",
    "        end\n",
    "    end \n",
    "    data = [ (cxr, energy(cxr), weight(cxr)) for cxr in Iterators.flatten(map(le->le[1], lex)) ]\n",
    "    # This is the fit function\n",
    "    f(chs, args) = map(chs) do ch \n",
    "        eCh, fwhm = args[1] + ch*args[2], args[3]\n",
    "        off = 0\n",
    "        return sum(lex) do (cxrs, roc)\n",
    "            if ch in roc\n",
    "                res=sum(cxrs) do cxr\n",
    "                    sc = args[(off+=1)+3]\n",
    "                    cx, e0, wgt = data[off]\n",
    "                    @assert cx == cxr \"$cx != $cxr\"\n",
    "                    g = sqrt(2.45 * (e0 - enx\"Mn K-L3\") + fwhm^2) / (2.0*sqrt(2.0*log(2.0)))\n",
    "                    sc*wgt*exp(-0.5*(((e0-eCh)/g)^2))/(g*sqrt(2π))\n",
    "                end\n",
    "            else\n",
    "                off+=length(cxrs)\n",
    "                res=0.0\n",
    "            end\n",
    "            res\n",
    "        end\n",
    "    end\n",
    "    # Return the inputs to the LsqFit.curve_fit function\n",
    "    return (f, x, y)\n",
    "end"
   ]
  },
  {
   "cell_type": "markdown",
   "metadata": {},
   "source": [
    "Check the function `total_ff3(...)` produces the same results as `total_ff2(...)` for the same input arguments."
   ]
  },
  {
   "cell_type": "code",
   "execution_count": null,
   "metadata": {},
   "outputs": [],
   "source": [
    "(f3, x, y) = total_ff3(lex, bkgcorr)\n",
    "args3 = [ res.param[1:3]..., collect(Iterators.flatten((fill(res.param[3+i],length(lex[i][1])) for i in eachindex(lex))))...]\n",
    "plot(\n",
    "    layer(x=x, y=f2(x, res.param), Geom.line, Theme(default_color=\"blue\")),\n",
    "    layer(x=x, y=f3(x, args3), Geom.point, Theme(default_color=\"red\"))\n",
    ")\n"
   ]
  },
  {
   "cell_type": "markdown",
   "metadata": {},
   "source": [
    "Run the curve fit on the higher dimensionality model function.\n",
    "\n",
    "Plot the results.   Note the residuals are generally multiplied by a factor of 100.0 to make them visible."
   ]
  },
  {
   "cell_type": "code",
   "execution_count": null,
   "metadata": {},
   "outputs": [],
   "source": [
    "res3 = curve_fit(f3, x, y, args3)\n",
    "plot(\n",
    "    layer(x=x, y=y, Geom.line, Theme(default_color=\"red\")),\n",
    "    layer(x=x, y=f3(x, res3.param), Geom.line, Theme(default_color=\"blue\")),\n",
    "    layer(x=x, y=100.0*res3.resid, Geom.line, Theme(default_color=\"green\")),\n",
    ")"
   ]
  },
  {
   "cell_type": "markdown",
   "metadata": {},
   "source": [
    "The residual is really tiny (as you might expect with so many free parameters.)\n",
    "\n",
    "But sadly, the weights are junk. We can have negative weights."
   ]
  },
  {
   "cell_type": "code",
   "execution_count": null,
   "metadata": {},
   "outputs": [],
   "source": [
    "@show res3.param;"
   ]
  },
  {
   "cell_type": "markdown",
   "metadata": {},
   "source": [
    "Let's try to add some constraints on the arguments."
   ]
  },
  {
   "cell_type": "code",
   "execution_count": null,
   "metadata": {},
   "outputs": [],
   "source": [
    "lb = [ args3[1], args3[2], args3[3], (a*0.9 for a in args3[4:end])...]\n",
    "ub = [ args3[1], args3[2], args3[3], (a*1.1 for a in args3[4:end])...]\n",
    "res3 = curve_fit(f3, x, y, args3, lower=lb, upper=ub)\n",
    "plot(\n",
    "    layer(x=x, y=y, Geom.line, Theme(default_color=\"red\")),\n",
    "    layer(x=x, y=f3(x, res3.param), Geom.line, Theme(default_color=\"blue\")),\n",
    "    layer(x=x, y=res3.resid, Geom.line, Theme(default_color=\"green\")),\n",
    ")"
   ]
  },
  {
   "cell_type": "markdown",
   "metadata": {},
   "source": [
    "It takes forever and doesn't actually produce very good results."
   ]
  },
  {
   "cell_type": "code",
   "execution_count": null,
   "metadata": {},
   "outputs": [],
   "source": [
    "plot(x=x, y=res3.resid, Geom.line, Theme(default_color=\"green\"))"
   ]
  },
  {
   "cell_type": "code",
   "execution_count": null,
   "metadata": {},
   "outputs": [],
   "source": [
    "@show res3.param;"
   ]
  },
  {
   "cell_type": "markdown",
   "metadata": {},
   "source": [
    "Let's be a little bit more clever.  We'll constrain the line intensity to be positive through the use of by making the function argument `ap = log(a)` and inverting the argument back using `exp(ap)` in the function.  Since the range of the function `exp(...)` is positive definite, we can't get negative intensities."
   ]
  },
  {
   "cell_type": "code",
   "execution_count": null,
   "metadata": {},
   "outputs": [],
   "source": [
    "function total_ff4(lex, bkgcorr)\n",
    "    # Build functions for each region\n",
    "    l = sum(le->length(le[2]), lex)\n",
    "    x, y, i = zeros(l), zeros(l), 1\n",
    "    for (cxrs, roc) in lex\n",
    "        for ch in roc\n",
    "            x[i] = ch\n",
    "            y[i] = bkgcorr[ch]\n",
    "            i+=1\n",
    "        end\n",
    "    end \n",
    "    # data is visible within f\n",
    "    data = [ (cxr, energy(cxr), weight(cxr)) for cxr in Iterators.flatten(map(le->le[1], lex)) ]\n",
    "    # This is the fit function\n",
    "    f(chs, args) = map(chs) do ch \n",
    "        eCh, fwhm = args[1] + ch*args[2], args[3]\n",
    "        off = 0\n",
    "        return sum(lex) do (cxrs, roc)\n",
    "            if ch in roc\n",
    "                res=sum(cxrs) do cxr\n",
    "                    cx, e0, wgt = data[off+=1]\n",
    "                    @assert cx == cxr \"$cx != $cxr\"\n",
    "                    @assert off+3 >= 4\n",
    "                    sc = exp(args[off+3])\n",
    "                    g = sqrt(2.45 * (e0 - enx\"Mn K-L3\") + fwhm^2) / (2.0*sqrt(2.0*log(2.0)))\n",
    "                    sc*wgt*exp(-0.5*(((e0-eCh)/g)^2))/(g*sqrt(2π))\n",
    "                end\n",
    "            else\n",
    "                off+=length(cxrs)\n",
    "                res=0.0\n",
    "            end\n",
    "            res\n",
    "        end\n",
    "    end\n",
    "    # Return the inputs to the LsqFit.curve_fit function\n",
    "    return (f, x, y)\n",
    "end"
   ]
  },
  {
   "cell_type": "code",
   "execution_count": null,
   "metadata": {},
   "outputs": [],
   "source": [
    "(f4, x, y) = total_ff4(lex, bkgcorr)\n",
    "args4 = [ res.param[1:3]..., collect(Iterators.flatten(fill(log(res.param[3+i]),length(lex[i][1])) for i in eachindex(lex)))...]\n",
    "plot(\n",
    "    layer(x=x, y=f2(x, res.param), Geom.line, Theme(default_color=\"blue\")),\n",
    "    layer(x=x, y=f4(x, args4), Geom.point, Theme(default_color=\"red\"))\n",
    ")"
   ]
  },
  {
   "cell_type": "code",
   "execution_count": null,
   "metadata": {},
   "outputs": [],
   "source": [
    "res4 = curve_fit(f4, x, y, args4)\n",
    "@show res4.param;"
   ]
  },
  {
   "cell_type": "code",
   "execution_count": null,
   "metadata": {},
   "outputs": [],
   "source": [
    "plot(\n",
    "    layer(x=x, y=y, Geom.line, Theme(default_color=\"red\")),\n",
    "    layer(x=x, y=f4(x, res4.param), Geom.line, Theme(default_color=\"blue\")),\n",
    "    layer(x=x, y=100.0*res4.resid, Geom.line, Theme(default_color=\"green\")),\n",
    ")"
   ]
  },
  {
   "cell_type": "code",
   "execution_count": null,
   "metadata": {},
   "outputs": [],
   "source": [
    "data = [ (cxr, energy(cxr), weight(cxr)) for cxr in Iterators.flatten(map(le->le[1], lex)) ]\n",
    "collect(zip(data, exp.(res4.param[4:end]), exp.(res4.param[4:end]) ./ exp.(args4[4:end])))"
   ]
  },
  {
   "cell_type": "markdown",
   "metadata": {},
   "source": [
    "This is better but there remains a problem.  Lines we know are intense have been diminished and lines we know are weaker have been intensified.  We know this is a problem.  So simply constraining the line intensities to be positive isn't enough.  We also need to constrain them to be within a certain range of their tabulated values - intense lines can't become weak and weak lines can't become intense.\n",
    "\n",
    "Compare to [ -481.8, 5.0049, 126.7, ...] in DTSA-II"
   ]
  },
  {
   "cell_type": "code",
   "execution_count": null,
   "metadata": {},
   "outputs": [],
   "source": [
    "@show res4.param[1:3];"
   ]
  },
  {
   "cell_type": "code",
   "execution_count": null,
   "metadata": {},
   "outputs": [],
   "source": [
    "function range_constrain(center, width) \n",
    "    return ( \n",
    "        res -> tan((res-center)/(width*(2.0/π))), # From constrained\n",
    "        arg -> center + width*(2.0/π)*atan(arg) # To constrained\n",
    "    )\n",
    "end"
   ]
  },
  {
   "cell_type": "code",
   "execution_count": null,
   "metadata": {},
   "outputs": [],
   "source": [
    "(f, fi) = range_constrain(100.0,10.0)\n",
    "g(x) = f(x), fi(f(x))\n",
    "g(90.0001), g(100.0), g(101.0), g(109.9999)"
   ]
  },
  {
   "cell_type": "code",
   "execution_count": null,
   "metadata": {},
   "outputs": [],
   "source": [
    "function db(w) \n",
    "    if w>0.9\n",
    "        return 0.1\n",
    "    elseif w>0.5\n",
    "        return 0.5\n",
    "    elseif w>0.1\n",
    "        return 0.8\n",
    "    elseif w>0.01\n",
    "        return 0.9\n",
    "    else\n",
    "        return 0.99\n",
    "    end\n",
    "end\n",
    "lb = [ args4[1]-10.0, args4[2]*0.999, 120.0, ( a*(1.0 - db(d[3])) for (d, a) in zip(data, args4[4:end]))... ]\n",
    "ub = [ args4[1]+10.0, args4[2]/0.999, 150.0, (a*(1.0 + db(d[3])) for (d, a) in zip(data, args4[4:end]))... ]\n",
    "#lb, ub\n",
    "res4 = curve_fit(f4, x, y, args4, lower=lb, upper=ub)\n",
    "@show res4.param;"
   ]
  },
  {
   "cell_type": "code",
   "execution_count": null,
   "metadata": {},
   "outputs": [],
   "source": [
    "collect(zip(data, exp.(res4.param[4:end]), exp.(res4.param[4:end]) ./ exp.(args4[4:end])))"
   ]
  },
  {
   "cell_type": "code",
   "execution_count": null,
   "metadata": {},
   "outputs": [],
   "source": [
    "@show res4.param[1:3];"
   ]
  },
  {
   "cell_type": "code",
   "execution_count": null,
   "metadata": {},
   "outputs": [],
   "source": [
    "plot(\n",
    "    layer(x=x, y=res4.resid, Geom.line, Theme(default_color=\"green\")),\n",
    ")"
   ]
  },
  {
   "cell_type": "markdown",
   "metadata": {},
   "source": [
    "We are going to have to be much more sophisticated to get the fit we want.\n",
    "\n",
    "This block implements a handful of different useful constraints.  Essentially constraints are functions that map (-∞,∞) to a constrained range such as (0,∞), (min, max), (center-width, center+width) etc.  The optimization still occurs on the unbounded interval (-∞,∞) but the result is constrained to within the range."
   ]
  },
  {
   "cell_type": "code",
   "execution_count": null,
   "metadata": {},
   "outputs": [],
   "source": [
    "abstract type ConstrainedParameter end\n",
    "initial(uc::ConstrainedParameter) = uc.val\n",
    "\n",
    "struct Unconstrained <: ConstrainedParameter \n",
    "    val::Float64\n",
    "end\n",
    "\n",
    "forward(uc::Unconstrained, v::Float64) = v\n",
    "back(uc::Unconstrained, v::Float64) = v\n",
    "\n",
    "struct PositiveConstraint <: ConstrainedParameter\n",
    "    val::Float64\n",
    "end\n",
    "\n",
    "forward(uc::PositiveConstraint, v::Float64) = log(v)\n",
    "back(uc::PositiveConstraint, v::Float64) = exp(v)\n",
    "\n",
    "struct NegativeConstraint <: ConstrainedParameter \n",
    "    val::Float64\n",
    "end\n",
    "\n",
    "forward(uc::NegativeConstraint, v::Float64) = log(-v)\n",
    "back(uc::NegativeConstraint, v::Float64) = -exp(v)\n",
    "\n",
    "struct RangeConstraint <: ConstrainedParameter \n",
    "    val::Float64\n",
    "    width::Float64\n",
    "end\n",
    "\n",
    "forward(uc::RangeConstraint, v::Float64) = tan((v-uc.val)/(uc.width*(2.0/π)))\n",
    "back(uc::RangeConstraint, v::Float64) = uc.val + uc.width*(2.0/π)*atan(v)\n",
    "\n",
    "struct MinMaxConstraint <: ConstrainedParameter \n",
    "    val::Float64\n",
    "    min::Float64\n",
    "    max::Float64\n",
    "end\n",
    "back(uc::MinMaxConstraint, v::Float64) = tan((v-0.5*(uc.min+uc.max))/((uc.max-uc.min)*(2.0/π)))\n",
    "forward(uc::MinMaxConstraint, v::Float64) = 0.5*(uc.min+uc.max) + (uc.max-uc.min)*(2.0/π)*atan(v)"
   ]
  },
  {
   "cell_type": "code",
   "execution_count": null,
   "metadata": {},
   "outputs": [],
   "source": [
    "rc = MinMaxConstraint(100.0, 92.0, 110.0)\n",
    "g(rc, v) = forward(rc, v), back(rc, forward(rc, v))\n",
    "g(rc, 110.0-0.001)"
   ]
  },
  {
   "cell_type": "code",
   "execution_count": null,
   "metadata": {},
   "outputs": [],
   "source": [
    "rc = PositiveConstraint(100.0)\n",
    "g(rc, v) = forward(rc, v), back(rc, forward(rc, v))\n",
    "g(rc, 10000.001)"
   ]
  },
  {
   "cell_type": "code",
   "execution_count": null,
   "metadata": {},
   "outputs": [],
   "source": [
    "rc = RangeConstraint(100.0, 10.0)\n",
    "g(rc, v) = forward(rc, v), back(rc, forward(rc, v))\n",
    "g(rc, 110.0-0.001)"
   ]
  },
  {
   "cell_type": "code",
   "execution_count": null,
   "metadata": {},
   "outputs": [],
   "source": [
    "rc = Unconstrained(100.0)\n",
    "g(rc, v) = forward(rc, v), back(rc, forward(rc, v))\n",
    "g(rc, 110.0-0.001)"
   ]
  },
  {
   "cell_type": "markdown",
   "metadata": {},
   "source": [
    "Here we define how the fitting function arguments are constrained.  The energy calibration and resolution calibration are handled independently.  The intensity calibration is handled such that intense lines remain intense.  This ensures that the curve_fit function doesn't play off the energy scale against the intensities such that intensity gets transferred from intense lines to weak lines."
   ]
  },
  {
   "cell_type": "code",
   "execution_count": null,
   "metadata": {},
   "outputs": [],
   "source": [
    "function iconst(w, i)\n",
    "    if w>0.5\n",
    "        return RangeConstraint(i, 0.1*i)\n",
    "    elseif w>0.1\n",
    "        return RangeConstraint(i, 0.2*i)\n",
    "    elseif w>0.01\n",
    "        return RangeConstraint(i, 0.8*i)\n",
    "    else\n",
    "        return PositiveConstraint(i)\n",
    "    end\n",
    "end \n",
    "\n",
    "args5 = [ \n",
    "    RangeConstraint(args3[1], 10.0),\n",
    "    RangeConstraint(args3[2], 0.01),\n",
    "    RangeConstraint(args3[3], 10.0),\n",
    "    ( iconst(d[3], ii) for (d, ii) in zip(data, args3[4:end]))...\n",
    "];\n",
    "@show args5;"
   ]
  },
  {
   "cell_type": "markdown",
   "metadata": {},
   "source": [
    "Now construct a function that takes as input the constrained parameters and, through the magic of closures, applies the constraints to keep the arguments to the function `f` within a constrained range."
   ]
  },
  {
   "cell_type": "code",
   "execution_count": null,
   "metadata": {},
   "outputs": [],
   "source": [
    "function constrained_curve_fit(f, x, y, cp0::AbstractVector{<:ConstrainedParameter}; kwargs...)\n",
    "    g(x, args) = f(x, [ back(cp, arg) for (cp, arg) in zip(cp0, args) ])\n",
    "    p0 = [ forward(cp, initial(cp)) for cp in cp0 ]\n",
    "    res = curve_fit(g, x, y, p0; kwargs...)\n",
    "    rp = [ back(cv, arg) for (cv, arg) in zip(cp0, res.param) ]\n",
    "    return LsqFit.LsqFitResult(rp, res.resid, res.jacobian, res.converged, res.wt)\n",
    "end"
   ]
  },
  {
   "cell_type": "code",
   "execution_count": null,
   "metadata": {},
   "outputs": [],
   "source": [
    "res5=constrained_curve_fit(f3, x, y, args5)\n",
    "@show res5.param;"
   ]
  },
  {
   "cell_type": "code",
   "execution_count": null,
   "metadata": {},
   "outputs": [],
   "source": [
    "plot(\n",
    "    layer(x=x, y=100.0*res5.resid, Geom.line, Theme(default_color=\"green\")),\n",
    "    layer(x=x, y=y, Geom.line, Theme(default_color=\"red\")),\n",
    "    layer(x=x, y=f3(x, res5.param), Geom.point)\n",
    ")"
   ]
  },
  {
   "cell_type": "markdown",
   "metadata": {},
   "source": [
    "This looks a whole lot better.  The residual is relatively small and relatively structureless.  The weight is in the lines we expect it to be."
   ]
  },
  {
   "cell_type": "code",
   "execution_count": null,
   "metadata": {},
   "outputs": [],
   "source": [
    "collect(zip(data, res5.param[4:end], res5.param[4:end] ./ args3[4:end]))"
   ]
  }
 ],
 "metadata": {
  "kernelspec": {
   "display_name": "Julia 1.6.3 (4 threads) 1.6.3",
   "language": "julia",
   "name": "julia-1.6.3-(4-threads)-1.6"
  },
  "language_info": {
   "file_extension": ".jl",
   "mimetype": "application/julia",
   "name": "julia",
   "version": "1.6.3"
  },
  "orig_nbformat": 4
 },
 "nbformat": 4,
 "nbformat_minor": 2
}
