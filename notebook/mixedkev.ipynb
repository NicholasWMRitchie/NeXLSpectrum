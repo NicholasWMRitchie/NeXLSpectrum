{
  "cells": [
    {
      "cell_type": "markdown",
      "source": [
        "# Mixed-keV analyses\n",
        "This notebook will demonstrate how it is possible (albeit not necessarily advised) to perform analyses with standards and unknowns collected at different beam energies. \n",
        "\n",
        "Here, we take our favorite SRM glass, K412, and use data from 15 keV and 20 keV."
      ],
      "metadata": {
        "nteract": {
          "transient": {
            "deleting": false
          }
        }
      }
    },
    {
      "cell_type": "code",
      "source": [
        "using NeXLSpectrum, DataFrames\n",
        "\n",
        "path = joinpath(@__DIR__,\"..\",\"test\")"
      ],
      "outputs": [
        {
          "output_type": "execute_result",
          "execution_count": 1,
          "data": {
            "text/plain": "\"C:\\\\Users\\\\nritchie\\\\.julia\\\\dev\\\\NeXLSpectrum\\\\notebook\\\\..\\\\test\""
          },
          "metadata": {}
        }
      ],
      "execution_count": 1,
      "metadata": {
        "collapsed": true,
        "jupyter": {
          "source_hidden": false,
          "outputs_hidden": false
        },
        "nteract": {
          "transient": {
            "deleting": false
          }
        },
        "execution": {
          "iopub.status.busy": "2021-03-03T20:51:25.167Z",
          "iopub.execute_input": "2021-03-03T20:51:25.804Z",
          "iopub.status.idle": "2021-03-03T20:51:40.402Z"
        }
      }
    },
    {
      "cell_type": "markdown",
      "source": [
        "#### Example at 20 keV"
      ],
      "metadata": {
        "nteract": {
          "transient": {
            "deleting": false
          }
        }
      }
    },
    {
      "cell_type": "code",
      "source": [
        "al2o3 = sum(findsimilar(loadspectrum.(joinpath(path,\"Multi-keV\", \"20 keV\", \"IIIE Al2O3[$i][4].msa\") for i in 0:4)))\n",
        "sio2 = sum(findsimilar(loadspectrum.(joinpath(path,\"Multi-keV\", \"20 keV\", \"IIIE SiO2[$i][4].msa\") for i in 0:4)))\n",
        "fe = sum(findsimilar(loadspectrum.(joinpath(path,\"Multi-keV\", \"20 keV\", \"IIIE Fe[$i][4].msa\") for i in 0:4)))\n",
        "caf2 = sum(findsimilar(loadspectrum.(joinpath(path,\"Multi-keV\", \"20 keV\", \"IIIE CaF2[$i][4].msa\") for i in 0:4)))\n",
        "mgo = sum(findsimilar(loadspectrum.(joinpath(path,\"Multi-keV\", \"20 keV\", \"IIIE MgO[$i][4].msa\") for i in 0:4)))\n",
        "unk20 = loadspectrum.(joinpath(path,\"Multi-keV\", \"20 keV\", \"IIIE K412[$i][4].msa\") for i in 0:4)\n",
        "    \n",
        "refs20 = references( [\n",
        "    reference( n\"Al\", al2o3 ),\n",
        "    reference( n\"Si\", sio2 ),\n",
        "    reference( n\"O\", sio2 ),\n",
        "    reference( n\"Fe\", fe ),\n",
        "    reference( n\"Ca\", caf2 ),\n",
        "    reference( n\"Mg\", mgo ),\n",
        "], 132.0)\n",
        "\n",
        "q20 = map(s->quantify(s, refs20), unk20)\n",
        "ENV[\"columns\"]=300\n",
        "asa(DataFrame, q20, nominal = srm470_k412)"
      ],
      "outputs": [
        {
          "output_type": "execute_result",
          "execution_count": 2,
          "data": {
            "text/plain": "\u001b[1m6×8 DataFrame\u001b[0m\n\u001b[1m Row \u001b[0m│\u001b[1m Material          \u001b[0m\u001b[1m O         \u001b[0m\u001b[1m Mg        \u001b[0m\u001b[1m Al        \u001b[0m\u001b[1m Si        \u001b[0m\u001b[1m Ca        \u001b[0m\u001b[1m Fe        \u001b[0m\u001b[1m Total     \u001b[0m\n\u001b[1m     \u001b[0m│\u001b[90m String            \u001b[0m\u001b[90m Abstract… \u001b[0m\u001b[90m Abstract… \u001b[0m\u001b[90m Abstract… \u001b[0m\u001b[90m Abstract… \u001b[0m\u001b[90m Abstract… \u001b[0m\u001b[90m Abstract… \u001b[0m\u001b[90m Abstract… \u001b[0m\n─────┼────────────────────────────────────────────────────────────────────────────────────────────────\n   1 │ IIIE K412[0][all]   0.433267   0.114031  0.0483377   0.206468   0.107901  0.0803486   0.990352\n   2 │ IIIE K412[1][all]   0.436832   0.114398  0.0484255   0.206351   0.10775   0.0799887   0.993745\n   3 │ IIIE K412[2][all]   0.440434   0.1149    0.048406    0.207036   0.10796   0.0805233   0.999259\n   4 │ IIIE K412[3][all]   0.443581   0.114761  0.0485521   0.207175   0.107965  0.080116    1.00215\n   5 │ IIIE K412[4][all]   0.447278   0.115259  0.0484935   0.206978   0.107989  0.0799606   1.00596\n   6 │ SRM-470 K412        0.427576   0.116568  0.0490621   0.211983   0.108991  0.0774201   0.9916",
            "text/html": "<table class=\"data-frame\"><thead><tr><th></th><th>Material</th><th>O</th><th>Mg</th><th>Al</th><th>Si</th><th>Ca</th><th>Fe</th><th>Total</th></tr><tr><th></th><th>String</th><th>Abstrac…</th><th>Abstrac…</th><th>Abstrac…</th><th>Abstrac…</th><th>Abstrac…</th><th>Abstrac…</th><th>Abstrac…</th></tr></thead><tbody><p>6 rows × 8 columns</p><tr><th>1</th><td>IIIE K412[0][all]</td><td>0.433267</td><td>0.114031</td><td>0.0483377</td><td>0.206468</td><td>0.107901</td><td>0.0803486</td><td>0.990352</td></tr><tr><th>2</th><td>IIIE K412[1][all]</td><td>0.436832</td><td>0.114398</td><td>0.0484255</td><td>0.206351</td><td>0.10775</td><td>0.0799887</td><td>0.993745</td></tr><tr><th>3</th><td>IIIE K412[2][all]</td><td>0.440434</td><td>0.1149</td><td>0.048406</td><td>0.207036</td><td>0.10796</td><td>0.0805233</td><td>0.999259</td></tr><tr><th>4</th><td>IIIE K412[3][all]</td><td>0.443581</td><td>0.114761</td><td>0.0485521</td><td>0.207175</td><td>0.107965</td><td>0.080116</td><td>1.00215</td></tr><tr><th>5</th><td>IIIE K412[4][all]</td><td>0.447278</td><td>0.115259</td><td>0.0484935</td><td>0.206978</td><td>0.107989</td><td>0.0799606</td><td>1.00596</td></tr><tr><th>6</th><td>SRM-470 K412</td><td>0.427576</td><td>0.116568</td><td>0.0490621</td><td>0.211983</td><td>0.108991</td><td>0.0774201</td><td>0.9916</td></tr></tbody></table>",
            "text/latex": "\\begin{tabular}{r|cccccccc}\n\t& Material & O & Mg & Al & Si & Ca & Fe & Total\\\\\n\t\\hline\n\t& String & Abstrac… & Abstrac… & Abstrac… & Abstrac… & Abstrac… & Abstrac… & Abstrac…\\\\\n\t\\hline\n\t1 & IIIE K412[0][all] & 0.433267 & 0.114031 & 0.0483377 & 0.206468 & 0.107901 & 0.0803486 & 0.990352 \\\\\n\t2 & IIIE K412[1][all] & 0.436832 & 0.114398 & 0.0484255 & 0.206351 & 0.10775 & 0.0799887 & 0.993745 \\\\\n\t3 & IIIE K412[2][all] & 0.440434 & 0.1149 & 0.048406 & 0.207036 & 0.10796 & 0.0805233 & 0.999259 \\\\\n\t4 & IIIE K412[3][all] & 0.443581 & 0.114761 & 0.0485521 & 0.207175 & 0.107965 & 0.080116 & 1.00215 \\\\\n\t5 & IIIE K412[4][all] & 0.447278 & 0.115259 & 0.0484935 & 0.206978 & 0.107989 & 0.0799606 & 1.00596 \\\\\n\t6 & SRM-470 K412 & 0.427576 & 0.116568 & 0.0490621 & 0.211983 & 0.108991 & 0.0774201 & 0.9916 \\\\\n\\end{tabular}\n"
          },
          "metadata": {}
        }
      ],
      "execution_count": 2,
      "metadata": {
        "collapsed": false,
        "jupyter": {
          "source_hidden": false,
          "outputs_hidden": false
        },
        "nteract": {
          "transient": {
            "deleting": false
          }
        },
        "execution": {
          "iopub.status.busy": "2021-03-03T20:51:40.414Z",
          "iopub.execute_input": "2021-03-03T20:51:41.192Z",
          "iopub.status.idle": "2021-03-03T20:52:29.346Z"
        }
      }
    },
    {
      "cell_type": "markdown",
      "source": [
        "#### Example at 15 keV"
      ],
      "metadata": {
        "nteract": {
          "transient": {
            "deleting": false
          }
        }
      }
    },
    {
      "cell_type": "code",
      "source": [
        "al2o3 = sum(findsimilar(loadspectrum.(joinpath(path,\"Multi-keV\", \"15 keV\", \"IIIE Al2O3[$i][4].msa\") for i in 0:4)))\n",
        "sio2 = sum(findsimilar(loadspectrum.(joinpath(path,\"Multi-keV\", \"15 keV\", \"IIIE SiO2[$i][4].msa\") for i in 0:4)))\n",
        "fe = sum(findsimilar(loadspectrum.(joinpath(path,\"Multi-keV\", \"15 keV\", \"IIIE Fe[$i][4].msa\") for i in 0:4)))\n",
        "caf2 = sum(findsimilar(loadspectrum.(joinpath(path,\"Multi-keV\", \"15 keV\", \"IIIE CaF2[$i][4].msa\") for i in 0:4)))\n",
        "mgo = sum(findsimilar(loadspectrum.(joinpath(path,\"Multi-keV\", \"15 keV\", \"IIIE MgO[$i][4].msa\") for i in 0:4)))\n",
        "unk15 = loadspectrum.(joinpath(path,\"Multi-keV\", \"15 keV\", \"IIIE K412[$i][4].msa\") for i in 0:4)\n",
        "\n",
        "refs15 = references( [\n",
        "    reference( n\"Al\", al2o3 ),\n",
        "    reference( n\"Si\", sio2 ),\n",
        "    reference( n\"O\", sio2 ),\n",
        "    reference( n\"Fe\", fe ),\n",
        "    reference( n\"Ca\", caf2 ),\n",
        "    reference( n\"Mg\", mgo ),\n",
        "], 132.0)\n",
        "\n",
        "q15 = map(s->quantify(s, refs15), unk15)\n",
        "asa(DataFrame, q15, nominal=srm470_k412)"
      ],
      "outputs": [
        {
          "output_type": "execute_result",
          "execution_count": 3,
          "data": {
            "text/plain": "\u001b[1m6×8 DataFrame\u001b[0m\n\u001b[1m Row \u001b[0m│\u001b[1m Material          \u001b[0m\u001b[1m O         \u001b[0m\u001b[1m Mg        \u001b[0m\u001b[1m Al        \u001b[0m\u001b[1m Si        \u001b[0m\u001b[1m Ca        \u001b[0m\u001b[1m Fe        \u001b[0m\u001b[1m Total     \u001b[0m\n\u001b[1m     \u001b[0m│\u001b[90m String            \u001b[0m\u001b[90m Abstract… \u001b[0m\u001b[90m Abstract… \u001b[0m\u001b[90m Abstract… \u001b[0m\u001b[90m Abstract… \u001b[0m\u001b[90m Abstract… \u001b[0m\u001b[90m Abstract… \u001b[0m\u001b[90m Abstract… \u001b[0m\n─────┼────────────────────────────────────────────────────────────────────────────────────────────────\n   1 │ IIIE K412[0][all]   0.456353   0.115745  0.0486705   0.210497   0.10807   0.0807532    1.02009\n   2 │ IIIE K412[1][all]   0.45648    0.115591  0.0484402   0.210833   0.108274  0.0797595    1.01938\n   3 │ IIIE K412[2][all]   0.456335   0.115708  0.0486172   0.210387   0.108129  0.0804043    1.01958\n   4 │ IIIE K412[3][all]   0.456809   0.115902  0.048512    0.210671   0.108418  0.0806119    1.02092\n   5 │ IIIE K412[4][all]   0.45693    0.115702  0.0485977   0.210041   0.108325  0.0799531    1.01955\n   6 │ SRM-470 K412        0.427576   0.116568  0.0490621   0.211983   0.108991  0.0774201    0.9916",
            "text/html": "<table class=\"data-frame\"><thead><tr><th></th><th>Material</th><th>O</th><th>Mg</th><th>Al</th><th>Si</th><th>Ca</th><th>Fe</th><th>Total</th></tr><tr><th></th><th>String</th><th>Abstrac…</th><th>Abstrac…</th><th>Abstrac…</th><th>Abstrac…</th><th>Abstrac…</th><th>Abstrac…</th><th>Abstrac…</th></tr></thead><tbody><p>6 rows × 8 columns</p><tr><th>1</th><td>IIIE K412[0][all]</td><td>0.456353</td><td>0.115745</td><td>0.0486705</td><td>0.210497</td><td>0.10807</td><td>0.0807532</td><td>1.02009</td></tr><tr><th>2</th><td>IIIE K412[1][all]</td><td>0.45648</td><td>0.115591</td><td>0.0484402</td><td>0.210833</td><td>0.108274</td><td>0.0797595</td><td>1.01938</td></tr><tr><th>3</th><td>IIIE K412[2][all]</td><td>0.456335</td><td>0.115708</td><td>0.0486172</td><td>0.210387</td><td>0.108129</td><td>0.0804043</td><td>1.01958</td></tr><tr><th>4</th><td>IIIE K412[3][all]</td><td>0.456809</td><td>0.115902</td><td>0.048512</td><td>0.210671</td><td>0.108418</td><td>0.0806119</td><td>1.02092</td></tr><tr><th>5</th><td>IIIE K412[4][all]</td><td>0.45693</td><td>0.115702</td><td>0.0485977</td><td>0.210041</td><td>0.108325</td><td>0.0799531</td><td>1.01955</td></tr><tr><th>6</th><td>SRM-470 K412</td><td>0.427576</td><td>0.116568</td><td>0.0490621</td><td>0.211983</td><td>0.108991</td><td>0.0774201</td><td>0.9916</td></tr></tbody></table>",
            "text/latex": "\\begin{tabular}{r|cccccccc}\n\t& Material & O & Mg & Al & Si & Ca & Fe & Total\\\\\n\t\\hline\n\t& String & Abstrac… & Abstrac… & Abstrac… & Abstrac… & Abstrac… & Abstrac… & Abstrac…\\\\\n\t\\hline\n\t1 & IIIE K412[0][all] & 0.456353 & 0.115745 & 0.0486705 & 0.210497 & 0.10807 & 0.0807532 & 1.02009 \\\\\n\t2 & IIIE K412[1][all] & 0.45648 & 0.115591 & 0.0484402 & 0.210833 & 0.108274 & 0.0797595 & 1.01938 \\\\\n\t3 & IIIE K412[2][all] & 0.456335 & 0.115708 & 0.0486172 & 0.210387 & 0.108129 & 0.0804043 & 1.01958 \\\\\n\t4 & IIIE K412[3][all] & 0.456809 & 0.115902 & 0.048512 & 0.210671 & 0.108418 & 0.0806119 & 1.02092 \\\\\n\t5 & IIIE K412[4][all] & 0.45693 & 0.115702 & 0.0485977 & 0.210041 & 0.108325 & 0.0799531 & 1.01955 \\\\\n\t6 & SRM-470 K412 & 0.427576 & 0.116568 & 0.0490621 & 0.211983 & 0.108991 & 0.0774201 & 0.9916 \\\\\n\\end{tabular}\n"
          },
          "metadata": {}
        }
      ],
      "execution_count": 3,
      "metadata": {
        "collapsed": false,
        "jupyter": {
          "source_hidden": false,
          "outputs_hidden": false
        },
        "nteract": {
          "transient": {
            "deleting": false
          }
        },
        "execution": {
          "iopub.status.busy": "2021-03-03T20:52:29.364Z",
          "iopub.execute_input": "2021-03-03T20:52:29.372Z",
          "iopub.status.idle": "2021-03-03T20:52:30.902Z"
        }
      }
    },
    {
      "cell_type": "code",
      "source": [
        "asa(DataFrame, q15[1])"
      ],
      "outputs": [
        {
          "output_type": "execute_result",
          "execution_count": 9,
          "data": {
            "text/plain": "\u001b[1m6×14 DataFrame\u001b[0m\n\u001b[1m Row \u001b[0m│\u001b[1m Label             \u001b[0m\u001b[1m Element \u001b[0m\u001b[1m Standard \u001b[0m\u001b[1m Lines              \u001b[0m\u001b[1m Mass Frac. \u001b[0m\u001b[1m Δ[Mass Frac.] \u001b[0m\u001b[1m k[Meas]   \u001b[0m\u001b[1m Δk[Meas]    \u001b[0m\u001b[1m Generation \u001b[0m\u001b[1m Z        \u001b[0m\u001b[1m A        \u001b[0m\u001b[1m F        \u001b[0m\u001b[1m Coating  \u001b[0m\u001b[1m gZAFc    \u001b[0m\n\u001b[1m     \u001b[0m│\u001b[90m Label             \u001b[0m\u001b[90m String  \u001b[0m\u001b[90m String   \u001b[0m\u001b[90m String             \u001b[0m\u001b[90m Float64    \u001b[0m\u001b[90m Float64       \u001b[0m\u001b[90m Float64?  \u001b[0m\u001b[90m Float64?    \u001b[0m\u001b[90m Float64?   \u001b[0m\u001b[90m Float64? \u001b[0m\u001b[90m Float64? \u001b[0m\u001b[90m Float64? \u001b[0m\u001b[90m Float64? \u001b[0m\u001b[90m Float64? \u001b[0m\n─────┼───────────────────────────────────────────────────────────────────────────────────────────────────────────────────────────────────────────────────────────────────────────\n   1 │ IIIE K412[0][all]  Al       Al2O3     Al K-L3 + 1 other     0.04867         0.00012  0.0747721  0.000182046         1.0  1.00708   0.800832   1.00817       1.0  0.813086\n   2 │ IIIE K412[0][all]  Ca       CaF2      Ca K-L3 + 3 others    0.10807         0.00017  0.194674   0.000300489         1.0  0.955736  0.965065   1.00255       1.0  0.924699\n   3 │ IIIE K412[0][all]  Fe       Fe        Fe K-L3 + 1 other     0.080753        0.00029  0.0660523  0.000234465         1.0  0.821566  0.995603   1.0           1.0  0.817953\n   4 │ IIIE K412[0][all]  Mg       MgO       Mg K-L3 + 1 other     0.11575         0.00014  0.160495   0.000199879         1.0  1.01978   0.815281   1.00574       1.0  0.836183\n   5 │ IIIE K412[0][all]  Si       SiO2      Si K-L3 + 2 others    0.210497        0.00018  0.38859    0.000340843         1.0  1.02422   0.841656   1.00102       1.0  0.862914\n   6 │ IIIE K412[0][all]  O        SiO2      O K-L3 + 1 other      0.45635         0.00049  0.69043    0.000743845         1.0  1.02411   0.786501   1.00034       1.0  0.805739",
            "text/html": "<table class=\"data-frame\"><thead><tr><th></th><th>Label</th><th>Element</th><th>Standard</th><th>Lines</th><th>Mass Frac.</th><th>Δ[Mass Frac.]</th><th>k[Meas]</th><th>Δk[Meas]</th><th>Generation</th><th>Z</th><th>A</th><th>F</th><th>Coating</th><th>gZAFc</th></tr><tr><th></th><th>Label</th><th>String</th><th>String</th><th>String</th><th>Float64</th><th>Float64</th><th>Float64?</th><th>Float64?</th><th>Float64?</th><th>Float64?</th><th>Float64?</th><th>Float64?</th><th>Float64?</th><th>Float64?</th></tr></thead><tbody><p>6 rows × 14 columns</p><tr><th>1</th><td>IIIE K412[0][all]</td><td>Al</td><td>Al2O3</td><td>Al K-L3 + 1 other</td><td>0.04867</td><td>0.00012</td><td>0.0747721</td><td>0.000182046</td><td>1.0</td><td>1.00708</td><td>0.800832</td><td>1.00817</td><td>1.0</td><td>0.813086</td></tr><tr><th>2</th><td>IIIE K412[0][all]</td><td>Ca</td><td>CaF2</td><td>Ca K-L3 + 3 others</td><td>0.10807</td><td>0.00017</td><td>0.194674</td><td>0.000300489</td><td>1.0</td><td>0.955736</td><td>0.965065</td><td>1.00255</td><td>1.0</td><td>0.924699</td></tr><tr><th>3</th><td>IIIE K412[0][all]</td><td>Fe</td><td>Fe</td><td>Fe K-L3 + 1 other</td><td>0.080753</td><td>0.00029</td><td>0.0660523</td><td>0.000234465</td><td>1.0</td><td>0.821566</td><td>0.995603</td><td>1.0</td><td>1.0</td><td>0.817953</td></tr><tr><th>4</th><td>IIIE K412[0][all]</td><td>Mg</td><td>MgO</td><td>Mg K-L3 + 1 other</td><td>0.11575</td><td>0.00014</td><td>0.160495</td><td>0.000199879</td><td>1.0</td><td>1.01978</td><td>0.815281</td><td>1.00574</td><td>1.0</td><td>0.836183</td></tr><tr><th>5</th><td>IIIE K412[0][all]</td><td>Si</td><td>SiO2</td><td>Si K-L3 + 2 others</td><td>0.210497</td><td>0.00018</td><td>0.38859</td><td>0.000340843</td><td>1.0</td><td>1.02422</td><td>0.841656</td><td>1.00102</td><td>1.0</td><td>0.862914</td></tr><tr><th>6</th><td>IIIE K412[0][all]</td><td>O</td><td>SiO2</td><td>O K-L3 + 1 other</td><td>0.45635</td><td>0.00049</td><td>0.69043</td><td>0.000743845</td><td>1.0</td><td>1.02411</td><td>0.786501</td><td>1.00034</td><td>1.0</td><td>0.805739</td></tr></tbody></table>",
            "text/latex": "\\begin{tabular}{r|cccccccccccccc}\n\t& Label & Element & Standard & Lines & Mass Frac. & Δ[Mass Frac.] & k[Meas] & Δk[Meas] & Generation & Z & A & F & Coating & gZAFc\\\\\n\t\\hline\n\t& Label & String & String & String & Float64 & Float64 & Float64? & Float64? & Float64? & Float64? & Float64? & Float64? & Float64? & Float64?\\\\\n\t\\hline\n\t1 & IIIE K412[0][all] & Al & Al2O3 & Al K-L3 + 1 other & 0.04867 & 0.00012 & 0.0747721 & 0.000182046 & 1.0 & 1.00708 & 0.800832 & 1.00817 & 1.0 & 0.813086 \\\\\n\t2 & IIIE K412[0][all] & Ca & CaF2 & Ca K-L3 + 3 others & 0.10807 & 0.00017 & 0.194674 & 0.000300489 & 1.0 & 0.955736 & 0.965065 & 1.00255 & 1.0 & 0.924699 \\\\\n\t3 & IIIE K412[0][all] & Fe & Fe & Fe K-L3 + 1 other & 0.080753 & 0.00029 & 0.0660523 & 0.000234465 & 1.0 & 0.821566 & 0.995603 & 1.0 & 1.0 & 0.817953 \\\\\n\t4 & IIIE K412[0][all] & Mg & MgO & Mg K-L3 + 1 other & 0.11575 & 0.00014 & 0.160495 & 0.000199879 & 1.0 & 1.01978 & 0.815281 & 1.00574 & 1.0 & 0.836183 \\\\\n\t5 & IIIE K412[0][all] & Si & SiO2 & Si K-L3 + 2 others & 0.210497 & 0.00018 & 0.38859 & 0.000340843 & 1.0 & 1.02422 & 0.841656 & 1.00102 & 1.0 & 0.862914 \\\\\n\t6 & IIIE K412[0][all] & O & SiO2 & O K-L3 + 1 other & 0.45635 & 0.00049 & 0.69043 & 0.000743845 & 1.0 & 1.02411 & 0.786501 & 1.00034 & 1.0 & 0.805739 \\\\\n\\end{tabular}\n"
          },
          "metadata": {}
        }
      ],
      "execution_count": 9,
      "metadata": {
        "collapsed": false,
        "jupyter": {
          "source_hidden": false,
          "outputs_hidden": false
        },
        "nteract": {
          "transient": {
            "deleting": false
          }
        },
        "execution": {
          "iopub.status.busy": "2021-03-03T20:58:26.355Z",
          "iopub.execute_input": "2021-03-03T20:58:26.366Z",
          "iopub.status.idle": "2021-03-03T20:58:26.383Z"
        }
      }
    },
    {
      "cell_type": "markdown",
      "source": [
        "#### Mixed 15 keV unknown with 20 keV standards  "
      ],
      "metadata": {
        "nteract": {
          "transient": {
            "deleting": false
          }
        }
      }
    },
    {
      "cell_type": "code",
      "source": [
        "q15_20 = map(s->quantify(s, refs20), unk15)\n",
        "asa(DataFrame, q15_20, nominal = srm470_k412)"
      ],
      "outputs": [
        {
          "output_type": "execute_result",
          "execution_count": 4,
          "data": {
            "text/plain": "\u001b[1m6×8 DataFrame\u001b[0m\n\u001b[1m Row \u001b[0m│\u001b[1m Material          \u001b[0m\u001b[1m O         \u001b[0m\u001b[1m Mg        \u001b[0m\u001b[1m Al        \u001b[0m\u001b[1m Si        \u001b[0m\u001b[1m Ca        \u001b[0m\u001b[1m Fe        \u001b[0m\u001b[1m Total     \u001b[0m\n\u001b[1m     \u001b[0m│\u001b[90m String            \u001b[0m\u001b[90m Abstract… \u001b[0m\u001b[90m Abstract… \u001b[0m\u001b[90m Abstract… \u001b[0m\u001b[90m Abstract… \u001b[0m\u001b[90m Abstract… \u001b[0m\u001b[90m Abstract… \u001b[0m\u001b[90m Abstract… \u001b[0m\n─────┼────────────────────────────────────────────────────────────────────────────────────────────────\n   1 │ IIIE K412[0][all]   0.470539   0.117595  0.0489545   0.207546   0.10737   0.0829525    1.03496\n   2 │ IIIE K412[1][all]   0.47066    0.117439  0.0487237   0.20788    0.107571  0.081938     1.03421\n   3 │ IIIE K412[2][all]   0.470516   0.117557  0.0489013   0.207439   0.107429  0.0825959    1.03444\n   4 │ IIIE K412[3][all]   0.471002   0.117754  0.0487952   0.207719   0.107713  0.0828101    1.03579\n   5 │ IIIE K412[4][all]   0.471124   0.117551  0.0488811   0.207097   0.107622  0.0821397    1.03441\n   6 │ SRM-470 K412        0.427576   0.116568  0.0490621   0.211983   0.108991  0.0774201    0.9916",
            "text/html": "<table class=\"data-frame\"><thead><tr><th></th><th>Material</th><th>O</th><th>Mg</th><th>Al</th><th>Si</th><th>Ca</th><th>Fe</th><th>Total</th></tr><tr><th></th><th>String</th><th>Abstrac…</th><th>Abstrac…</th><th>Abstrac…</th><th>Abstrac…</th><th>Abstrac…</th><th>Abstrac…</th><th>Abstrac…</th></tr></thead><tbody><p>6 rows × 8 columns</p><tr><th>1</th><td>IIIE K412[0][all]</td><td>0.470539</td><td>0.117595</td><td>0.0489545</td><td>0.207546</td><td>0.10737</td><td>0.0829525</td><td>1.03496</td></tr><tr><th>2</th><td>IIIE K412[1][all]</td><td>0.47066</td><td>0.117439</td><td>0.0487237</td><td>0.20788</td><td>0.107571</td><td>0.081938</td><td>1.03421</td></tr><tr><th>3</th><td>IIIE K412[2][all]</td><td>0.470516</td><td>0.117557</td><td>0.0489013</td><td>0.207439</td><td>0.107429</td><td>0.0825959</td><td>1.03444</td></tr><tr><th>4</th><td>IIIE K412[3][all]</td><td>0.471002</td><td>0.117754</td><td>0.0487952</td><td>0.207719</td><td>0.107713</td><td>0.0828101</td><td>1.03579</td></tr><tr><th>5</th><td>IIIE K412[4][all]</td><td>0.471124</td><td>0.117551</td><td>0.0488811</td><td>0.207097</td><td>0.107622</td><td>0.0821397</td><td>1.03441</td></tr><tr><th>6</th><td>SRM-470 K412</td><td>0.427576</td><td>0.116568</td><td>0.0490621</td><td>0.211983</td><td>0.108991</td><td>0.0774201</td><td>0.9916</td></tr></tbody></table>",
            "text/latex": "\\begin{tabular}{r|cccccccc}\n\t& Material & O & Mg & Al & Si & Ca & Fe & Total\\\\\n\t\\hline\n\t& String & Abstrac… & Abstrac… & Abstrac… & Abstrac… & Abstrac… & Abstrac… & Abstrac…\\\\\n\t\\hline\n\t1 & IIIE K412[0][all] & 0.470539 & 0.117595 & 0.0489545 & 0.207546 & 0.10737 & 0.0829525 & 1.03496 \\\\\n\t2 & IIIE K412[1][all] & 0.47066 & 0.117439 & 0.0487237 & 0.20788 & 0.107571 & 0.081938 & 1.03421 \\\\\n\t3 & IIIE K412[2][all] & 0.470516 & 0.117557 & 0.0489013 & 0.207439 & 0.107429 & 0.0825959 & 1.03444 \\\\\n\t4 & IIIE K412[3][all] & 0.471002 & 0.117754 & 0.0487952 & 0.207719 & 0.107713 & 0.0828101 & 1.03579 \\\\\n\t5 & IIIE K412[4][all] & 0.471124 & 0.117551 & 0.0488811 & 0.207097 & 0.107622 & 0.0821397 & 1.03441 \\\\\n\t6 & SRM-470 K412 & 0.427576 & 0.116568 & 0.0490621 & 0.211983 & 0.108991 & 0.0774201 & 0.9916 \\\\\n\\end{tabular}\n"
          },
          "metadata": {}
        }
      ],
      "execution_count": 4,
      "metadata": {
        "collapsed": false,
        "jupyter": {
          "source_hidden": false,
          "outputs_hidden": false
        },
        "nteract": {
          "transient": {
            "deleting": false
          }
        },
        "execution": {
          "iopub.status.busy": "2021-03-03T20:52:30.912Z",
          "iopub.execute_input": "2021-03-03T20:52:30.918Z",
          "iopub.status.idle": "2021-03-03T20:52:31.097Z"
        }
      }
    },
    {
      "cell_type": "markdown",
      "source": [
        "#### Mixed 20 keV unknown with 15 keV standards  "
      ],
      "metadata": {
        "nteract": {
          "transient": {
            "deleting": false
          }
        }
      }
    },
    {
      "cell_type": "code",
      "source": [
        "q20_15 = map(s->quantify(s, refs15), unk20)\n",
        "asa(DataFrame, q20_15, nominal=srm470_k412)"
      ],
      "outputs": [
        {
          "output_type": "execute_result",
          "execution_count": 5,
          "data": {
            "text/plain": "\u001b[1m6×8 DataFrame\u001b[0m\n\u001b[1m Row \u001b[0m│\u001b[1m Material          \u001b[0m\u001b[1m O         \u001b[0m\u001b[1m Mg        \u001b[0m\u001b[1m Al        \u001b[0m\u001b[1m Si        \u001b[0m\u001b[1m Ca        \u001b[0m\u001b[1m Fe        \u001b[0m\u001b[1m Total     \u001b[0m\n\u001b[1m     \u001b[0m│\u001b[90m String            \u001b[0m\u001b[90m Abstract… \u001b[0m\u001b[90m Abstract… \u001b[0m\u001b[90m Abstract… \u001b[0m\u001b[90m Abstract… \u001b[0m\u001b[90m Abstract… \u001b[0m\u001b[90m Abstract… \u001b[0m\u001b[90m Abstract… \u001b[0m\n─────┼────────────────────────────────────────────────────────────────────────────────────────────────\n   1 │ IIIE K412[0][all]   0.420956   0.112125  0.048002    0.209237   0.108666  0.0782511   0.977238\n   2 │ IIIE K412[1][all]   0.424433   0.112487  0.0480898   0.209122   0.108514  0.0779011   0.980546\n   3 │ IIIE K412[2][all]   0.427936   0.11298   0.0480707   0.209818   0.108724  0.0784196   0.985948\n   4 │ IIIE K412[3][all]   0.431004   0.112846  0.0482158   0.209959   0.10873   0.0780234   0.988777\n   5 │ IIIE K412[4][all]   0.434601   0.113337  0.0481588   0.20976    0.108753  0.0778684   0.992479\n   6 │ SRM-470 K412        0.427576   0.116568  0.0490621   0.211983   0.108991  0.0774201   0.9916",
            "text/html": "<table class=\"data-frame\"><thead><tr><th></th><th>Material</th><th>O</th><th>Mg</th><th>Al</th><th>Si</th><th>Ca</th><th>Fe</th><th>Total</th></tr><tr><th></th><th>String</th><th>Abstrac…</th><th>Abstrac…</th><th>Abstrac…</th><th>Abstrac…</th><th>Abstrac…</th><th>Abstrac…</th><th>Abstrac…</th></tr></thead><tbody><p>6 rows × 8 columns</p><tr><th>1</th><td>IIIE K412[0][all]</td><td>0.420956</td><td>0.112125</td><td>0.048002</td><td>0.209237</td><td>0.108666</td><td>0.0782511</td><td>0.977238</td></tr><tr><th>2</th><td>IIIE K412[1][all]</td><td>0.424433</td><td>0.112487</td><td>0.0480898</td><td>0.209122</td><td>0.108514</td><td>0.0779011</td><td>0.980546</td></tr><tr><th>3</th><td>IIIE K412[2][all]</td><td>0.427936</td><td>0.11298</td><td>0.0480707</td><td>0.209818</td><td>0.108724</td><td>0.0784196</td><td>0.985948</td></tr><tr><th>4</th><td>IIIE K412[3][all]</td><td>0.431004</td><td>0.112846</td><td>0.0482158</td><td>0.209959</td><td>0.10873</td><td>0.0780234</td><td>0.988777</td></tr><tr><th>5</th><td>IIIE K412[4][all]</td><td>0.434601</td><td>0.113337</td><td>0.0481588</td><td>0.20976</td><td>0.108753</td><td>0.0778684</td><td>0.992479</td></tr><tr><th>6</th><td>SRM-470 K412</td><td>0.427576</td><td>0.116568</td><td>0.0490621</td><td>0.211983</td><td>0.108991</td><td>0.0774201</td><td>0.9916</td></tr></tbody></table>",
            "text/latex": "\\begin{tabular}{r|cccccccc}\n\t& Material & O & Mg & Al & Si & Ca & Fe & Total\\\\\n\t\\hline\n\t& String & Abstrac… & Abstrac… & Abstrac… & Abstrac… & Abstrac… & Abstrac… & Abstrac…\\\\\n\t\\hline\n\t1 & IIIE K412[0][all] & 0.420956 & 0.112125 & 0.048002 & 0.209237 & 0.108666 & 0.0782511 & 0.977238 \\\\\n\t2 & IIIE K412[1][all] & 0.424433 & 0.112487 & 0.0480898 & 0.209122 & 0.108514 & 0.0779011 & 0.980546 \\\\\n\t3 & IIIE K412[2][all] & 0.427936 & 0.11298 & 0.0480707 & 0.209818 & 0.108724 & 0.0784196 & 0.985948 \\\\\n\t4 & IIIE K412[3][all] & 0.431004 & 0.112846 & 0.0482158 & 0.209959 & 0.10873 & 0.0780234 & 0.988777 \\\\\n\t5 & IIIE K412[4][all] & 0.434601 & 0.113337 & 0.0481588 & 0.20976 & 0.108753 & 0.0778684 & 0.992479 \\\\\n\t6 & SRM-470 K412 & 0.427576 & 0.116568 & 0.0490621 & 0.211983 & 0.108991 & 0.0774201 & 0.9916 \\\\\n\\end{tabular}\n"
          },
          "metadata": {}
        }
      ],
      "execution_count": 5,
      "metadata": {
        "collapsed": false,
        "jupyter": {
          "source_hidden": false,
          "outputs_hidden": false
        },
        "nteract": {
          "transient": {
            "deleting": false
          }
        },
        "execution": {
          "iopub.status.busy": "2021-03-03T20:52:31.109Z",
          "iopub.execute_input": "2021-03-03T20:52:31.116Z",
          "iopub.status.idle": "2021-03-03T20:52:31.343Z"
        }
      }
    },
    {
      "cell_type": "markdown",
      "source": [
        "Let's consider what we have wrought...\n",
        "\n",
        "Notice that the matrix correction factor has a new term, Generation, which accounts for the difference in ionization cross-section between the standard beam energy and the unknown.  The Z-, A- and F-terms is also different because the ϕ(ρz)-curve is also different.  The Z term as a significant difference because the character of the energy loss is very different. "
      ],
      "metadata": {
        "nteract": {
          "transient": {
            "deleting": false
          }
        }
      }
    },
    {
      "cell_type": "code",
      "source": [
        "asa(DataFrame, q20_15[1])"
      ],
      "outputs": [
        {
          "output_type": "execute_result",
          "execution_count": 7,
          "data": {
            "text/plain": "\u001b[1m6×14 DataFrame\u001b[0m\n\u001b[1m Row \u001b[0m│\u001b[1m Label             \u001b[0m\u001b[1m Element \u001b[0m\u001b[1m Standard \u001b[0m\u001b[1m Lines              \u001b[0m\u001b[1m Mass Frac. \u001b[0m\u001b[1m Δ[Mass Frac.] \u001b[0m\u001b[1m k[Meas]   \u001b[0m\u001b[1m Δk[Meas]    \u001b[0m\u001b[1m Generation \u001b[0m\u001b[1m Z        \u001b[0m\u001b[1m A        \u001b[0m\u001b[1m F        \u001b[0m\u001b[1m Coating  \u001b[0m\u001b[1m gZAFc    \u001b[0m\n\u001b[1m     \u001b[0m│\u001b[90m Label             \u001b[0m\u001b[90m String  \u001b[0m\u001b[90m String   \u001b[0m\u001b[90m String             \u001b[0m\u001b[90m Float64    \u001b[0m\u001b[90m Float64       \u001b[0m\u001b[90m Float64?  \u001b[0m\u001b[90m Float64?    \u001b[0m\u001b[90m Float64?   \u001b[0m\u001b[90m Float64? \u001b[0m\u001b[90m Float64? \u001b[0m\u001b[90m Float64? \u001b[0m\u001b[90m Float64? \u001b[0m\u001b[90m Float64? \u001b[0m\n─────┼───────────────────────────────────────────────────────────────────────────────────────────────────────────────────────────────────────────────────────────────────────────\n   1 │ IIIE K412[0][all]  Al       Al2O3     Al K-L3 + 1 other     0.048002        0.00011  0.0828739  0.00019202     0.853403   1.74198  0.608746   1.00968       1.0  0.913733\n   2 │ IIIE K412[0][all]  Ca       CaF2      Ca K-L3 + 3 others    0.10867         0.00013  0.326597   0.000384346    0.949899   1.77373  0.912528   1.00348       1.0  1.54283\n   3 │ IIIE K412[0][all]  Fe       Fe        Fe K-L3 + 1 other     0.078251        0.00018  0.144898   0.000333619    1.10277    1.71945  0.976554   1.0           1.0  1.8517\n   4 │ IIIE K412[0][all]  Mg       MgO       Mg K-L3 + 1 other     0.11213         0.00014  0.167347   0.000204799    0.846097   1.75142  0.603215   1.00686       1.0  0.900022\n   5 │ IIIE K412[0][all]  Si       SiO2      Si K-L3 + 2 others    0.209237        0.00017  0.466593   0.000374631    0.862841   1.78529  0.675752   1.00137       1.0  1.04237\n   6 │ IIIE K412[0][all]  O        SiO2      O K-L3 + 1 other      0.42096         0.00054  0.499397   0.00064257     0.816304   1.71683  0.450596   1.0005        1.0  0.631807",
            "text/html": "<table class=\"data-frame\"><thead><tr><th></th><th>Label</th><th>Element</th><th>Standard</th><th>Lines</th><th>Mass Frac.</th><th>Δ[Mass Frac.]</th><th>k[Meas]</th><th>Δk[Meas]</th><th>Generation</th><th>Z</th><th>A</th><th>F</th><th>Coating</th><th>gZAFc</th></tr><tr><th></th><th>Label</th><th>String</th><th>String</th><th>String</th><th>Float64</th><th>Float64</th><th>Float64?</th><th>Float64?</th><th>Float64?</th><th>Float64?</th><th>Float64?</th><th>Float64?</th><th>Float64?</th><th>Float64?</th></tr></thead><tbody><p>6 rows × 14 columns</p><tr><th>1</th><td>IIIE K412[0][all]</td><td>Al</td><td>Al2O3</td><td>Al K-L3 + 1 other</td><td>0.048002</td><td>0.00011</td><td>0.0828739</td><td>0.00019202</td><td>0.853403</td><td>1.74198</td><td>0.608746</td><td>1.00968</td><td>1.0</td><td>0.913733</td></tr><tr><th>2</th><td>IIIE K412[0][all]</td><td>Ca</td><td>CaF2</td><td>Ca K-L3 + 3 others</td><td>0.10867</td><td>0.00013</td><td>0.326597</td><td>0.000384346</td><td>0.949899</td><td>1.77373</td><td>0.912528</td><td>1.00348</td><td>1.0</td><td>1.54283</td></tr><tr><th>3</th><td>IIIE K412[0][all]</td><td>Fe</td><td>Fe</td><td>Fe K-L3 + 1 other</td><td>0.078251</td><td>0.00018</td><td>0.144898</td><td>0.000333619</td><td>1.10277</td><td>1.71945</td><td>0.976554</td><td>1.0</td><td>1.0</td><td>1.8517</td></tr><tr><th>4</th><td>IIIE K412[0][all]</td><td>Mg</td><td>MgO</td><td>Mg K-L3 + 1 other</td><td>0.11213</td><td>0.00014</td><td>0.167347</td><td>0.000204799</td><td>0.846097</td><td>1.75142</td><td>0.603215</td><td>1.00686</td><td>1.0</td><td>0.900022</td></tr><tr><th>5</th><td>IIIE K412[0][all]</td><td>Si</td><td>SiO2</td><td>Si K-L3 + 2 others</td><td>0.209237</td><td>0.00017</td><td>0.466593</td><td>0.000374631</td><td>0.862841</td><td>1.78529</td><td>0.675752</td><td>1.00137</td><td>1.0</td><td>1.04237</td></tr><tr><th>6</th><td>IIIE K412[0][all]</td><td>O</td><td>SiO2</td><td>O K-L3 + 1 other</td><td>0.42096</td><td>0.00054</td><td>0.499397</td><td>0.00064257</td><td>0.816304</td><td>1.71683</td><td>0.450596</td><td>1.0005</td><td>1.0</td><td>0.631807</td></tr></tbody></table>",
            "text/latex": "\\begin{tabular}{r|cccccccccccccc}\n\t& Label & Element & Standard & Lines & Mass Frac. & Δ[Mass Frac.] & k[Meas] & Δk[Meas] & Generation & Z & A & F & Coating & gZAFc\\\\\n\t\\hline\n\t& Label & String & String & String & Float64 & Float64 & Float64? & Float64? & Float64? & Float64? & Float64? & Float64? & Float64? & Float64?\\\\\n\t\\hline\n\t1 & IIIE K412[0][all] & Al & Al2O3 & Al K-L3 + 1 other & 0.048002 & 0.00011 & 0.0828739 & 0.00019202 & 0.853403 & 1.74198 & 0.608746 & 1.00968 & 1.0 & 0.913733 \\\\\n\t2 & IIIE K412[0][all] & Ca & CaF2 & Ca K-L3 + 3 others & 0.10867 & 0.00013 & 0.326597 & 0.000384346 & 0.949899 & 1.77373 & 0.912528 & 1.00348 & 1.0 & 1.54283 \\\\\n\t3 & IIIE K412[0][all] & Fe & Fe & Fe K-L3 + 1 other & 0.078251 & 0.00018 & 0.144898 & 0.000333619 & 1.10277 & 1.71945 & 0.976554 & 1.0 & 1.0 & 1.8517 \\\\\n\t4 & IIIE K412[0][all] & Mg & MgO & Mg K-L3 + 1 other & 0.11213 & 0.00014 & 0.167347 & 0.000204799 & 0.846097 & 1.75142 & 0.603215 & 1.00686 & 1.0 & 0.900022 \\\\\n\t5 & IIIE K412[0][all] & Si & SiO2 & Si K-L3 + 2 others & 0.209237 & 0.00017 & 0.466593 & 0.000374631 & 0.862841 & 1.78529 & 0.675752 & 1.00137 & 1.0 & 1.04237 \\\\\n\t6 & IIIE K412[0][all] & O & SiO2 & O K-L3 + 1 other & 0.42096 & 0.00054 & 0.499397 & 0.00064257 & 0.816304 & 1.71683 & 0.450596 & 1.0005 & 1.0 & 0.631807 \\\\\n\\end{tabular}\n"
          },
          "metadata": {}
        }
      ],
      "execution_count": 7,
      "metadata": {
        "collapsed": false,
        "jupyter": {
          "source_hidden": false,
          "outputs_hidden": false
        },
        "nteract": {
          "transient": {
            "deleting": false
          }
        },
        "execution": {
          "iopub.status.busy": "2021-03-03T20:54:31.534Z",
          "iopub.execute_input": "2021-03-03T20:54:31.543Z",
          "iopub.status.idle": "2021-03-03T20:54:34.003Z"
        }
      }
    },
    {
      "cell_type": "code",
      "source": [
        "asa(DataFrame, q15_20[1])"
      ],
      "outputs": [
        {
          "output_type": "execute_result",
          "execution_count": 8,
          "data": {
            "text/plain": "\u001b[1m6×14 DataFrame\u001b[0m\n\u001b[1m Row \u001b[0m│\u001b[1m Label             \u001b[0m\u001b[1m Element \u001b[0m\u001b[1m Standard \u001b[0m\u001b[1m Lines              \u001b[0m\u001b[1m Mass Frac. \u001b[0m\u001b[1m Δ[Mass Frac.] \u001b[0m\u001b[1m k[Meas]   \u001b[0m\u001b[1m Δk[Meas]    \u001b[0m\u001b[1m Generation \u001b[0m\u001b[1m Z        \u001b[0m\u001b[1m A        \u001b[0m\u001b[1m F        \u001b[0m\u001b[1m Coating  \u001b[0m\u001b[1m gZAFc    \u001b[0m\n\u001b[1m     \u001b[0m│\u001b[90m Label             \u001b[0m\u001b[90m String  \u001b[0m\u001b[90m String   \u001b[0m\u001b[90m String             \u001b[0m\u001b[90m Float64    \u001b[0m\u001b[90m Float64       \u001b[0m\u001b[90m Float64?  \u001b[0m\u001b[90m Float64?    \u001b[0m\u001b[90m Float64?   \u001b[0m\u001b[90m Float64? \u001b[0m\u001b[90m Float64? \u001b[0m\u001b[90m Float64? \u001b[0m\u001b[90m Float64? \u001b[0m\u001b[90m Float64? \u001b[0m\n─────┼───────────────────────────────────────────────────────────────────────────────────────────────────────────────────────────────────────────────────────────────────────────\n   1 │ IIIE K412[0][all]  Al       Al2O3     Al K-L3 + 1 other     0.048954        0.00012  0.0604413  0.000147254    1.17178   0.582053  0.950546   1.00792       1.0  0.653442\n   2 │ IIIE K412[0][all]  Ca       CaF2      Ca K-L3 + 3 others    0.10737         0.00017  0.113583   0.000175321    1.05274   0.516809  0.995514   1.00261       1.0  0.543039\n   3 │ IIIE K412[0][all]  Fe       Fe        Fe K-L3 + 1 other     0.082952        0.00029  0.0304048  0.000107939    0.906805  0.400342  1.00964    1.0           1.0  0.366533\n   4 │ IIIE K412[0][all]  Mg       MgO       Mg K-L3 + 1 other     0.1176          0.00015  0.139327   0.000173559    1.1819    0.593558  1.01279    1.00559       1.0  0.714472\n   5 │ IIIE K412[0][all]  Si       SiO2      Si K-L3 + 2 others    0.207546        0.00018  0.290266   0.000254655    1.15896   0.587478  0.959207   1.001         1.0  0.653741\n   6 │ IIIE K412[0][all]  O        SiO2      O K-L3 + 1 other      0.47054         0.00051  0.848667   0.000913834    1.22503   0.6108    1.2835     1.00017       1.0  0.960544",
            "text/html": "<table class=\"data-frame\"><thead><tr><th></th><th>Label</th><th>Element</th><th>Standard</th><th>Lines</th><th>Mass Frac.</th><th>Δ[Mass Frac.]</th><th>k[Meas]</th><th>Δk[Meas]</th><th>Generation</th><th>Z</th><th>A</th><th>F</th><th>Coating</th><th>gZAFc</th></tr><tr><th></th><th>Label</th><th>String</th><th>String</th><th>String</th><th>Float64</th><th>Float64</th><th>Float64?</th><th>Float64?</th><th>Float64?</th><th>Float64?</th><th>Float64?</th><th>Float64?</th><th>Float64?</th><th>Float64?</th></tr></thead><tbody><p>6 rows × 14 columns</p><tr><th>1</th><td>IIIE K412[0][all]</td><td>Al</td><td>Al2O3</td><td>Al K-L3 + 1 other</td><td>0.048954</td><td>0.00012</td><td>0.0604413</td><td>0.000147254</td><td>1.17178</td><td>0.582053</td><td>0.950546</td><td>1.00792</td><td>1.0</td><td>0.653442</td></tr><tr><th>2</th><td>IIIE K412[0][all]</td><td>Ca</td><td>CaF2</td><td>Ca K-L3 + 3 others</td><td>0.10737</td><td>0.00017</td><td>0.113583</td><td>0.000175321</td><td>1.05274</td><td>0.516809</td><td>0.995514</td><td>1.00261</td><td>1.0</td><td>0.543039</td></tr><tr><th>3</th><td>IIIE K412[0][all]</td><td>Fe</td><td>Fe</td><td>Fe K-L3 + 1 other</td><td>0.082952</td><td>0.00029</td><td>0.0304048</td><td>0.000107939</td><td>0.906805</td><td>0.400342</td><td>1.00964</td><td>1.0</td><td>1.0</td><td>0.366533</td></tr><tr><th>4</th><td>IIIE K412[0][all]</td><td>Mg</td><td>MgO</td><td>Mg K-L3 + 1 other</td><td>0.1176</td><td>0.00015</td><td>0.139327</td><td>0.000173559</td><td>1.1819</td><td>0.593558</td><td>1.01279</td><td>1.00559</td><td>1.0</td><td>0.714472</td></tr><tr><th>5</th><td>IIIE K412[0][all]</td><td>Si</td><td>SiO2</td><td>Si K-L3 + 2 others</td><td>0.207546</td><td>0.00018</td><td>0.290266</td><td>0.000254655</td><td>1.15896</td><td>0.587478</td><td>0.959207</td><td>1.001</td><td>1.0</td><td>0.653741</td></tr><tr><th>6</th><td>IIIE K412[0][all]</td><td>O</td><td>SiO2</td><td>O K-L3 + 1 other</td><td>0.47054</td><td>0.00051</td><td>0.848667</td><td>0.000913834</td><td>1.22503</td><td>0.6108</td><td>1.2835</td><td>1.00017</td><td>1.0</td><td>0.960544</td></tr></tbody></table>",
            "text/latex": "\\begin{tabular}{r|cccccccccccccc}\n\t& Label & Element & Standard & Lines & Mass Frac. & Δ[Mass Frac.] & k[Meas] & Δk[Meas] & Generation & Z & A & F & Coating & gZAFc\\\\\n\t\\hline\n\t& Label & String & String & String & Float64 & Float64 & Float64? & Float64? & Float64? & Float64? & Float64? & Float64? & Float64? & Float64?\\\\\n\t\\hline\n\t1 & IIIE K412[0][all] & Al & Al2O3 & Al K-L3 + 1 other & 0.048954 & 0.00012 & 0.0604413 & 0.000147254 & 1.17178 & 0.582053 & 0.950546 & 1.00792 & 1.0 & 0.653442 \\\\\n\t2 & IIIE K412[0][all] & Ca & CaF2 & Ca K-L3 + 3 others & 0.10737 & 0.00017 & 0.113583 & 0.000175321 & 1.05274 & 0.516809 & 0.995514 & 1.00261 & 1.0 & 0.543039 \\\\\n\t3 & IIIE K412[0][all] & Fe & Fe & Fe K-L3 + 1 other & 0.082952 & 0.00029 & 0.0304048 & 0.000107939 & 0.906805 & 0.400342 & 1.00964 & 1.0 & 1.0 & 0.366533 \\\\\n\t4 & IIIE K412[0][all] & Mg & MgO & Mg K-L3 + 1 other & 0.1176 & 0.00015 & 0.139327 & 0.000173559 & 1.1819 & 0.593558 & 1.01279 & 1.00559 & 1.0 & 0.714472 \\\\\n\t5 & IIIE K412[0][all] & Si & SiO2 & Si K-L3 + 2 others & 0.207546 & 0.00018 & 0.290266 & 0.000254655 & 1.15896 & 0.587478 & 0.959207 & 1.001 & 1.0 & 0.653741 \\\\\n\t6 & IIIE K412[0][all] & O & SiO2 & O K-L3 + 1 other & 0.47054 & 0.00051 & 0.848667 & 0.000913834 & 1.22503 & 0.6108 & 1.2835 & 1.00017 & 1.0 & 0.960544 \\\\\n\\end{tabular}\n"
          },
          "metadata": {}
        }
      ],
      "execution_count": 8,
      "metadata": {
        "collapsed": false,
        "jupyter": {
          "source_hidden": false,
          "outputs_hidden": false
        },
        "nteract": {
          "transient": {
            "deleting": false
          }
        },
        "execution": {
          "iopub.status.busy": "2021-03-03T20:56:19.951Z",
          "iopub.execute_input": "2021-03-03T20:56:19.959Z",
          "iopub.status.idle": "2021-03-03T20:56:19.988Z"
        }
      }
    },
    {
      "cell_type": "markdown",
      "source": [
        "Finally, compare the mean estimated compositions."
      ],
      "metadata": {
        "nteract": {
          "transient": {
            "deleting": false
          }
        }
      }
    },
    {
      "cell_type": "code",
      "source": [
        "using Statistics\n",
        "asa(DataFrame, [ mean(material.(q20)), mean(material.(q15)), mean(material.(q15_20)), mean(material.(q20_15)), srm470_k412 ])"
      ],
      "outputs": [
        {
          "output_type": "execute_result",
          "execution_count": 6,
          "data": {
            "text/plain": "\u001b[1m5×8 DataFrame\u001b[0m\n\u001b[1m Row \u001b[0m│\u001b[1m Material                          \u001b[0m\u001b[1m O         \u001b[0m\u001b[1m Mg        \u001b[0m\u001b[1m Al        \u001b[0m\u001b[1m Si        \u001b[0m\u001b[1m Ca        \u001b[0m\u001b[1m Fe        \u001b[0m\u001b[1m Total     \u001b[0m\n\u001b[1m     \u001b[0m│\u001b[90m String                            \u001b[0m\u001b[90m Abstract… \u001b[0m\u001b[90m Abstract… \u001b[0m\u001b[90m Abstract… \u001b[0m\u001b[90m Abstract… \u001b[0m\u001b[90m Abstract… \u001b[0m\u001b[90m Abstract… \u001b[0m\u001b[90m Abstract… \u001b[0m\n─────┼────────────────────────────────────────────────────────────────────────────────────────────────────────────────\n   1 │ mean[IIIE K412[0][all], IIIE K41…   0.440247   0.114668  0.0484428   0.206801   0.107913  0.0801874   0.99826\n   2 │ mean[IIIE K412[0][all], IIIE K41…   0.456582   0.115729  0.0485674   0.210486   0.108243  0.0802963   1.0199\n   3 │ mean[IIIE K412[0][all], IIIE K41…   0.470768   0.117579  0.0488511   0.207536   0.107541  0.0824871   1.03476\n   4 │ mean[IIIE K412[0][all], IIIE K41…   0.427756   0.112753  0.0481073   0.209579   0.108677  0.0780927   0.984965\n   5 │ SRM-470 K412                        0.427576   0.116568  0.0490621   0.211983   0.108991  0.0774201   0.9916",
            "text/html": "<table class=\"data-frame\"><thead><tr><th></th><th>Material</th><th>O</th><th>Mg</th><th>Al</th><th>Si</th><th>Ca</th><th>Fe</th><th>Total</th></tr><tr><th></th><th>String</th><th>Abstrac…</th><th>Abstrac…</th><th>Abstrac…</th><th>Abstrac…</th><th>Abstrac…</th><th>Abstrac…</th><th>Abstrac…</th></tr></thead><tbody><p>5 rows × 8 columns</p><tr><th>1</th><td>mean[IIIE K412[0][all], IIIE K412[1][all], IIIE K412[2][all], IIIE K412[3][all], IIIE K412[4][all]]</td><td>0.440247</td><td>0.114668</td><td>0.0484428</td><td>0.206801</td><td>0.107913</td><td>0.0801874</td><td>0.99826</td></tr><tr><th>2</th><td>mean[IIIE K412[0][all], IIIE K412[1][all], IIIE K412[2][all], IIIE K412[3][all], IIIE K412[4][all]]</td><td>0.456582</td><td>0.115729</td><td>0.0485674</td><td>0.210486</td><td>0.108243</td><td>0.0802963</td><td>1.0199</td></tr><tr><th>3</th><td>mean[IIIE K412[0][all], IIIE K412[1][all], IIIE K412[2][all], IIIE K412[3][all], IIIE K412[4][all]]</td><td>0.470768</td><td>0.117579</td><td>0.0488511</td><td>0.207536</td><td>0.107541</td><td>0.0824871</td><td>1.03476</td></tr><tr><th>4</th><td>mean[IIIE K412[0][all], IIIE K412[1][all], IIIE K412[2][all], IIIE K412[3][all], IIIE K412[4][all]]</td><td>0.427756</td><td>0.112753</td><td>0.0481073</td><td>0.209579</td><td>0.108677</td><td>0.0780927</td><td>0.984965</td></tr><tr><th>5</th><td>SRM-470 K412</td><td>0.427576</td><td>0.116568</td><td>0.0490621</td><td>0.211983</td><td>0.108991</td><td>0.0774201</td><td>0.9916</td></tr></tbody></table>",
            "text/latex": "\\begin{tabular}{r|cccccccc}\n\t& Material & O & Mg & Al & Si & Ca & Fe & Total\\\\\n\t\\hline\n\t& String & Abstrac… & Abstrac… & Abstrac… & Abstrac… & Abstrac… & Abstrac… & Abstrac…\\\\\n\t\\hline\n\t1 & mean[IIIE K412[0][all], IIIE K412[1][all], IIIE K412[2][all], IIIE K412[3][all], IIIE K412[4][all]] & 0.440247 & 0.114668 & 0.0484428 & 0.206801 & 0.107913 & 0.0801874 & 0.99826 \\\\\n\t2 & mean[IIIE K412[0][all], IIIE K412[1][all], IIIE K412[2][all], IIIE K412[3][all], IIIE K412[4][all]] & 0.456582 & 0.115729 & 0.0485674 & 0.210486 & 0.108243 & 0.0802963 & 1.0199 \\\\\n\t3 & mean[IIIE K412[0][all], IIIE K412[1][all], IIIE K412[2][all], IIIE K412[3][all], IIIE K412[4][all]] & 0.470768 & 0.117579 & 0.0488511 & 0.207536 & 0.107541 & 0.0824871 & 1.03476 \\\\\n\t4 & mean[IIIE K412[0][all], IIIE K412[1][all], IIIE K412[2][all], IIIE K412[3][all], IIIE K412[4][all]] & 0.427756 & 0.112753 & 0.0481073 & 0.209579 & 0.108677 & 0.0780927 & 0.984965 \\\\\n\t5 & SRM-470 K412 & 0.427576 & 0.116568 & 0.0490621 & 0.211983 & 0.108991 & 0.0774201 & 0.9916 \\\\\n\\end{tabular}\n"
          },
          "metadata": {}
        }
      ],
      "execution_count": 6,
      "metadata": {
        "collapsed": false,
        "jupyter": {
          "source_hidden": false,
          "outputs_hidden": false
        },
        "nteract": {
          "transient": {
            "deleting": false
          }
        },
        "execution": {
          "iopub.status.busy": "2021-03-03T20:52:31.354Z",
          "iopub.execute_input": "2021-03-03T20:52:31.359Z",
          "iopub.status.idle": "2021-03-03T20:52:32.728Z"
        }
      }
    },
    {
      "cell_type": "markdown",
      "source": [
        "O shows the largest deviations but the remaining elements look reasonably good regardless of choice of standards.\n",
        "\n",
        "Q.E.D."
      ],
      "metadata": {
        "nteract": {
          "transient": {
            "deleting": false
          }
        }
      }
    }
  ],
  "metadata": {
    "kernel_info": {
      "name": "julia-(4-threads)-1.6"
    },
    "language_info": {
      "file_extension": ".jl",
      "name": "julia",
      "mimetype": "application/julia",
      "version": "1.6.0"
    },
    "kernelspec": {
      "argv": [
        "C:\\Users\\nritchie\\AppData\\Local\\Programs\\Julia-1.6.0-beta1\\bin\\julia.exe",
        "-i",
        "--color=yes",
        "C:\\Users\\nritchie\\.julia\\packages\\IJulia\\IDNmS\\src\\kernel.jl",
        "{connection_file}"
      ],
      "display_name": "Julia (4 threads) 1.6.0-beta1",
      "env": {
        "JULIA_NUM_THREADS": "4"
      },
      "interrupt_mode": "message",
      "language": "julia",
      "name": "julia-(4-threads)-1.6"
    },
    "nteract": {
      "version": "0.28.0"
    }
  },
  "nbformat": 4,
  "nbformat_minor": 0
}