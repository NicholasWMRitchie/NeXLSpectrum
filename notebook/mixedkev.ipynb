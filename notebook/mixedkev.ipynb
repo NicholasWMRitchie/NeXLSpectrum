{
 "cells": [
  {
   "cell_type": "markdown",
   "source": [
    "# Mixed-keV analyses\n",
    "This notebook will demonstrate how it is possible (albeit not necessarily advised) to perform analyses with standards and unknowns collected at different beam energies. \n",
    "\n",
    "Here, we take our favorite SRM glass, K412, and use data from 15 keV and 20 keV."
   ],
   "metadata": {
    "nteract": {
     "transient": {
      "deleting": false
     }
    }
   }
  },
  {
   "cell_type": "code",
   "execution_count": null,
   "source": [
    "using NeXLSpectrum, DataFrames\r\n",
    "\r\n",
    "path = joinpath(@__DIR__,\"..\",\"test\")"
   ],
   "outputs": [],
   "metadata": {
    "collapsed": false,
    "jupyter": {
     "outputs_hidden": false,
     "source_hidden": false
    },
    "nteract": {
     "transient": {
      "deleting": false
     }
    }
   }
  },
  {
   "cell_type": "markdown",
   "source": [
    "#### Example at 20 keV"
   ],
   "metadata": {
    "nteract": {
     "transient": {
      "deleting": false
     }
    }
   }
  },
  {
   "cell_type": "code",
   "execution_count": null,
   "source": [
    "al2o3 = sum(findsimilar(loadspectrum.(joinpath(path,\"Multi-keV\", \"20 keV\", \"IIIE Al2O3[$i][4].msa\") for i in 0:4)))\r\n",
    "sio2 = sum(findsimilar(loadspectrum.(joinpath(path,\"Multi-keV\", \"20 keV\", \"IIIE SiO2[$i][4].msa\") for i in 0:4)))\r\n",
    "fe = sum(findsimilar(loadspectrum.(joinpath(path,\"Multi-keV\", \"20 keV\", \"IIIE Fe[$i][4].msa\") for i in 0:4)))\r\n",
    "caf2 = sum(findsimilar(loadspectrum.(joinpath(path,\"Multi-keV\", \"20 keV\", \"IIIE CaF2[$i][4].msa\") for i in 0:4)))\r\n",
    "mgo = sum(findsimilar(loadspectrum.(joinpath(path,\"Multi-keV\", \"20 keV\", \"IIIE MgO[$i][4].msa\") for i in 0:4)))\r\n",
    "unk20 = loadspectrum.(joinpath(path,\"Multi-keV\", \"20 keV\", \"IIIE K412[$i][4].msa\") for i in 0:4)\r\n",
    "    \r\n",
    "refs20 = references( [\r\n",
    "    reference( n\"Al\", al2o3 ),\r\n",
    "    reference( n\"Si\", sio2 ),\r\n",
    "    reference( n\"O\", sio2 ),\r\n",
    "    reference( n\"Fe\", fe ),\r\n",
    "    reference( n\"Ca\", caf2 ),\r\n",
    "    reference( n\"Mg\", mgo ),\r\n",
    "], 132.0)\r\n",
    "\r\n",
    "q20 = map(s->quantify(s, refs20), unk20)\r\n",
    "ENV[\"columns\"]=300\r\n",
    "asa(DataFrame, q20, nominal = srm470_k412)"
   ],
   "outputs": [],
   "metadata": {
    "collapsed": false,
    "jupyter": {
     "outputs_hidden": false,
     "source_hidden": false
    },
    "nteract": {
     "transient": {
      "deleting": false
     }
    }
   }
  },
  {
   "cell_type": "markdown",
   "source": [
    "#### Example at 15 keV"
   ],
   "metadata": {
    "nteract": {
     "transient": {
      "deleting": false
     }
    }
   }
  },
  {
   "cell_type": "code",
   "execution_count": null,
   "source": [
    "al2o3 = sum(findsimilar(loadspectrum.(joinpath(path,\"Multi-keV\", \"15 keV\", \"IIIE Al2O3[$i][4].msa\") for i in 0:4)))\r\n",
    "sio2 = sum(findsimilar(loadspectrum.(joinpath(path,\"Multi-keV\", \"15 keV\", \"IIIE SiO2[$i][4].msa\") for i in 0:4)))\r\n",
    "fe = sum(findsimilar(loadspectrum.(joinpath(path,\"Multi-keV\", \"15 keV\", \"IIIE Fe[$i][4].msa\") for i in 0:4)))\r\n",
    "caf2 = sum(findsimilar(loadspectrum.(joinpath(path,\"Multi-keV\", \"15 keV\", \"IIIE CaF2[$i][4].msa\") for i in 0:4)))\r\n",
    "mgo = sum(findsimilar(loadspectrum.(joinpath(path,\"Multi-keV\", \"15 keV\", \"IIIE MgO[$i][4].msa\") for i in 0:4)))\r\n",
    "unk15 = loadspectrum.(joinpath(path,\"Multi-keV\", \"15 keV\", \"IIIE K412[$i][4].msa\") for i in 0:4)\r\n",
    "\r\n",
    "refs15 = references( [\r\n",
    "    reference( n\"Al\", al2o3 ),\r\n",
    "    reference( n\"Si\", sio2 ),\r\n",
    "    reference( n\"O\", sio2 ),\r\n",
    "    reference( n\"Fe\", fe ),\r\n",
    "    reference( n\"Ca\", caf2 ),\r\n",
    "    reference( n\"Mg\", mgo ),\r\n",
    "], 132.0)\r\n",
    "\r\n",
    "q15 = map(s->quantify(s, refs15), unk15)\r\n",
    "asa(DataFrame, q15, nominal=srm470_k412)"
   ],
   "outputs": [],
   "metadata": {
    "collapsed": false,
    "jupyter": {
     "outputs_hidden": false,
     "source_hidden": false
    },
    "nteract": {
     "transient": {
      "deleting": false
     }
    }
   }
  },
  {
   "cell_type": "code",
   "execution_count": null,
   "source": [
    "asa(DataFrame, q15[1])"
   ],
   "outputs": [],
   "metadata": {
    "collapsed": false,
    "jupyter": {
     "outputs_hidden": false,
     "source_hidden": false
    },
    "nteract": {
     "transient": {
      "deleting": false
     }
    }
   }
  },
  {
   "cell_type": "markdown",
   "source": [
    "#### Mixed 15 keV unknown with 20 keV standards  "
   ],
   "metadata": {
    "nteract": {
     "transient": {
      "deleting": false
     }
    }
   }
  },
  {
   "cell_type": "code",
   "execution_count": null,
   "source": [
    "q15_20 = map(s->quantify(s, refs20), unk15)\r\n",
    "asa(DataFrame, q15_20, nominal = srm470_k412)"
   ],
   "outputs": [],
   "metadata": {
    "collapsed": false,
    "jupyter": {
     "outputs_hidden": false,
     "source_hidden": false
    },
    "nteract": {
     "transient": {
      "deleting": false
     }
    }
   }
  },
  {
   "cell_type": "markdown",
   "source": [
    "#### Mixed 20 keV unknown with 15 keV standards  "
   ],
   "metadata": {
    "nteract": {
     "transient": {
      "deleting": false
     }
    }
   }
  },
  {
   "cell_type": "code",
   "execution_count": null,
   "source": [
    "q20_15 = map(s->quantify(s, refs15), unk20)\n",
    "asa(DataFrame, q20_15, nominal=srm470_k412)"
   ],
   "outputs": [],
   "metadata": {
    "collapsed": false,
    "jupyter": {
     "outputs_hidden": false,
     "source_hidden": false
    },
    "nteract": {
     "transient": {
      "deleting": false
     }
    }
   }
  },
  {
   "cell_type": "markdown",
   "source": [
    "Let's consider what we have wrought...\n",
    "\n",
    "Notice that the matrix correction factor has a new term, Generation, which accounts for the difference in ionization cross-section between the standard beam energy and the unknown.  The Z-, A- and F-terms is also different because the ϕ(ρz)-curve is also different.  The Z term as a significant difference because the character of the energy loss is very different. "
   ],
   "metadata": {
    "nteract": {
     "transient": {
      "deleting": false
     }
    }
   }
  },
  {
   "cell_type": "code",
   "execution_count": null,
   "source": [
    "asa(DataFrame, q20_15[1])"
   ],
   "outputs": [],
   "metadata": {
    "collapsed": false,
    "jupyter": {
     "outputs_hidden": false,
     "source_hidden": false
    },
    "nteract": {
     "transient": {
      "deleting": false
     }
    }
   }
  },
  {
   "cell_type": "code",
   "execution_count": null,
   "source": [
    "asa(DataFrame, q15_20[1])"
   ],
   "outputs": [],
   "metadata": {
    "collapsed": false,
    "jupyter": {
     "outputs_hidden": false,
     "source_hidden": false
    },
    "nteract": {
     "transient": {
      "deleting": false
     }
    }
   }
  },
  {
   "cell_type": "markdown",
   "source": [
    "Finally, compare the mean estimated compositions."
   ],
   "metadata": {
    "nteract": {
     "transient": {
      "deleting": false
     }
    }
   }
  },
  {
   "cell_type": "code",
   "execution_count": null,
   "source": [
    "using Statistics\n",
    "asa(DataFrame, [ mean(material.(q20)), mean(material.(q15)), mean(material.(q15_20)), mean(material.(q20_15)), srm470_k412 ])"
   ],
   "outputs": [],
   "metadata": {
    "collapsed": false,
    "jupyter": {
     "outputs_hidden": false,
     "source_hidden": false
    },
    "nteract": {
     "transient": {
      "deleting": false
     }
    }
   }
  },
  {
   "cell_type": "markdown",
   "source": [
    "O shows the largest deviations but the remaining elements look reasonably good regardless of choice of standards.\n",
    "\n",
    "Q.E.D."
   ],
   "metadata": {
    "nteract": {
     "transient": {
      "deleting": false
     }
    }
   }
  }
 ],
 "metadata": {
  "kernel_info": {
   "name": "julia-(4-threads)-1.6"
  },
  "kernelspec": {
   "display_name": "Julia (4 threads) 1.6",
   "language": "julia",
   "name": "julia-(4-threads)-1.6"
  },
  "language_info": {
   "file_extension": ".jl",
   "mimetype": "application/julia",
   "name": "julia",
   "version": "1.6.1"
  },
  "nteract": {
   "version": "0.28.0"
  }
 },
 "nbformat": 4,
 "nbformat_minor": 4
}