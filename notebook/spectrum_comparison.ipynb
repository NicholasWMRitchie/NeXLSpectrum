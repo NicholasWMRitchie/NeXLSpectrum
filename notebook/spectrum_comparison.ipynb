{
 "cells": [
  {
   "cell_type": "markdown",
   "metadata": {},
   "source": [
    "# Comparing Spectra\n",
    "\n",
    "This notebooks demonstrates how you can use the χ² metric to compare spectra."
   ]
  },
  {
   "cell_type": "code",
   "execution_count": null,
   "metadata": {},
   "outputs": [],
   "source": [
    "using NeXLSpectrum\n",
    "using DataFrames, Gadfly, InvertedIndices"
   ]
  },
  {
   "cell_type": "code",
   "execution_count": null,
   "metadata": {},
   "outputs": [],
   "source": [
    "specs = [ loadspectrum(joinpath(@__DIR__, \"..\",\"test\",\"ADM6005a spectra\",\"ADM-6005a_$i.msa\")) for i in 1:15 ]\n"
   ]
  },
  {
   "cell_type": "code",
   "execution_count": null,
   "metadata": {},
   "outputs": [],
   "source": [
    "det = matching(specs[1], 128.0)"
   ]
  },
  {
   "cell_type": "code",
   "execution_count": null,
   "metadata": {},
   "outputs": [],
   "source": [
    "set_default_plot_size(8inch, 4inch)\n",
    "elms = [ n\"C\",n\"O\",n\"Al\",n\"Ca\",n\"Ge\",n\"Si\",n\"Ti\",n\"Zn\" ]\n",
    "# plot(specs..., xmax=12.0e3, klms=elms)"
   ]
  },
  {
   "cell_type": "markdown",
   "metadata": {},
   "source": [
    "I'll present two different ways to compare spectra.\n",
    "  * Direct spectrum to spectrum comparison (`χ²(...)`)\n",
    "  * Comparing a spectrum to the sum of the other spectra (`similarity(...)`)."
   ]
  },
  {
   "cell_type": "markdown",
   "metadata": {},
   "source": [
    "First, `χ²`.  This metric will be approximately equal to the length of the range of channels when the spectra differ only by count statistics.  "
   ]
  },
  {
   "cell_type": "code",
   "execution_count": null,
   "metadata": {},
   "outputs": [],
   "source": [
    "fullroi = channel(100.0, det):channel(10.0e3, det)\n",
    "χ²(specs, fullroi)"
   ]
  },
  {
   "cell_type": "code",
   "execution_count": null,
   "metadata": {},
   "outputs": [],
   "source": [
    "χ²(specs, NeXLSpectrum.fwhmroi(specs[1], n\"Si K-L3\"))"
   ]
  },
  {
   "cell_type": "code",
   "execution_count": null,
   "metadata": {},
   "outputs": [],
   "source": [
    "χ²(specs, NeXLSpectrum.fwhmroi(specs[1], n\"Fe K-L3\"))"
   ]
  },
  {
   "cell_type": "code",
   "execution_count": null,
   "metadata": {},
   "outputs": [],
   "source": [
    "χ²(specs, NeXLSpectrum.fwhmroi(specs[1], n\"O K-L3\"))"
   ]
  },
  {
   "cell_type": "code",
   "execution_count": null,
   "metadata": {},
   "outputs": [],
   "source": [
    "χ²(specs, NeXLSpectrum.fwhmroi(specs[1], n\"Mg K-L3\"))"
   ]
  },
  {
   "cell_type": "markdown",
   "metadata": {},
   "source": [
    "However, the `χ²` matrices can be hard to interpret.  Which spectrum is the \"problem child\"?   What we really want to know is how each spectrum compares with the mean of the others independent of the length of the range of channels examined.\n",
    "\n",
    "We want to retain the spectra that are most similar to the mean.  That is what `similarity(...)` is used for."
   ]
  },
  {
   "cell_type": "code",
   "execution_count": null,
   "metadata": {},
   "outputs": [],
   "source": [
    "NeXLSpectrum.similarity(specs, det, n\"O\")"
   ]
  },
  {
   "cell_type": "markdown",
   "metadata": {},
   "source": [
    "Note that the metric for spectrum 2 is the largest at 1.23.  (This isn't large.)"
   ]
  },
  {
   "cell_type": "markdown",
   "metadata": {},
   "source": [
    "Removing spectrum 2 improves most, but not all the metrics for the other spectra."
   ]
  },
  {
   "cell_type": "code",
   "execution_count": null,
   "metadata": {},
   "outputs": [],
   "source": [
    "NeXLSpectrum.similarity(specs[Not(2)], det, n\"O\")"
   ]
  },
  {
   "cell_type": "markdown",
   "metadata": {},
   "source": [
    "Overall, the mean similarity of the spectra improves."
   ]
  },
  {
   "cell_type": "code",
   "execution_count": null,
   "metadata": {},
   "outputs": [],
   "source": [
    "using Statistics\n",
    "mean(NeXLSpectrum.similarity(specs, det, n\"O\")), mean(NeXLSpectrum.similarity(specs[Not(2)], det, n\"O\"))"
   ]
  },
  {
   "cell_type": "markdown",
   "metadata": {},
   "source": [
    "Let's tabulate the similarity for ranges of channels corresponding to the relevant elements in this material."
   ]
  },
  {
   "cell_type": "code",
   "execution_count": null,
   "metadata": {},
   "outputs": [],
   "source": [
    "ENV[\"columns\"]=200\n",
    "df=DataFrame( \n",
    "    :Spectrum=>name.(specs), \n",
    "    map(elm->Symbol(elm.symbol)=>NeXLSpectrum.similarity(specs, det, elm), elms)...,\n",
    "    :All => NeXLSpectrum.similarity(specs)\n",
    ")\n",
    "insertcols!(df, :Mean=>map(r->mean(r[2:9]), eachrow(df)))"
   ]
  },
  {
   "cell_type": "code",
   "execution_count": null,
   "metadata": {},
   "outputs": [],
   "source": [
    "describe(df[:,2:end], :mean, :std, :min, :max)"
   ]
  },
  {
   "cell_type": "markdown",
   "metadata": {},
   "source": [
    "This is odd!  As I said above, the similarity metric should take on a minimum value of approximately one and yet the mean is universally less than one in the above table.  \n",
    "\n",
    "What is happening?  This data suggests that this measurement is not count-statistics limited. That seems improbable unless the vendor is manipulating the data.\n",
    "Let's look for more evidence.\n",
    "\n",
    "I'm going to plot channel-by-channel the variance over the mean for the 15 spectra.  For Poisson statistics, this should be no better than unity."
   ]
  },
  {
   "cell_type": "code",
   "execution_count": null,
   "metadata": {},
   "outputs": [],
   "source": [
    "cx = map(eachindex(specs[1])) do i\n",
    "    var(s[i] for s in specs) / max(1.0, mean(s[i] for s in specs))\n",
    "end\n",
    "ss=Spectrum(specs[1].energy, cx, specs[1].properties)\n",
    "\n",
    "plot(ss, klms=elms, yscale=0.3)"
   ]
  },
  {
   "cell_type": "code",
   "execution_count": null,
   "metadata": {},
   "outputs": [],
   "source": [
    "plot(ss, klms=elms, xmin=4000.0, xmax=7000.0, yscale=0.15)"
   ]
  },
  {
   "cell_type": "markdown",
   "metadata": {},
   "source": [
    "## WTF?\n",
    "There are entire ranges of channels that are clearly less than the unity.  This should never happen. \n",
    "\n",
    "It would seem that this is strong evidence that the spectra are being manipulated but for what purpose?  Pulse pair removal? Noise reduction? Escape peak removal?\n",
    "\n",
    "What type of operations can produce sub-Poisson statistics?  Let's say the nominal measured value is $A$ with $var(A)=A$ or equivalently uncertainty $\\sigma(A) = \\sqrt{A}$.  We are looking at $\\frac{var(A)}{A} = \\frac{A}{A} \\approx 1$ nominally. To get below unity, we need to either decrease the numerator or increase the denominator.  The numerator is controlled by very fundamental statistical reasoning based on the nature of the process.  There are very few assumptions and they are exceedingly basic.  \n",
    "It seems that we can either add or multiply.\n",
    "  * If $B = a A$, then $\\sigma(B) = a \\sqrt{A}$ and $var(B) = a^2 A$.  So $\\frac{var(B)}{B} = \\frac{a^2 A}{aA} = a$. So when $a < 1$, this can produce sub-Poissonian statistics.\n",
    "  * Alternatively, consider $C=A+c$ where $c$ is a noise-free constant ($\\sigma(c)=0$).  $\\sigma(C) = \\sigma(A+c) = \\sqrt{\\sigma(A)^2 + \\sigma(c)^2} = \\sqrt{\\sigma(A)^2} = \\sigma(A) = \\sqrt{A}$ which means $var(C) = A$, so $\\frac{var(C)}{C} = \\frac{A}{A+c} < 1$ when $c>0$.  \n",
    "\n",
    "So either the detector is adding some noise free constant to the signal or they are downscaling the signal.  Again, why?\n",
    "\n",
    "  * Pulse pair removal would be equivalent to alternative two but with $c<0$ so this isn't it.\n",
    "  * Escape peak removal is similar to pulse pair removal.  Again, this isn't it.\n",
    "  * The only reasonable suggestion would seem to be that the signal is being down scaled in certain energy regions.  Why?  Why would you want to return a smaller signal than the one the detector is measuring?\n",
    "\n",
    "  *This seems scandalous to me. We can't trust our detectors.*"
   ]
  },
  {
   "cell_type": "code",
   "execution_count": null,
   "metadata": {},
   "outputs": [],
   "source": [
    "hstack(plot(y=map(s->s[:ProbeCurrent], specs), Geom.point), plot(y=map(s->s[:LiveTime], specs), Geom.point))"
   ]
  },
  {
   "cell_type": "markdown",
   "metadata": {},
   "source": [
    "We expect a bit of variation in O since the soft X-ray is quite susceptible to absorption and topography.  \n",
    "\n",
    "Let's remove spectra 1 and 4 and see what happens."
   ]
  },
  {
   "cell_type": "code",
   "execution_count": null,
   "metadata": {},
   "outputs": [],
   "source": [
    "using Statistics\n",
    "for elm in elms\n",
    "    println( ( mean(NeXLSpectrum.similarity(specs, det, elm)), std(NeXLSpectrum.similarity(specs, det, elm))) )\n",
    "end"
   ]
  },
  {
   "cell_type": "markdown",
   "metadata": {},
   "source": [
    "As we increase the X-ray energy, the variability decreases."
   ]
  },
  {
   "cell_type": "markdown",
   "metadata": {},
   "source": [
    "Let's try applying these functions to a spectrum that we know should compare well since they represent sub-samplings of the same source.\n",
    "\n",
    "  * `subdivide(...)` takes a single spectrum and distributes the counts at random among N spectra creating N spectra that sums to the original spectrum.\n",
    "  * `subsample(...)` takes a single spectrum and emulates taking a fraction of the same live-time.  The results won't necessarily sum to the original."
   ]
  },
  {
   "cell_type": "code",
   "execution_count": null,
   "metadata": {},
   "outputs": [],
   "source": [
    "sd=mapreduce(_->subdivide(specs[1], 8), append!, 1:6)\n",
    "describe(DataFrame(\n",
    "    :Spectrum=>eachindex(sd),\n",
    "    [ Symbol(symbol(elm))=>NeXLSpectrum.similarity(sd, det, elm) for elm in elms]...\n",
    ")[:,2:end], :mean, :std, :max, :min)"
   ]
  },
  {
   "cell_type": "code",
   "execution_count": null,
   "metadata": {},
   "outputs": [],
   "source": [
    "sd2=mapreduce(_->map(i->subsample(specs[1], 0.1),1:8),append!,1:10)\n",
    "describe(DataFrame(\n",
    "    :Spectrum=>eachindex(sd2),\n",
    "    [ Symbol(symbol(elm))=>NeXLSpectrum.similarity(sd2, det, elm) for elm in elms]...\n",
    ")[:,2:end], :mean, :std, :max, :min)"
   ]
  },
  {
   "cell_type": "markdown",
   "metadata": {},
   "source": [
    "Interestingly, these are consistently slightly less than unity?  Why?"
   ]
  },
  {
   "cell_type": "code",
   "execution_count": null,
   "metadata": {},
   "outputs": [],
   "source": [
    "using Distributions"
   ]
  },
  {
   "cell_type": "code",
   "execution_count": null,
   "metadata": {},
   "outputs": [],
   "source": [
    "σ=10.0\n",
    "n=Normal(0.0,σ)\n",
    "mean(mean((rand(n,15).^2))-σ^2 for i in 1:100000)"
   ]
  },
  {
   "cell_type": "code",
   "execution_count": null,
   "metadata": {},
   "outputs": [],
   "source": [
    "p1, p2 = Dict(:ProbeCurrent=>1.0, :LiveTime=>10.0),Dict(:ProbeCurrent=>1.0, :LiveTime=>0.99*40.0)\n",
    "r = rand(1:10000, 2048)\n",
    "d1, d2 = Poisson.(r), Poisson.(4r)\n",
    "s1 = Spectrum(det.scale, [ rand(d) for d in d1], p1)\n",
    "s2 = Spectrum(det.scale, [ rand(d) for d in d2], p2)\n",
    "NeXLSpectrum.similarity(s1,s2,1:2048)"
   ]
  },
  {
   "cell_type": "code",
   "execution_count": null,
   "metadata": {},
   "outputs": [],
   "source": [
    "plot(s1,s2)"
   ]
  },
  {
   "cell_type": "code",
   "execution_count": null,
   "metadata": {},
   "outputs": [],
   "source": [
    "p1, p2 = Dict(:ProbeCurrent=>1.0, :LiveTime=>10.0),Dict(:ProbeCurrent=>1.0, :LiveTime=>40.0)\n",
    "mean(map(1:1000) do i\n",
    "    r = rand(1:100, 2048)\n",
    "    d1, d2 = Poisson.(r), Poisson.(4r)\n",
    "    s1 = Spectrum(det.scale, [ rand(d) for d in d1], p1)\n",
    "    s2 = Spectrum(det.scale, [ rand(d) for d in d2], p2)\n",
    "    NeXLSpectrum.similarity(s1, s2, 10:20)\n",
    "end)"
   ]
  },
  {
   "cell_type": "code",
   "execution_count": null,
   "metadata": {},
   "outputs": [],
   "source": [
    "p=plot(specs[1],duanehunt=true, xmin=17000.0)\n",
    "#p |> SVG(joinpath(homedir(),\"Desktop\",\"duane_hunt.svg\", 6inch, 4inch)\n",
    "p"
   ]
  },
  {
   "cell_type": "code",
   "execution_count": null,
   "metadata": {},
   "outputs": [],
   "source": [
    "duane_hunt(specs[1])"
   ]
  }
 ],
 "metadata": {
  "kernelspec": {
   "display_name": "Julia 1.7.3",
   "language": "julia",
   "name": "julia-1.7"
  },
  "language_info": {
   "file_extension": ".jl",
   "mimetype": "application/julia",
   "name": "julia",
   "version": "1.7.3"
  },
  "orig_nbformat": 4
 },
 "nbformat": 4,
 "nbformat_minor": 2
}
