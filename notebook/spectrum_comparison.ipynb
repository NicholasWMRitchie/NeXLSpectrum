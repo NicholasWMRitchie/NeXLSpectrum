{
 "cells": [
  {
   "cell_type": "markdown",
   "metadata": {},
   "source": [
    "# Comparing Spectra\n",
    "\n",
    "This notebooks demonstrates how you can use the χ² metric to compare spectra."
   ]
  },
  {
   "cell_type": "code",
   "execution_count": null,
   "metadata": {},
   "outputs": [],
   "source": [
    "using NeXLSpectrum\n",
    "using DataFrames, Gadfly, InvertedIndices"
   ]
  },
  {
   "cell_type": "code",
   "execution_count": null,
   "metadata": {},
   "outputs": [],
   "source": [
    "k412 = [ loadspectrum(joinpath(@__DIR__, \"..\",\"test\",\"K412 spectra\",\"III-E K412[$i][4].msa\")) for i in 0:4 ]"
   ]
  },
  {
   "cell_type": "code",
   "execution_count": null,
   "metadata": {},
   "outputs": [],
   "source": [
    "det = matching(k412[1], 132.0)"
   ]
  },
  {
   "cell_type": "code",
   "execution_count": null,
   "metadata": {},
   "outputs": [],
   "source": [
    "set_default_plot_size(8inch, 4inch)\n",
    "plot(k412..., xmax=10.0e3)"
   ]
  },
  {
   "cell_type": "markdown",
   "metadata": {},
   "source": [
    "I'll present two different ways to compare spectra.\n",
    "  * Direct spectrum to spectrum comparison (`χ²(...)`)\n",
    "  * Comparing a spectrum to the sum of the other spectra (`measure_dissimilarity(...)`)."
   ]
  },
  {
   "cell_type": "markdown",
   "metadata": {},
   "source": [
    "First, `χ²`.  This metric will be approximately unity when the spectra differ only by count statistics.  \n",
    "\n",
    "Overall, the spectra compare very well one to another.  The largest `χ²` metric is 1.10 when comparing one spectrum to another over large ROI."
   ]
  },
  {
   "cell_type": "code",
   "execution_count": null,
   "metadata": {},
   "outputs": [],
   "source": [
    "fullroi = channel(100.0, k412[1]):channel(10.0e3, k412[1])\n",
    "χ²(k412, fullroi)"
   ]
  },
  {
   "cell_type": "markdown",
   "metadata": {},
   "source": [
    "However, individual peaks can compare less well."
   ]
  },
  {
   "cell_type": "code",
   "execution_count": null,
   "metadata": {},
   "outputs": [],
   "source": [
    "χ²(k412, NeXLSpectrum.fwhmroi(k412[1], n\"Si K-L3\"))"
   ]
  },
  {
   "cell_type": "code",
   "execution_count": null,
   "metadata": {},
   "outputs": [],
   "source": [
    "χ²(k412, NeXLSpectrum.fwhmroi(k412[1], n\"Fe K-L3\"))"
   ]
  },
  {
   "cell_type": "code",
   "execution_count": null,
   "metadata": {},
   "outputs": [],
   "source": [
    "χ²(k412, NeXLSpectrum.fwhmroi(k412[1], n\"O K-L3\"))"
   ]
  },
  {
   "cell_type": "code",
   "execution_count": null,
   "metadata": {},
   "outputs": [],
   "source": [
    "χ²(k412, NeXLSpectrum.fwhmroi(k412[1], n\"Mg K-L3\"))"
   ]
  },
  {
   "cell_type": "markdown",
   "metadata": {},
   "source": [
    "However, the `χ²` matrices can be hard to interpret.  Which spectrum is the \"problem child\"?   What we really want to know is how each spectrum compares with the mean of the others.\n",
    "\n",
    "We want to retain the spectra that are most similar to the mean.  That is what `measure_dissimilarity(...)` is used for."
   ]
  },
  {
   "cell_type": "code",
   "execution_count": null,
   "metadata": {},
   "outputs": [],
   "source": [
    "NeXLSpectrum.measure_dissimilarity(k412, det, n\"O\")"
   ]
  },
  {
   "cell_type": "markdown",
   "metadata": {},
   "source": [
    "We expect a bit of variation in O since the soft X-ray is quite susceptible to absorption and topography.  \n",
    "\n",
    "Let's remove spectra 1 and 4 and see what happens."
   ]
  },
  {
   "cell_type": "code",
   "execution_count": null,
   "metadata": {},
   "outputs": [],
   "source": [
    "NeXLSpectrum.measure_dissimilarity(k412[[false, true, true, false, true]], det, n\"O\")"
   ]
  },
  {
   "cell_type": "markdown",
   "metadata": {},
   "source": [
    "As we increase the X-ray energy, the variability decreases."
   ]
  },
  {
   "cell_type": "code",
   "execution_count": null,
   "metadata": {},
   "outputs": [],
   "source": [
    "NeXLSpectrum.measure_dissimilarity(k412, det, n\"Mg\"), NeXLSpectrum.measure_dissimilarity(k412[[true, false, true, true, false]], det, n\"Mg\")"
   ]
  },
  {
   "cell_type": "code",
   "execution_count": null,
   "metadata": {},
   "outputs": [],
   "source": [
    "NeXLSpectrum.measure_dissimilarity(k412, det, n\"Al\"), NeXLSpectrum.measure_dissimilarity(k412[[true, true, false, true, false]], det, n\"Al\")"
   ]
  },
  {
   "cell_type": "code",
   "execution_count": null,
   "metadata": {},
   "outputs": [],
   "source": [
    "NeXLSpectrum.measure_dissimilarity(k412, det, n\"Si\"), NeXLSpectrum.measure_dissimilarity(k412[[false, true, true, false, true]], det, n\"Si\")"
   ]
  },
  {
   "cell_type": "code",
   "execution_count": null,
   "metadata": {},
   "outputs": [],
   "source": [
    "NeXLSpectrum.measure_dissimilarity(k412, det, n\"Ca\"), NeXLSpectrum.measure_dissimilarity(k412[[true, true, true, true, false]], det, n\"Ca\")"
   ]
  },
  {
   "cell_type": "code",
   "execution_count": null,
   "metadata": {},
   "outputs": [],
   "source": [
    "NeXLSpectrum.measure_dissimilarity(k412, det, n\"Fe\"), NeXLSpectrum.measure_dissimilarity(k412[[true, true, true, false, true]], det, n\"Fe\")"
   ]
  },
  {
   "cell_type": "markdown",
   "metadata": {},
   "source": [
    "Let's try applying these functions to a spectrum that we know should compare well since they represent sub-samplings of the same source.\n",
    "\n",
    "  * `subdivide(...)` takes a single spectrum and distributes the counts at random among N spectra creating N spectra that sums to the original spectrum.\n",
    "  * `subsample(...)` takes a single spectrum and emulates taking a fraction of the same live-time.  The results won't necessarily sum to the original."
   ]
  },
  {
   "cell_type": "code",
   "execution_count": null,
   "metadata": {},
   "outputs": [],
   "source": [
    "sd=mapreduce(_->subdivide(k412[2], 8), append!, 1:6)"
   ]
  },
  {
   "cell_type": "code",
   "execution_count": null,
   "metadata": {},
   "outputs": [],
   "source": [
    "describe(DataFrame(\n",
    "    :Spectrum=>eachindex(sd),\n",
    "    [ Symbol(symbol(elm))=>NeXLSpectrum.measure_dissimilarity(sd, det, elm) for elm in [n\"O\", n\"Mg\", n\"Al\", n\"Si\", n\"Ca\", n\"Fe\"] ]...\n",
    "))"
   ]
  },
  {
   "cell_type": "code",
   "execution_count": null,
   "metadata": {},
   "outputs": [],
   "source": [
    "sd2=mapreduce(_->map(i->subsample(k412[1], 0.1),1:8),append!,1:10)"
   ]
  },
  {
   "cell_type": "code",
   "execution_count": null,
   "metadata": {},
   "outputs": [],
   "source": [
    "describe(DataFrame(\n",
    "    :Spectrum=>eachindex(sd2),\n",
    "    [ Symbol(symbol(elm))=>NeXLSpectrum.measure_dissimilarity(sd2, det, elm) for elm in [n\"O\", n\"Mg\", n\"Al\", n\"Si\", n\"Ca\", n\"Fe\"] ]...\n",
    "))"
   ]
  },
  {
   "cell_type": "markdown",
   "metadata": {},
   "source": [
    "Interestingly, these are consistently slightly less than unity?  Why?"
   ]
  }
 ],
 "metadata": {
  "kernelspec": {
   "display_name": "Julia (4 threads) 1.7.1",
   "language": "julia",
   "name": "julia-(4-threads)-1.7"
  },
  "language_info": {
   "file_extension": ".jl",
   "mimetype": "application/julia",
   "name": "julia",
   "version": "1.7.1"
  },
  "orig_nbformat": 4
 },
 "nbformat": 4,
 "nbformat_minor": 2
}
