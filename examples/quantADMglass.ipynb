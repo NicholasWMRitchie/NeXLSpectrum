{
 "cells": [
  {
   "cell_type": "markdown",
   "metadata": {},
   "source": [
    "# Filter fitting example: ADM-6005a glass\n",
    "This example uses the low-level filter fitting functions to\n",
    "  * load spectra from EMSA files,\n",
    "  * builds a detector description and a top-hat filter,\n",
    "  * determines the regions-of-interest to fit,\n",
    "  * filter the reference spectra and unknowns\n",
    "  * plots various different perspectives on the fit process"
   ]
  },
  {
   "cell_type": "code",
   "execution_count": null,
   "metadata": {
    "scrolled": true
   },
   "outputs": [],
   "source": [
    "using Revise\n",
    "using NeXLCore\n",
    "using NeXLSpectrum\n",
    "using NeXLUncertainties\n",
    "using CSV\n",
    "using Gadfly\n",
    "using TimerOutputs\n",
    "using DataAPI\n",
    "using Statistics"
   ]
  },
  {
   "cell_type": "markdown",
   "metadata": {},
   "source": [
    "Load 15 unknowns and the reference spectra."
   ]
  },
  {
   "cell_type": "code",
   "execution_count": null,
   "metadata": {},
   "outputs": [],
   "source": [
    "dir = \"C:/Users/nicho/.julia/dev/NeXLSpectrum/test\"\n",
    "path = \"$(dir)/ADM6005a spectra/\"\n",
    "unks = readEMSA.(\"$(path)ADM-6005a_$(i).msa\" for i = 1:15)\n",
    "al = readEMSA(\"$(path)Al std.msa\")\n",
    "caf2 = readEMSA(\"$(path)CaF2 std.msa\")\n",
    "ge = readEMSA(\"$(path)Ge std.msa\")\n",
    "si = readEMSA(\"$(path)Si std.msa\")\n",
    "sio2 = readEMSA(\"$(path)SiO2 std.msa\")\n",
    "ti = readEMSA(\"$(path)Ti trimmed.msa\")\n",
    "zn = readEMSA(\"$(path)Zn std.msa\");"
   ]
  },
  {
   "cell_type": "markdown",
   "metadata": {},
   "source": [
    "Build a detector model and then the fitting filter based on the detector model.  The detector has 4096 channels of width 5.01716 eV/ch and a zero offset of -484.21 eV.  The FWHM at Mn Ka is 126.0 and there is a low-level discriminator cutoff of 120 channels to eliminate the zero-strobe peak.\n",
    "\n",
    "The filter is constructed using the variable width top-hat filter and stored in sparse matrix based on the specified detector.  The top of the hat is one FWHM and the base is one FWHM."
   ]
  },
  {
   "cell_type": "code",
   "execution_count": null,
   "metadata": {},
   "outputs": [],
   "source": [
    "to0 = TimerOutput()\n",
    "det = basicEDS(4096, 5.01716, -484.20818, 126.0, 120) # basicEDSwICC(4096, 5.01716, -484.20818, 126.0, 120)\n",
    "@timeit to0 \"VariableWidthFilter\" vwf = buildfilter(NeXLSpectrum.VariableWidthFilter, det, 1.0, 1.0);\n",
    "@timeit to0 \"ConstantWidthFilter\" cwf = buildfilter(NeXLSpectrum.ConstantWidthFilter, det, 1.0, 1.0);\n",
    "show(to0, allocations = true, compact = false)"
   ]
  },
  {
   "cell_type": "markdown",
   "metadata": {},
   "source": [
    "Applying the filter seems to be a slow operation.  So I've tried various different ways to optimize it.\n",
    "  * VariableFilter is a standard Matrix implemention of a filter that varies in width with the FWHM of the detector\n",
    "  * VariableSparseFilter moves the VariableFilter data to a sparse matrix\n",
    "  * ConstantWidthFilter is a sparse implementation of a standard Mn Ka FWHM filter\n",
    "  * FastFilter is a handcoded row-focused implementation of a sparse variable filter"
   ]
  },
  {
   "cell_type": "code",
   "execution_count": null,
   "metadata": {},
   "outputs": [],
   "source": [
    "to1 = TimerOutput()\n",
    "for i = 1:15\n",
    "    spec = unks[i]\n",
    "    @timeit to1 \"VariableWidthFilter\" unk = filter(spec, vwf, 1.0 / dose(spec))\n",
    "    @timeit to1 \"ConstantWidthFilter\" unk = filter(spec, cwf, 1.0 / dose(spec))\n",
    "end\n",
    "show(to1, allocations = true, compact = false)\n",
    "ff=vwf;"
   ]
  },
  {
   "cell_type": "markdown",
   "metadata": {},
   "source": [
    "The timing data suggests that the sparse matrix implementations are the fastest. The non-sparse implementations are terrible. The hand-coded version works less well than I'd suspect.  Maybe the optimizer doesn't handle it as well as the VariableSparseFilter. Still slower than I'd like but..."
   ]
  },
  {
   "cell_type": "markdown",
   "metadata": {},
   "source": [
    "Determine the fit region-of-interest for each element and shell of lines.  <code>characteristic(...)</code> creates a collection of characteristic X-rays.  The extended extent of these peaks as measured by the detector is determined by <code>extent(...)</code>.  The constant <code>ampl</code> determines the width.  Closer to zero produces broader fit regions."
   ]
  },
  {
   "cell_type": "code",
   "execution_count": null,
   "metadata": {},
   "outputs": [],
   "source": [
    "ampl = 1.0e-4\n",
    "alkroi = extent(characteristic(n\"Al\", ktransitions), det, ampl)\n",
    "cakroi = extent(characteristic(n\"Ca\", ktransitions), det, ampl)\n",
    "gelroi = extent(characteristic(n\"Ge\", ltransitions), det, ampl)\n",
    "gekaroi = extent(characteristic(n\"Ge\", kalpha), det, ampl)\n",
    "gekbroi = extent(characteristic(n\"Ge\", kother), det, ampl)\n",
    "okroi = extent(characteristic(n\"O\", ktransitions), det, ampl)\n",
    "sikroi = extent(characteristic(n\"Si\", ktransitions), det, ampl)\n",
    "tikroi = extent(characteristic(n\"Ti\", ktransitions), det, ampl)\n",
    "tilroi = extent(characteristic(n\"Ti\", ltransitions), det, ampl)\n",
    "znkaroi = extent(characteristic(n\"Zn\", kalpha), det, ampl)\n",
    "znkbroi = extent(characteristic(n\"Zn\", kother), det, ampl)\n",
    "znlroi = extent(characteristic(n\"Zn\", ltransitions), det, ampl);\n",
    "alkroi, cakroi, gelroi, gekaroi, gekbroi, okroi, sikroi, tikroi, tilroi, znkaroi, znkbroi, znlroi"
   ]
  },
  {
   "cell_type": "markdown",
   "metadata": {},
   "source": [
    "Filter the reference spectra over the regions-of-interest relevant to each.  Each reference spectrum is filtered over the specified range of channels using the top-hat filter <code>ff</code>."
   ]
  },
  {
   "cell_type": "code",
   "execution_count": null,
   "metadata": {},
   "outputs": [],
   "source": [
    "alk = filter(al, alkroi, ff, 1.0 / dose(al))\n",
    "cak = filter(caf2, cakroi, ff, 1.0 / dose(caf2))\n",
    "gel = filter(ge, gelroi, ff, 1.0 / dose(ge), n\"Ge L3\")\n",
    "geka = filter(ge, gekaroi, ff, 1.0 / dose(ge))\n",
    "gekb = filter(ge, gekbroi, ff, 1.0 / dose(ge))\n",
    "ok = filter(sio2, okroi, ff, 1.0 / dose(sio2), n\"O K\")\n",
    "sik = filter(si, sikroi, ff, 1.0 / dose(si), n\"Si K\")\n",
    "tik = filter(ti, tikroi, ff, 1.0 / dose(ti))\n",
    "til = filter(ti, tilroi, ff, 1.0 / dose(ti), n\"Ti K\")\n",
    "znka = filter(zn, znkaroi, ff, 1.0 / dose(zn))\n",
    "znkb = filter(zn, znkbroi, ff, 1.0 / dose(zn))\n",
    "znl = filter(zn, znlroi, ff, 1.0 / dose(zn), n\"Zn L3\")\n",
    "\n",
    "fds = [alk, cak, gel, geka, gekb, ok, sik, tik, til, znka, znkb, znl];"
   ]
  },
  {
   "cell_type": "markdown",
   "metadata": {},
   "source": [
    "Plot the standards, background and filtered data over the region-of-interests.  The blue curve is the spectrum data trimmed to the ROI identified by the vertical lines and extended using a linear extrapolation.  This minimizes the influence of nearby characteristic lines in the reference spectra (like for example Si K is near O K in SiO<sup>2</sup>)."
   ]
  },
  {
   "cell_type": "code",
   "execution_count": null,
   "metadata": {
    "scrolled": true
   },
   "outputs": [],
   "source": [
    "set_default_plot_size(10inch, 7inch)\n",
    "hstack(plot(znl),plot(ok))"
   ]
  },
  {
   "cell_type": "code",
   "execution_count": null,
   "metadata": {},
   "outputs": [],
   "source": [
    "set_default_plot_size(10inch, 40inch)\n",
    "vstack(collect(plot(fd) for fd in fds))"
   ]
  },
  {
   "cell_type": "markdown",
   "metadata": {},
   "source": [
    "Fit the subsampled unknown spectra against the filtered standard spectra."
   ]
  },
  {
   "cell_type": "code",
   "execution_count": null,
   "metadata": {},
   "outputs": [],
   "source": [
    "to = TimerOutput()\n",
    "res = Vector{FilterFitResult}()\n",
    "for i = 1:15\n",
    "    @timeit to \"subsample\" spec = subsample(unks[i],0.1)\n",
    "    @timeit to \"filter\" unk = filter(spec, ff, 1.0 / dose(spec))\n",
    "    @timeit to \"fit\" fit = filterfit(unk, fds, fitcontiguousg)\n",
    "    push!(res, fit)\n",
    "end\n",
    "show(to, allocations = true, compact = false)"
   ]
  },
  {
   "cell_type": "markdown",
   "metadata": {},
   "source": [
    "Interestingly applying the top-hat filter takes the longest, subsampling next and the actual fit is quite quick.\n",
    "\n",
    "Plot the unknown and the residual spectrum."
   ]
  },
  {
   "cell_type": "code",
   "execution_count": null,
   "metadata": {},
   "outputs": [],
   "source": [
    "set_default_plot_size(10inch, 4inch)\n",
    "plot(res[2])"
   ]
  },
  {
   "cell_type": "markdown",
   "metadata": {},
   "source": [
    "Plot the unknown and residual spectra over the filter fitting intervals."
   ]
  },
  {
   "cell_type": "code",
   "execution_count": null,
   "metadata": {},
   "outputs": [],
   "source": [
    "set_default_plot_size(10inch, 20inch)\n",
    "ffrois = ascontiguous( collect(fd.ffroi for fd in fds) )\n",
    "vstack(collect(plot(res[2], ffroi) for ffroi in ffrois))"
   ]
  },
  {
   "cell_type": "markdown",
   "metadata": {},
   "source": [
    "Summarize the k-ratio results in a table. "
   ]
  },
  {
   "cell_type": "code",
   "execution_count": null,
   "metadata": {
    "scrolled": true
   },
   "outputs": [],
   "source": [
    "df = NeXLUncertainties.tabulate(collect(r.kratios for r in res))\n",
    "# CSV.write(\"$(path)kratios.csv\",df)\n",
    "\n",
    "withenv(\"COLUMNS\" => 180) do\n",
    "    display(df)\n",
    "    display(DataAPI.describe(df,:mean, :median, :std, :q25, :q75))\n",
    "end"
   ]
  },
  {
   "cell_type": "markdown",
   "metadata": {},
   "source": [
    "Display the filtered unknown.  The zero-strobe peak has not been filtered because the \"lld\" (low level discriminator) has been specified in the detector model to cut it off."
   ]
  },
  {
   "cell_type": "code",
   "execution_count": null,
   "metadata": {},
   "outputs": [],
   "source": [
    "set_default_plot_size(10inch, 6inch)\n",
    "spec=subsample(unks[1],0.1)\n",
    "plot(filter(spec, ff, 1.0 / dose(spec)))"
   ]
  },
  {
   "cell_type": "code",
   "execution_count": null,
   "metadata": {},
   "outputs": [],
   "source": [
    "peak(spec::Spectrum, chs::UnitRange{Int})::Float64 =\n",
    "    sum(counts(spec,chs,Float64))-sum(modelBackground(spec,chs))\n",
    "\n",
    "kratio(unk::Spectrum, std::Spectrum, chs::UnitRange{Int}) =\n",
    "    peak(unk, chs)*dose(std)/(peak(std, chs)*dose(unk))    "
   ]
  },
  {
   "cell_type": "code",
   "execution_count": null,
   "metadata": {},
   "outputs": [],
   "source": [
    "mean(kratio(unk, zn, znkaroi) for unk in unks), mean(df[:,Symbol(\"Zn[1762:1873]\")])"
   ]
  },
  {
   "cell_type": "code",
   "execution_count": null,
   "metadata": {},
   "outputs": [],
   "source": [
    "mean(kratio(unk, ti, tikroi) for unk in unks), mean(df[:,Symbol(\"Ti[956:1117]\")])"
   ]
  },
  {
   "cell_type": "code",
   "execution_count": null,
   "metadata": {},
   "outputs": [],
   "source": [
    "mean(kratio(unk, caf2, cakroi) for unk in unks), mean(df[:,Symbol(\"CaF2[796:930]\")])"
   ]
  },
  {
   "cell_type": "code",
   "execution_count": null,
   "metadata": {},
   "outputs": [],
   "source": [
    "mean(kratio(unk, sio2, okroi) for unk in unks), mean(df[:,Symbol(\"SiO2[183:221]\")])"
   ]
  },
  {
   "cell_type": "code",
   "execution_count": null,
   "metadata": {},
   "outputs": [],
   "source": [
    "res = Vector{FilterFitResult}()\n",
    "for i = 1:100\n",
    "    spec = subsample(unks[1],0.1)\n",
    "    unk = filter(spec, ff, 1.0 / dose(spec))\n",
    "    fit = filterfit(unk, fds, fitcontiguousg)\n",
    "    push!(res, fit)\n",
    "end\n",
    "display(DataAPI.describe(NeXLSpectrum.tabulate(res, true),:mean, :std, :median, :q25, :q75))"
   ]
  },
  {
   "cell_type": "code",
   "execution_count": null,
   "metadata": {},
   "outputs": [],
   "source": []
  }
 ],
 "metadata": {
  "@webio": {
   "lastCommId": null,
   "lastKernelId": null
  },
  "kernelspec": {
   "display_name": "Julia 1.2.0",
   "language": "julia",
   "name": "julia-1.2"
  },
  "language_info": {
   "file_extension": ".jl",
   "mimetype": "application/julia",
   "name": "julia",
   "version": "1.2.0"
  }
 },
 "nbformat": 4,
 "nbformat_minor": 2
}
